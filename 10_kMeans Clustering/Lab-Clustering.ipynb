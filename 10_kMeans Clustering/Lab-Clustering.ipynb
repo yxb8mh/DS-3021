{
 "cells": [
  {
   "cell_type": "markdown",
   "metadata": {},
   "source": [
    "# Clustering Lab"
   ]
  },
  {
   "cell_type": "markdown",
   "metadata": {},
   "source": [
    " \n",
    "Based of the amazing work you did in the Movie Industry you've been recruited to the NBA! You are working as the VP of Analytics that helps support a head scout, Mr. Rooney, for the worst team in the NBA probably the Wizards. Mr. Rooney just heard about Data Science and thinks it can solve all the team's problems!!! He wants you to figure out a way to find players that are high performing but maybe not highly paid that you can steal to get the team to the playoffs!\n",
    "\n",
    "In this document you will work through a similar process that we did in class with the NBA data (NBA_Perf_22 and nba_salaries_22), merging them together. This is from 22-23 season, feel free to update to 2023-24 season if you want.\n",
    "Data Sources:\n",
    "https://www.basketball-reference.com/leagues/NBA_2024_totals.html # reference for performance data https://www.basketball-reference.com/contracts/players.html # reference for salary data\n",
    "\n",
    "Details:\n",
    "\n",
    "Determine a way to use clustering to estimate based on performance if players are under or over paid, generally.\n",
    "\n",
    "Then select players you believe would be best for your team and explain why. Do so in three categories:\n",
    "\n",
    "Examples that are not good choices (3 or 4)\n",
    "Several options that are good choices (3 or 4)\n",
    "Several options that could work, assuming you can't get the players in the good category (3 or 4)\n",
    "You will decide the cutoffs for each category, so you should be able to explain why you chose them.\n",
    "\n",
    "Provide a well commented and clean report of your findings in a separate notebook that can be presented to Mr. Rooney, keeping in mind he doesn't understand...anything. Include a rationale for variables you included in the model, details on your approach and a overview of the results with supporting visualizations.\n",
    "\n",
    "Hints:\n",
    "\n",
    "Salary is the variable you are trying to understand (not to predict, just understand)\n",
    "When interpreting you might want to use graphs that include variables that are the most correlated with Salary\n",
    "You'll need to scale the variables before performing the clustering\n",
    "Be specific about why you selected the players that you did, more detail is better\n",
    "Use good coding practices, comment heavily, indent, don't use for loops unless totally necessary and create modular sections that align with some outcome. If necessary create more than one script,list/load libraries at the top and don't include libraries that aren't used.\n",
    "Be careful for non-traditional characters in the players names, certain graphs won't work when these characters are included.\n",
    "\n",
    "choose something that best shows salary, \n"
   ]
  },
  {
   "cell_type": "code",
   "execution_count": null,
   "metadata": {
    "vscode": {
     "languageId": "plaintext"
    }
   },
   "outputs": [],
   "source": [
    "#Drop variables that will not be needed or are duplicates"
   ]
  },
  {
   "cell_type": "code",
   "execution_count": null,
   "metadata": {
    "vscode": {
     "languageId": "plaintext"
    }
   },
   "outputs": [],
   "source": [
    "#Run the clustering algo with your best guess for K"
   ]
  },
  {
   "cell_type": "code",
   "execution_count": null,
   "metadata": {
    "vscode": {
     "languageId": "plaintext"
    }
   },
   "outputs": [],
   "source": [
    "#View the results"
   ]
  },
  {
   "cell_type": "code",
   "execution_count": null,
   "metadata": {
    "vscode": {
     "languageId": "plaintext"
    }
   },
   "outputs": [],
   "source": [
    "#Create a visualization of the results with 2 or 3 variables that you think will best\n",
    "#differentiate the clusters"
   ]
  },
  {
   "cell_type": "code",
   "execution_count": null,
   "metadata": {
    "vscode": {
     "languageId": "plaintext"
    }
   },
   "outputs": [],
   "source": [
    "#Evaluate the quality of the clustering using total variance explained and silhouette scores"
   ]
  },
  {
   "cell_type": "code",
   "execution_count": null,
   "metadata": {
    "vscode": {
     "languageId": "plaintext"
    }
   },
   "outputs": [],
   "source": [
    "#Determine the ideal number of clusters using the elbow method and the silhouette coefficient"
   ]
  },
  {
   "cell_type": "code",
   "execution_count": null,
   "metadata": {
    "vscode": {
     "languageId": "plaintext"
    }
   },
   "outputs": [],
   "source": [
    "#Visualize the results of the elbow method"
   ]
  },
  {
   "cell_type": "code",
   "execution_count": null,
   "metadata": {
    "vscode": {
     "languageId": "plaintext"
    }
   },
   "outputs": [],
   "source": [
    "#Use the recommended number of cluster (assuming it's different) to retrain your model and visualize the results"
   ]
  },
  {
   "cell_type": "code",
   "execution_count": null,
   "metadata": {
    "vscode": {
     "languageId": "plaintext"
    }
   },
   "outputs": [],
   "source": [
    "#Once again evaluate the quality of the clustering using total variance explained and silhouette scores"
   ]
  },
  {
   "cell_type": "code",
   "execution_count": null,
   "metadata": {
    "vscode": {
     "languageId": "plaintext"
    }
   },
   "outputs": [],
   "source": [
    "#Use the model to select players for Mr. Rooney to consider"
   ]
  },
  {
   "cell_type": "code",
   "execution_count": null,
   "metadata": {
    "vscode": {
     "languageId": "plaintext"
    }
   },
   "outputs": [],
   "source": [
    "# Write up the results in a separate notebook with supporting visualizations and \n",
    "an overview of how and why you made the choices you did. This should be at least \n",
    "500 words and should be written for a non-technical audience."
   ]
  }
 ],
 "metadata": {
  "language_info": {
   "name": "python"
  }
 },
 "nbformat": 4,
 "nbformat_minor": 2
}
