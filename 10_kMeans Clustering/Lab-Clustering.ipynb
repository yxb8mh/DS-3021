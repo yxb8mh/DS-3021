{
 "cells": [
  {
   "cell_type": "markdown",
   "metadata": {},
   "source": [
    "# Clustering Lab"
   ]
  },
  {
   "cell_type": "markdown",
   "metadata": {},
   "source": [
    " \n",
    "Based of the amazing work you did in the Movie Industry you've been recruited to the NBA! You are working as the VP of Analytics that helps support a head scout, Mr. Rooney, for the worst team in the NBA probably the Wizards. Mr. Rooney just heard about Data Science and thinks it can solve all the team's problems!!! He wants you to figure out a way to find players that are high performing but maybe not highly paid that you can steal to get the team to the playoffs!\n",
    "\n",
    "In this document you will work through a similar process that we did in class with the NBA data (NBA_Perf_22 and nba_salaries_22), merging them together. This is from 22-23 season, feel free to update to 2023-24 season if you want.\n",
    "Data Sources:\n",
    "https://www.basketball-reference.com/leagues/NBA_2024_totals.html # reference for performance data https://www.basketball-reference.com/contracts/players.html # reference for salary data\n",
    "\n",
    "Details:\n",
    "\n",
    "Determine a way to use clustering to estimate based on performance if players are under or over paid, generally.\n",
    "\n",
    "Then select players you believe would be best for your team and explain why. Do so in three categories:\n",
    "\n",
    "Examples that are not good choices (3 or 4)\n",
    "Several options that are good choices (3 or 4)\n",
    "Several options that could work, assuming you can't get the players in the good category (3 or 4)\n",
    "You will decide the cutoffs for each category, so you should be able to explain why you chose them.\n",
    "\n",
    "Provide a well commented and clean report of your findings in a separate notebook that can be presented to Mr. Rooney, keeping in mind he doesn't understand...anything. Include a rationale for variables you included in the model, details on your approach and a overview of the results with supporting visualizations.\n",
    "\n",
    "Hints:\n",
    "\n",
    "Salary is the variable you are trying to understand (not to predict, just understand)\n",
    "When interpreting you might want to use graphs that include variables that are the most correlated with Salary\n",
    "You'll need to scale the variables before performing the clustering\n",
    "Be specific about why you selected the players that you did, more detail is better\n",
    "Use good coding practices, comment heavily, indent, don't use for loops unless totally necessary and create modular sections that align with some outcome. If necessary create more than one script,list/load libraries at the top and don't include libraries that aren't used.\n",
    "Be careful for non-traditional characters in the players names, certain graphs won't work when these characters are included.\n",
    "\n",
    "choose something that best shows salary, \n",
    "because there are so many basketball players names, you. might want to encode them (encoding=latin)"
   ]
  },
  {
   "cell_type": "code",
   "execution_count": 3,
   "metadata": {},
   "outputs": [],
   "source": [
    "import os\n",
    "import pandas as pd\n",
    "import numpy as np\n",
    "import plotly.express as px\n",
    "import plotly.graph_objects as go\n",
    "from sklearn.cluster import KMeans\n",
    "from sklearn.model_selection import train_test_split\n",
    "from sklearn.tree import DecisionTreeClassifier\n",
    "from sklearn.metrics import confusion_matrix"
   ]
  },
  {
   "cell_type": "code",
   "execution_count": 4,
   "metadata": {},
   "outputs": [
    {
     "data": {
      "application/vnd.microsoft.datawrangler.viewer.v0+json": {
       "columns": [
        {
         "name": "index",
         "rawType": "int64",
         "type": "integer"
        },
        {
         "name": "ï»¿Player",
         "rawType": "object",
         "type": "string"
        },
        {
         "name": "Salary",
         "rawType": "object",
         "type": "string"
        }
       ],
       "conversionMethod": "pd.DataFrame",
       "ref": "be13b673-217b-4259-b7fd-9d3e0033e1ad",
       "rows": [
        [
         "0",
         "Stephen Curry",
         "$48,070,014 "
        ],
        [
         "1",
         "Russell Westbrook",
         "$47,063,478 "
        ],
        [
         "2",
         "LeBron James",
         "$44,474,988 "
        ],
        [
         "3",
         "Kevin Durant",
         "$44,119,845 "
        ],
        [
         "4",
         "Bradley Beal",
         "$43,279,250 "
        ]
       ],
       "shape": {
        "columns": 2,
        "rows": 5
       }
      },
      "text/html": [
       "<div>\n",
       "<style scoped>\n",
       "    .dataframe tbody tr th:only-of-type {\n",
       "        vertical-align: middle;\n",
       "    }\n",
       "\n",
       "    .dataframe tbody tr th {\n",
       "        vertical-align: top;\n",
       "    }\n",
       "\n",
       "    .dataframe thead th {\n",
       "        text-align: right;\n",
       "    }\n",
       "</style>\n",
       "<table border=\"1\" class=\"dataframe\">\n",
       "  <thead>\n",
       "    <tr style=\"text-align: right;\">\n",
       "      <th></th>\n",
       "      <th>ï»¿Player</th>\n",
       "      <th>Salary</th>\n",
       "    </tr>\n",
       "  </thead>\n",
       "  <tbody>\n",
       "    <tr>\n",
       "      <th>0</th>\n",
       "      <td>Stephen Curry</td>\n",
       "      <td>$48,070,014</td>\n",
       "    </tr>\n",
       "    <tr>\n",
       "      <th>1</th>\n",
       "      <td>Russell Westbrook</td>\n",
       "      <td>$47,063,478</td>\n",
       "    </tr>\n",
       "    <tr>\n",
       "      <th>2</th>\n",
       "      <td>LeBron James</td>\n",
       "      <td>$44,474,988</td>\n",
       "    </tr>\n",
       "    <tr>\n",
       "      <th>3</th>\n",
       "      <td>Kevin Durant</td>\n",
       "      <td>$44,119,845</td>\n",
       "    </tr>\n",
       "    <tr>\n",
       "      <th>4</th>\n",
       "      <td>Bradley Beal</td>\n",
       "      <td>$43,279,250</td>\n",
       "    </tr>\n",
       "  </tbody>\n",
       "</table>\n",
       "</div>"
      ],
      "text/plain": [
       "           ï»¿Player        Salary\n",
       "0      Stephen Curry  $48,070,014 \n",
       "1  Russell Westbrook  $47,063,478 \n",
       "2       LeBron James  $44,474,988 \n",
       "3       Kevin Durant  $44,119,845 \n",
       "4       Bradley Beal  $43,279,250 "
      ]
     },
     "execution_count": 4,
     "metadata": {},
     "output_type": "execute_result"
    }
   ],
   "source": [
    "perf_df = pd.read_csv(\"/workspaces/DS-3021/data/nba_perf_22.csv\", encoding = \"latin\")\n",
    "nba_salary_df = pd.read_csv(\"/workspaces/DS-3021/data/nba_salaries_22.csv\", encoding = \"latin\")\n",
    "perf_df.head()\n",
    "nba_salary_df.head()"
   ]
  },
  {
   "cell_type": "markdown",
   "metadata": {},
   "source": [
    "# Drop variables that will not be needed or are duplicates"
   ]
  },
  {
   "cell_type": "markdown",
   "metadata": {},
   "source": [
    "##### clean salaries"
   ]
  },
  {
   "cell_type": "code",
   "execution_count": 5,
   "metadata": {},
   "outputs": [],
   "source": [
    "#rename the column to remove special characters\n",
    "nba_salary_df.rename(columns={'ï»¿Player': 'Player'}, inplace=True)"
   ]
  },
  {
   "cell_type": "code",
   "execution_count": 6,
   "metadata": {},
   "outputs": [
    {
     "name": "stderr",
     "output_type": "stream",
     "text": [
      "<>:2: SyntaxWarning: invalid escape sequence '\\$'\n",
      "<>:2: SyntaxWarning: invalid escape sequence '\\$'\n",
      "/tmp/ipykernel_681/3365881207.py:2: SyntaxWarning: invalid escape sequence '\\$'\n",
      "  nba_salary_df['Salary'] = nba_salary_df['Salary'].replace('[\\$,]', '', regex=True).astype(float)\n"
     ]
    },
    {
     "data": {
      "application/vnd.microsoft.datawrangler.viewer.v0+json": {
       "columns": [
        {
         "name": "index",
         "rawType": "int64",
         "type": "integer"
        },
        {
         "name": "Player",
         "rawType": "object",
         "type": "string"
        },
        {
         "name": "Salary",
         "rawType": "float64",
         "type": "float"
        }
       ],
       "conversionMethod": "pd.DataFrame",
       "ref": "c0a1540d-1fef-4261-8c8a-6b43d69565bc",
       "rows": [
        [
         "0",
         "Stephen Curry",
         "48070014.0"
        ],
        [
         "1",
         "Russell Westbrook",
         "47063478.0"
        ],
        [
         "2",
         "LeBron James",
         "44474988.0"
        ],
        [
         "3",
         "Kevin Durant",
         "44119845.0"
        ],
        [
         "4",
         "Bradley Beal",
         "43279250.0"
        ]
       ],
       "shape": {
        "columns": 2,
        "rows": 5
       }
      },
      "text/html": [
       "<div>\n",
       "<style scoped>\n",
       "    .dataframe tbody tr th:only-of-type {\n",
       "        vertical-align: middle;\n",
       "    }\n",
       "\n",
       "    .dataframe tbody tr th {\n",
       "        vertical-align: top;\n",
       "    }\n",
       "\n",
       "    .dataframe thead th {\n",
       "        text-align: right;\n",
       "    }\n",
       "</style>\n",
       "<table border=\"1\" class=\"dataframe\">\n",
       "  <thead>\n",
       "    <tr style=\"text-align: right;\">\n",
       "      <th></th>\n",
       "      <th>Player</th>\n",
       "      <th>Salary</th>\n",
       "    </tr>\n",
       "  </thead>\n",
       "  <tbody>\n",
       "    <tr>\n",
       "      <th>0</th>\n",
       "      <td>Stephen Curry</td>\n",
       "      <td>48070014.0</td>\n",
       "    </tr>\n",
       "    <tr>\n",
       "      <th>1</th>\n",
       "      <td>Russell Westbrook</td>\n",
       "      <td>47063478.0</td>\n",
       "    </tr>\n",
       "    <tr>\n",
       "      <th>2</th>\n",
       "      <td>LeBron James</td>\n",
       "      <td>44474988.0</td>\n",
       "    </tr>\n",
       "    <tr>\n",
       "      <th>3</th>\n",
       "      <td>Kevin Durant</td>\n",
       "      <td>44119845.0</td>\n",
       "    </tr>\n",
       "    <tr>\n",
       "      <th>4</th>\n",
       "      <td>Bradley Beal</td>\n",
       "      <td>43279250.0</td>\n",
       "    </tr>\n",
       "  </tbody>\n",
       "</table>\n",
       "</div>"
      ],
      "text/plain": [
       "              Player      Salary\n",
       "0      Stephen Curry  48070014.0\n",
       "1  Russell Westbrook  47063478.0\n",
       "2       LeBron James  44474988.0\n",
       "3       Kevin Durant  44119845.0\n",
       "4       Bradley Beal  43279250.0"
      ]
     },
     "execution_count": 6,
     "metadata": {},
     "output_type": "execute_result"
    }
   ],
   "source": [
    "#take out the dollar sign and commas, convert them to numerical values\n",
    "nba_salary_df['Salary'] = nba_salary_df['Salary'].replace('[\\$,]', '', regex=True).astype(float)\n",
    "nba_salary_df['Player'] = nba_salary_df['Player'].str.strip() #take the spacing between the naes\n",
    "nba_salary_df.head()\n"
   ]
  },
  {
   "cell_type": "markdown",
   "metadata": {},
   "source": [
    "#### clean performance data"
   ]
  },
  {
   "cell_type": "code",
   "execution_count": 12,
   "metadata": {},
   "outputs": [
    {
     "name": "stderr",
     "output_type": "stream",
     "text": [
      "/tmp/ipykernel_681/4126144861.py:7: SettingWithCopyWarning: \n",
      "A value is trying to be set on a copy of a slice from a DataFrame\n",
      "\n",
      "See the caveats in the documentation: https://pandas.pydata.org/pandas-docs/stable/user_guide/indexing.html#returning-a-view-versus-a-copy\n",
      "  new_perf_df.dropna(inplace=True)\n"
     ]
    },
    {
     "data": {
      "application/vnd.microsoft.datawrangler.viewer.v0+json": {
       "columns": [
        {
         "name": "index",
         "rawType": "int64",
         "type": "integer"
        },
        {
         "name": "G",
         "rawType": "int64",
         "type": "integer"
        },
        {
         "name": "MP",
         "rawType": "float64",
         "type": "float"
        },
        {
         "name": "FG%",
         "rawType": "float64",
         "type": "float"
        },
        {
         "name": "3P%",
         "rawType": "float64",
         "type": "float"
        },
        {
         "name": "2P%",
         "rawType": "float64",
         "type": "float"
        },
        {
         "name": "eFG%",
         "rawType": "float64",
         "type": "float"
        },
        {
         "name": "FT%",
         "rawType": "float64",
         "type": "float"
        },
        {
         "name": "TRB",
         "rawType": "float64",
         "type": "float"
        },
        {
         "name": "AST",
         "rawType": "float64",
         "type": "float"
        },
        {
         "name": "STL",
         "rawType": "float64",
         "type": "float"
        },
        {
         "name": "BLK",
         "rawType": "float64",
         "type": "float"
        },
        {
         "name": "TOV",
         "rawType": "float64",
         "type": "float"
        },
        {
         "name": "PTS",
         "rawType": "float64",
         "type": "float"
        }
       ],
       "conversionMethod": "pd.DataFrame",
       "ref": "461e5cd4-e75d-4e40-b113-cc0707c74939",
       "rows": [
        [
         "0",
         "73",
         "23.6",
         "0.439",
         "0.359",
         "0.468",
         "0.486",
         "0.595",
         "6.5",
         "1.1",
         "0.5",
         "0.6",
         "1.2",
         "9.1"
        ],
        [
         "1",
         "76",
         "26.3",
         "0.547",
         "0.0",
         "0.548",
         "0.547",
         "0.543",
         "10.0",
         "3.4",
         "0.9",
         "0.8",
         "1.5",
         "6.9"
        ],
        [
         "2",
         "56",
         "32.6",
         "0.557",
         "0.0",
         "0.562",
         "0.557",
         "0.753",
         "10.1",
         "3.4",
         "1.4",
         "0.8",
         "2.6",
         "19.1"
        ],
        [
         "3",
         "32",
         "11.3",
         "0.402",
         "0.125",
         "0.56",
         "0.424",
         "0.625",
         "2.7",
         "0.7",
         "0.2",
         "0.3",
         "0.5",
         "4.1"
        ],
        [
         "4",
         "47",
         "22.3",
         "0.55",
         "0.304",
         "0.578",
         "0.566",
         "0.873",
         "5.5",
         "0.9",
         "0.3",
         "1.0",
         "0.9",
         "12.9"
        ]
       ],
       "shape": {
        "columns": 13,
        "rows": 5
       }
      },
      "text/html": [
       "<div>\n",
       "<style scoped>\n",
       "    .dataframe tbody tr th:only-of-type {\n",
       "        vertical-align: middle;\n",
       "    }\n",
       "\n",
       "    .dataframe tbody tr th {\n",
       "        vertical-align: top;\n",
       "    }\n",
       "\n",
       "    .dataframe thead th {\n",
       "        text-align: right;\n",
       "    }\n",
       "</style>\n",
       "<table border=\"1\" class=\"dataframe\">\n",
       "  <thead>\n",
       "    <tr style=\"text-align: right;\">\n",
       "      <th></th>\n",
       "      <th>G</th>\n",
       "      <th>MP</th>\n",
       "      <th>FG%</th>\n",
       "      <th>3P%</th>\n",
       "      <th>2P%</th>\n",
       "      <th>eFG%</th>\n",
       "      <th>FT%</th>\n",
       "      <th>TRB</th>\n",
       "      <th>AST</th>\n",
       "      <th>STL</th>\n",
       "      <th>BLK</th>\n",
       "      <th>TOV</th>\n",
       "      <th>PTS</th>\n",
       "    </tr>\n",
       "  </thead>\n",
       "  <tbody>\n",
       "    <tr>\n",
       "      <th>0</th>\n",
       "      <td>73</td>\n",
       "      <td>23.6</td>\n",
       "      <td>0.439</td>\n",
       "      <td>0.359</td>\n",
       "      <td>0.468</td>\n",
       "      <td>0.486</td>\n",
       "      <td>0.595</td>\n",
       "      <td>6.5</td>\n",
       "      <td>1.1</td>\n",
       "      <td>0.5</td>\n",
       "      <td>0.6</td>\n",
       "      <td>1.2</td>\n",
       "      <td>9.1</td>\n",
       "    </tr>\n",
       "    <tr>\n",
       "      <th>1</th>\n",
       "      <td>76</td>\n",
       "      <td>26.3</td>\n",
       "      <td>0.547</td>\n",
       "      <td>0.000</td>\n",
       "      <td>0.548</td>\n",
       "      <td>0.547</td>\n",
       "      <td>0.543</td>\n",
       "      <td>10.0</td>\n",
       "      <td>3.4</td>\n",
       "      <td>0.9</td>\n",
       "      <td>0.8</td>\n",
       "      <td>1.5</td>\n",
       "      <td>6.9</td>\n",
       "    </tr>\n",
       "    <tr>\n",
       "      <th>2</th>\n",
       "      <td>56</td>\n",
       "      <td>32.6</td>\n",
       "      <td>0.557</td>\n",
       "      <td>0.000</td>\n",
       "      <td>0.562</td>\n",
       "      <td>0.557</td>\n",
       "      <td>0.753</td>\n",
       "      <td>10.1</td>\n",
       "      <td>3.4</td>\n",
       "      <td>1.4</td>\n",
       "      <td>0.8</td>\n",
       "      <td>2.6</td>\n",
       "      <td>19.1</td>\n",
       "    </tr>\n",
       "    <tr>\n",
       "      <th>3</th>\n",
       "      <td>32</td>\n",
       "      <td>11.3</td>\n",
       "      <td>0.402</td>\n",
       "      <td>0.125</td>\n",
       "      <td>0.560</td>\n",
       "      <td>0.424</td>\n",
       "      <td>0.625</td>\n",
       "      <td>2.7</td>\n",
       "      <td>0.7</td>\n",
       "      <td>0.2</td>\n",
       "      <td>0.3</td>\n",
       "      <td>0.5</td>\n",
       "      <td>4.1</td>\n",
       "    </tr>\n",
       "    <tr>\n",
       "      <th>4</th>\n",
       "      <td>47</td>\n",
       "      <td>22.3</td>\n",
       "      <td>0.550</td>\n",
       "      <td>0.304</td>\n",
       "      <td>0.578</td>\n",
       "      <td>0.566</td>\n",
       "      <td>0.873</td>\n",
       "      <td>5.5</td>\n",
       "      <td>0.9</td>\n",
       "      <td>0.3</td>\n",
       "      <td>1.0</td>\n",
       "      <td>0.9</td>\n",
       "      <td>12.9</td>\n",
       "    </tr>\n",
       "  </tbody>\n",
       "</table>\n",
       "</div>"
      ],
      "text/plain": [
       "    G    MP    FG%    3P%    2P%   eFG%    FT%   TRB  AST  STL  BLK  TOV   PTS\n",
       "0  73  23.6  0.439  0.359  0.468  0.486  0.595   6.5  1.1  0.5  0.6  1.2   9.1\n",
       "1  76  26.3  0.547  0.000  0.548  0.547  0.543  10.0  3.4  0.9  0.8  1.5   6.9\n",
       "2  56  32.6  0.557  0.000  0.562  0.557  0.753  10.1  3.4  1.4  0.8  2.6  19.1\n",
       "3  32  11.3  0.402  0.125  0.560  0.424  0.625   2.7  0.7  0.2  0.3  0.5   4.1\n",
       "4  47  22.3  0.550  0.304  0.578  0.566  0.873   5.5  0.9  0.3  1.0  0.9  12.9"
      ]
     },
     "execution_count": 12,
     "metadata": {},
     "output_type": "execute_result"
    }
   ],
   "source": [
    "perf_df['Player'] = perf_df['Player'].str.strip() #same thing, take the spacing between the names\n",
    "\n",
    "#dropped a couples columns that are not necessary and overlapped with others\n",
    "features = ['G', 'MP', 'FG%', '3P%', '2P%', 'eFG%', 'FT%','TRB', 'AST', 'STL', 'BLK', 'TOV', 'PTS']\n",
    "new_perf_df = perf_df[features]\n",
    "\n",
    "new_perf_df.dropna(inplace=True)\n",
    "new_perf_df.head()\n"
   ]
  },
  {
   "cell_type": "markdown",
   "metadata": {},
   "source": [
    "#### merge 2 datasets"
   ]
  },
  {
   "cell_type": "code",
   "execution_count": 13,
   "metadata": {},
   "outputs": [
    {
     "data": {
      "application/vnd.microsoft.datawrangler.viewer.v0+json": {
       "columns": [
        {
         "name": "index",
         "rawType": "int64",
         "type": "integer"
        },
        {
         "name": "Player",
         "rawType": "object",
         "type": "string"
        },
        {
         "name": "Pos",
         "rawType": "object",
         "type": "string"
        },
        {
         "name": "Age",
         "rawType": "int64",
         "type": "integer"
        },
        {
         "name": "Tm",
         "rawType": "object",
         "type": "string"
        },
        {
         "name": "G",
         "rawType": "int64",
         "type": "integer"
        },
        {
         "name": "GS",
         "rawType": "int64",
         "type": "integer"
        },
        {
         "name": "MP",
         "rawType": "float64",
         "type": "float"
        },
        {
         "name": "FG",
         "rawType": "float64",
         "type": "float"
        },
        {
         "name": "FGA",
         "rawType": "float64",
         "type": "float"
        },
        {
         "name": "FG%",
         "rawType": "float64",
         "type": "float"
        },
        {
         "name": "3P",
         "rawType": "float64",
         "type": "float"
        },
        {
         "name": "3PA",
         "rawType": "float64",
         "type": "float"
        },
        {
         "name": "3P%",
         "rawType": "float64",
         "type": "float"
        },
        {
         "name": "2P",
         "rawType": "float64",
         "type": "float"
        },
        {
         "name": "2PA",
         "rawType": "float64",
         "type": "float"
        },
        {
         "name": "2P%",
         "rawType": "float64",
         "type": "float"
        },
        {
         "name": "eFG%",
         "rawType": "float64",
         "type": "float"
        },
        {
         "name": "FT",
         "rawType": "float64",
         "type": "float"
        },
        {
         "name": "FTA",
         "rawType": "float64",
         "type": "float"
        },
        {
         "name": "FT%",
         "rawType": "float64",
         "type": "float"
        },
        {
         "name": "ORB",
         "rawType": "float64",
         "type": "float"
        },
        {
         "name": "DRB",
         "rawType": "float64",
         "type": "float"
        },
        {
         "name": "TRB",
         "rawType": "float64",
         "type": "float"
        },
        {
         "name": "AST",
         "rawType": "float64",
         "type": "float"
        },
        {
         "name": "STL",
         "rawType": "float64",
         "type": "float"
        },
        {
         "name": "BLK",
         "rawType": "float64",
         "type": "float"
        },
        {
         "name": "TOV",
         "rawType": "float64",
         "type": "float"
        },
        {
         "name": "PF",
         "rawType": "float64",
         "type": "float"
        },
        {
         "name": "PTS",
         "rawType": "float64",
         "type": "float"
        },
        {
         "name": "Salary",
         "rawType": "float64",
         "type": "float"
        }
       ],
       "conversionMethod": "pd.DataFrame",
       "ref": "3267cd81-9d09-4136-8fa1-956b1b3d2f2d",
       "rows": [
        [
         "0",
         "Precious Achiuwa",
         "C",
         "22",
         "TOR",
         "73",
         "28",
         "23.6",
         "3.6",
         "8.3",
         "0.439",
         "0.8",
         "2.1",
         "0.359",
         "2.9",
         "6.1",
         "0.468",
         "0.486",
         "1.1",
         "1.8",
         "0.595",
         "2.0",
         "4.5",
         "6.5",
         "1.1",
         "0.5",
         "0.6",
         "1.2",
         "2.1",
         "9.1",
         "2840160.0"
        ],
        [
         "1",
         "Steven Adams",
         "C",
         "28",
         "MEM",
         "76",
         "75",
         "26.3",
         "2.8",
         "5.1",
         "0.547",
         "0.0",
         "0.0",
         "0.0",
         "2.8",
         "5.0",
         "0.548",
         "0.547",
         "1.4",
         "2.6",
         "0.543",
         "4.6",
         "5.4",
         "10.0",
         "3.4",
         "0.9",
         "0.8",
         "1.5",
         "2.0",
         "6.9",
         "17926829.0"
        ],
        [
         "2",
         "Bam Adebayo",
         "C",
         "24",
         "MIA",
         "56",
         "56",
         "32.6",
         "7.3",
         "13.0",
         "0.557",
         "0.0",
         "0.1",
         "0.0",
         "7.3",
         "12.9",
         "0.562",
         "0.557",
         "4.6",
         "6.1",
         "0.753",
         "2.4",
         "7.6",
         "10.1",
         "3.4",
         "1.4",
         "0.8",
         "2.6",
         "3.1",
         "19.1",
         "30351780.0"
        ],
        [
         "3",
         "Santi Aldama",
         "PF",
         "21",
         "MEM",
         "32",
         "0",
         "11.3",
         "1.7",
         "4.1",
         "0.402",
         "0.2",
         "1.5",
         "0.125",
         "1.5",
         "2.6",
         "0.56",
         "0.424",
         "0.6",
         "1.0",
         "0.625",
         "1.0",
         "1.7",
         "2.7",
         "0.7",
         "0.2",
         "0.3",
         "0.5",
         "1.1",
         "4.1",
         "2094120.0"
        ],
        [
         "4",
         "Nickeil Alexander-Walker",
         "SG",
         "23",
         "TOT",
         "65",
         "21",
         "22.6",
         "3.9",
         "10.5",
         "0.372",
         "1.6",
         "5.2",
         "0.311",
         "2.3",
         "5.3",
         "0.433",
         "0.449",
         "1.2",
         "1.7",
         "0.743",
         "0.6",
         "2.3",
         "2.9",
         "2.4",
         "0.7",
         "0.4",
         "1.4",
         "1.6",
         "10.6",
         "5009633.0"
        ]
       ],
       "shape": {
        "columns": 30,
        "rows": 5
       }
      },
      "text/html": [
       "<div>\n",
       "<style scoped>\n",
       "    .dataframe tbody tr th:only-of-type {\n",
       "        vertical-align: middle;\n",
       "    }\n",
       "\n",
       "    .dataframe tbody tr th {\n",
       "        vertical-align: top;\n",
       "    }\n",
       "\n",
       "    .dataframe thead th {\n",
       "        text-align: right;\n",
       "    }\n",
       "</style>\n",
       "<table border=\"1\" class=\"dataframe\">\n",
       "  <thead>\n",
       "    <tr style=\"text-align: right;\">\n",
       "      <th></th>\n",
       "      <th>Player</th>\n",
       "      <th>Pos</th>\n",
       "      <th>Age</th>\n",
       "      <th>Tm</th>\n",
       "      <th>G</th>\n",
       "      <th>GS</th>\n",
       "      <th>MP</th>\n",
       "      <th>FG</th>\n",
       "      <th>FGA</th>\n",
       "      <th>FG%</th>\n",
       "      <th>...</th>\n",
       "      <th>ORB</th>\n",
       "      <th>DRB</th>\n",
       "      <th>TRB</th>\n",
       "      <th>AST</th>\n",
       "      <th>STL</th>\n",
       "      <th>BLK</th>\n",
       "      <th>TOV</th>\n",
       "      <th>PF</th>\n",
       "      <th>PTS</th>\n",
       "      <th>Salary</th>\n",
       "    </tr>\n",
       "  </thead>\n",
       "  <tbody>\n",
       "    <tr>\n",
       "      <th>0</th>\n",
       "      <td>Precious Achiuwa</td>\n",
       "      <td>C</td>\n",
       "      <td>22</td>\n",
       "      <td>TOR</td>\n",
       "      <td>73</td>\n",
       "      <td>28</td>\n",
       "      <td>23.6</td>\n",
       "      <td>3.6</td>\n",
       "      <td>8.3</td>\n",
       "      <td>0.439</td>\n",
       "      <td>...</td>\n",
       "      <td>2.0</td>\n",
       "      <td>4.5</td>\n",
       "      <td>6.5</td>\n",
       "      <td>1.1</td>\n",
       "      <td>0.5</td>\n",
       "      <td>0.6</td>\n",
       "      <td>1.2</td>\n",
       "      <td>2.1</td>\n",
       "      <td>9.1</td>\n",
       "      <td>2840160.0</td>\n",
       "    </tr>\n",
       "    <tr>\n",
       "      <th>1</th>\n",
       "      <td>Steven Adams</td>\n",
       "      <td>C</td>\n",
       "      <td>28</td>\n",
       "      <td>MEM</td>\n",
       "      <td>76</td>\n",
       "      <td>75</td>\n",
       "      <td>26.3</td>\n",
       "      <td>2.8</td>\n",
       "      <td>5.1</td>\n",
       "      <td>0.547</td>\n",
       "      <td>...</td>\n",
       "      <td>4.6</td>\n",
       "      <td>5.4</td>\n",
       "      <td>10.0</td>\n",
       "      <td>3.4</td>\n",
       "      <td>0.9</td>\n",
       "      <td>0.8</td>\n",
       "      <td>1.5</td>\n",
       "      <td>2.0</td>\n",
       "      <td>6.9</td>\n",
       "      <td>17926829.0</td>\n",
       "    </tr>\n",
       "    <tr>\n",
       "      <th>2</th>\n",
       "      <td>Bam Adebayo</td>\n",
       "      <td>C</td>\n",
       "      <td>24</td>\n",
       "      <td>MIA</td>\n",
       "      <td>56</td>\n",
       "      <td>56</td>\n",
       "      <td>32.6</td>\n",
       "      <td>7.3</td>\n",
       "      <td>13.0</td>\n",
       "      <td>0.557</td>\n",
       "      <td>...</td>\n",
       "      <td>2.4</td>\n",
       "      <td>7.6</td>\n",
       "      <td>10.1</td>\n",
       "      <td>3.4</td>\n",
       "      <td>1.4</td>\n",
       "      <td>0.8</td>\n",
       "      <td>2.6</td>\n",
       "      <td>3.1</td>\n",
       "      <td>19.1</td>\n",
       "      <td>30351780.0</td>\n",
       "    </tr>\n",
       "    <tr>\n",
       "      <th>3</th>\n",
       "      <td>Santi Aldama</td>\n",
       "      <td>PF</td>\n",
       "      <td>21</td>\n",
       "      <td>MEM</td>\n",
       "      <td>32</td>\n",
       "      <td>0</td>\n",
       "      <td>11.3</td>\n",
       "      <td>1.7</td>\n",
       "      <td>4.1</td>\n",
       "      <td>0.402</td>\n",
       "      <td>...</td>\n",
       "      <td>1.0</td>\n",
       "      <td>1.7</td>\n",
       "      <td>2.7</td>\n",
       "      <td>0.7</td>\n",
       "      <td>0.2</td>\n",
       "      <td>0.3</td>\n",
       "      <td>0.5</td>\n",
       "      <td>1.1</td>\n",
       "      <td>4.1</td>\n",
       "      <td>2094120.0</td>\n",
       "    </tr>\n",
       "    <tr>\n",
       "      <th>4</th>\n",
       "      <td>Nickeil Alexander-Walker</td>\n",
       "      <td>SG</td>\n",
       "      <td>23</td>\n",
       "      <td>TOT</td>\n",
       "      <td>65</td>\n",
       "      <td>21</td>\n",
       "      <td>22.6</td>\n",
       "      <td>3.9</td>\n",
       "      <td>10.5</td>\n",
       "      <td>0.372</td>\n",
       "      <td>...</td>\n",
       "      <td>0.6</td>\n",
       "      <td>2.3</td>\n",
       "      <td>2.9</td>\n",
       "      <td>2.4</td>\n",
       "      <td>0.7</td>\n",
       "      <td>0.4</td>\n",
       "      <td>1.4</td>\n",
       "      <td>1.6</td>\n",
       "      <td>10.6</td>\n",
       "      <td>5009633.0</td>\n",
       "    </tr>\n",
       "  </tbody>\n",
       "</table>\n",
       "<p>5 rows × 30 columns</p>\n",
       "</div>"
      ],
      "text/plain": [
       "                     Player Pos  Age   Tm   G  GS    MP   FG   FGA    FG%  \\\n",
       "0          Precious Achiuwa   C   22  TOR  73  28  23.6  3.6   8.3  0.439   \n",
       "1              Steven Adams   C   28  MEM  76  75  26.3  2.8   5.1  0.547   \n",
       "2               Bam Adebayo   C   24  MIA  56  56  32.6  7.3  13.0  0.557   \n",
       "3              Santi Aldama  PF   21  MEM  32   0  11.3  1.7   4.1  0.402   \n",
       "4  Nickeil Alexander-Walker  SG   23  TOT  65  21  22.6  3.9  10.5  0.372   \n",
       "\n",
       "   ...  ORB  DRB   TRB  AST  STL  BLK  TOV   PF   PTS      Salary  \n",
       "0  ...  2.0  4.5   6.5  1.1  0.5  0.6  1.2  2.1   9.1   2840160.0  \n",
       "1  ...  4.6  5.4  10.0  3.4  0.9  0.8  1.5  2.0   6.9  17926829.0  \n",
       "2  ...  2.4  7.6  10.1  3.4  1.4  0.8  2.6  3.1  19.1  30351780.0  \n",
       "3  ...  1.0  1.7   2.7  0.7  0.2  0.3  0.5  1.1   4.1   2094120.0  \n",
       "4  ...  0.6  2.3   2.9  2.4  0.7  0.4  1.4  1.6  10.6   5009633.0  \n",
       "\n",
       "[5 rows x 30 columns]"
      ]
     },
     "execution_count": 13,
     "metadata": {},
     "output_type": "execute_result"
    }
   ],
   "source": [
    "#merge by matching player names\n",
    "df = pd.merge(perf_df, nba_salary_df, on='Player', how='inner')\n",
    "df.dropna(inplace=True)\n",
    "df.reset_index(drop=True, inplace=True)\n",
    "\n",
    "df.head()\n"
   ]
  },
  {
   "cell_type": "markdown",
   "metadata": {},
   "source": [
    "# Run the clustering algo with your best guess for K"
   ]
  },
  {
   "cell_type": "code",
   "execution_count": 14,
   "metadata": {},
   "outputs": [],
   "source": [
    "from sklearn.cluster import KMeans\n",
    "from sklearn.preprocessing import StandardScaler\n",
    "\n",
    "# Scale the features\n",
    "scaler = StandardScaler()\n",
    "X_scaled = scaler.fit_transform(df[features])\n",
    "\n",
    "# Run KMeans clustering with best guess k=2\n",
    "kmeans = KMeans(n_clusters=2, random_state=42, n_init=10)\n",
    "kmeans.fit(X_scaled)\n",
    "\n",
    "# Assign cluster labels to dataframe\n",
    "df['Cluster'] = kmeans.labels_"
   ]
  },
  {
   "cell_type": "code",
   "execution_count": 15,
   "metadata": {},
   "outputs": [
    {
     "data": {
      "text/html": [
       "<style>#sk-container-id-2 {\n",
       "  /* Definition of color scheme common for light and dark mode */\n",
       "  --sklearn-color-text: #000;\n",
       "  --sklearn-color-text-muted: #666;\n",
       "  --sklearn-color-line: gray;\n",
       "  /* Definition of color scheme for unfitted estimators */\n",
       "  --sklearn-color-unfitted-level-0: #fff5e6;\n",
       "  --sklearn-color-unfitted-level-1: #f6e4d2;\n",
       "  --sklearn-color-unfitted-level-2: #ffe0b3;\n",
       "  --sklearn-color-unfitted-level-3: chocolate;\n",
       "  /* Definition of color scheme for fitted estimators */\n",
       "  --sklearn-color-fitted-level-0: #f0f8ff;\n",
       "  --sklearn-color-fitted-level-1: #d4ebff;\n",
       "  --sklearn-color-fitted-level-2: #b3dbfd;\n",
       "  --sklearn-color-fitted-level-3: cornflowerblue;\n",
       "\n",
       "  /* Specific color for light theme */\n",
       "  --sklearn-color-text-on-default-background: var(--sg-text-color, var(--theme-code-foreground, var(--jp-content-font-color1, black)));\n",
       "  --sklearn-color-background: var(--sg-background-color, var(--theme-background, var(--jp-layout-color0, white)));\n",
       "  --sklearn-color-border-box: var(--sg-text-color, var(--theme-code-foreground, var(--jp-content-font-color1, black)));\n",
       "  --sklearn-color-icon: #696969;\n",
       "\n",
       "  @media (prefers-color-scheme: dark) {\n",
       "    /* Redefinition of color scheme for dark theme */\n",
       "    --sklearn-color-text-on-default-background: var(--sg-text-color, var(--theme-code-foreground, var(--jp-content-font-color1, white)));\n",
       "    --sklearn-color-background: var(--sg-background-color, var(--theme-background, var(--jp-layout-color0, #111)));\n",
       "    --sklearn-color-border-box: var(--sg-text-color, var(--theme-code-foreground, var(--jp-content-font-color1, white)));\n",
       "    --sklearn-color-icon: #878787;\n",
       "  }\n",
       "}\n",
       "\n",
       "#sk-container-id-2 {\n",
       "  color: var(--sklearn-color-text);\n",
       "}\n",
       "\n",
       "#sk-container-id-2 pre {\n",
       "  padding: 0;\n",
       "}\n",
       "\n",
       "#sk-container-id-2 input.sk-hidden--visually {\n",
       "  border: 0;\n",
       "  clip: rect(1px 1px 1px 1px);\n",
       "  clip: rect(1px, 1px, 1px, 1px);\n",
       "  height: 1px;\n",
       "  margin: -1px;\n",
       "  overflow: hidden;\n",
       "  padding: 0;\n",
       "  position: absolute;\n",
       "  width: 1px;\n",
       "}\n",
       "\n",
       "#sk-container-id-2 div.sk-dashed-wrapped {\n",
       "  border: 1px dashed var(--sklearn-color-line);\n",
       "  margin: 0 0.4em 0.5em 0.4em;\n",
       "  box-sizing: border-box;\n",
       "  padding-bottom: 0.4em;\n",
       "  background-color: var(--sklearn-color-background);\n",
       "}\n",
       "\n",
       "#sk-container-id-2 div.sk-container {\n",
       "  /* jupyter's `normalize.less` sets `[hidden] { display: none; }`\n",
       "     but bootstrap.min.css set `[hidden] { display: none !important; }`\n",
       "     so we also need the `!important` here to be able to override the\n",
       "     default hidden behavior on the sphinx rendered scikit-learn.org.\n",
       "     See: https://github.com/scikit-learn/scikit-learn/issues/21755 */\n",
       "  display: inline-block !important;\n",
       "  position: relative;\n",
       "}\n",
       "\n",
       "#sk-container-id-2 div.sk-text-repr-fallback {\n",
       "  display: none;\n",
       "}\n",
       "\n",
       "div.sk-parallel-item,\n",
       "div.sk-serial,\n",
       "div.sk-item {\n",
       "  /* draw centered vertical line to link estimators */\n",
       "  background-image: linear-gradient(var(--sklearn-color-text-on-default-background), var(--sklearn-color-text-on-default-background));\n",
       "  background-size: 2px 100%;\n",
       "  background-repeat: no-repeat;\n",
       "  background-position: center center;\n",
       "}\n",
       "\n",
       "/* Parallel-specific style estimator block */\n",
       "\n",
       "#sk-container-id-2 div.sk-parallel-item::after {\n",
       "  content: \"\";\n",
       "  width: 100%;\n",
       "  border-bottom: 2px solid var(--sklearn-color-text-on-default-background);\n",
       "  flex-grow: 1;\n",
       "}\n",
       "\n",
       "#sk-container-id-2 div.sk-parallel {\n",
       "  display: flex;\n",
       "  align-items: stretch;\n",
       "  justify-content: center;\n",
       "  background-color: var(--sklearn-color-background);\n",
       "  position: relative;\n",
       "}\n",
       "\n",
       "#sk-container-id-2 div.sk-parallel-item {\n",
       "  display: flex;\n",
       "  flex-direction: column;\n",
       "}\n",
       "\n",
       "#sk-container-id-2 div.sk-parallel-item:first-child::after {\n",
       "  align-self: flex-end;\n",
       "  width: 50%;\n",
       "}\n",
       "\n",
       "#sk-container-id-2 div.sk-parallel-item:last-child::after {\n",
       "  align-self: flex-start;\n",
       "  width: 50%;\n",
       "}\n",
       "\n",
       "#sk-container-id-2 div.sk-parallel-item:only-child::after {\n",
       "  width: 0;\n",
       "}\n",
       "\n",
       "/* Serial-specific style estimator block */\n",
       "\n",
       "#sk-container-id-2 div.sk-serial {\n",
       "  display: flex;\n",
       "  flex-direction: column;\n",
       "  align-items: center;\n",
       "  background-color: var(--sklearn-color-background);\n",
       "  padding-right: 1em;\n",
       "  padding-left: 1em;\n",
       "}\n",
       "\n",
       "\n",
       "/* Toggleable style: style used for estimator/Pipeline/ColumnTransformer box that is\n",
       "clickable and can be expanded/collapsed.\n",
       "- Pipeline and ColumnTransformer use this feature and define the default style\n",
       "- Estimators will overwrite some part of the style using the `sk-estimator` class\n",
       "*/\n",
       "\n",
       "/* Pipeline and ColumnTransformer style (default) */\n",
       "\n",
       "#sk-container-id-2 div.sk-toggleable {\n",
       "  /* Default theme specific background. It is overwritten whether we have a\n",
       "  specific estimator or a Pipeline/ColumnTransformer */\n",
       "  background-color: var(--sklearn-color-background);\n",
       "}\n",
       "\n",
       "/* Toggleable label */\n",
       "#sk-container-id-2 label.sk-toggleable__label {\n",
       "  cursor: pointer;\n",
       "  display: flex;\n",
       "  width: 100%;\n",
       "  margin-bottom: 0;\n",
       "  padding: 0.5em;\n",
       "  box-sizing: border-box;\n",
       "  text-align: center;\n",
       "  align-items: start;\n",
       "  justify-content: space-between;\n",
       "  gap: 0.5em;\n",
       "}\n",
       "\n",
       "#sk-container-id-2 label.sk-toggleable__label .caption {\n",
       "  font-size: 0.6rem;\n",
       "  font-weight: lighter;\n",
       "  color: var(--sklearn-color-text-muted);\n",
       "}\n",
       "\n",
       "#sk-container-id-2 label.sk-toggleable__label-arrow:before {\n",
       "  /* Arrow on the left of the label */\n",
       "  content: \"▸\";\n",
       "  float: left;\n",
       "  margin-right: 0.25em;\n",
       "  color: var(--sklearn-color-icon);\n",
       "}\n",
       "\n",
       "#sk-container-id-2 label.sk-toggleable__label-arrow:hover:before {\n",
       "  color: var(--sklearn-color-text);\n",
       "}\n",
       "\n",
       "/* Toggleable content - dropdown */\n",
       "\n",
       "#sk-container-id-2 div.sk-toggleable__content {\n",
       "  max-height: 0;\n",
       "  max-width: 0;\n",
       "  overflow: hidden;\n",
       "  text-align: left;\n",
       "  /* unfitted */\n",
       "  background-color: var(--sklearn-color-unfitted-level-0);\n",
       "}\n",
       "\n",
       "#sk-container-id-2 div.sk-toggleable__content.fitted {\n",
       "  /* fitted */\n",
       "  background-color: var(--sklearn-color-fitted-level-0);\n",
       "}\n",
       "\n",
       "#sk-container-id-2 div.sk-toggleable__content pre {\n",
       "  margin: 0.2em;\n",
       "  border-radius: 0.25em;\n",
       "  color: var(--sklearn-color-text);\n",
       "  /* unfitted */\n",
       "  background-color: var(--sklearn-color-unfitted-level-0);\n",
       "}\n",
       "\n",
       "#sk-container-id-2 div.sk-toggleable__content.fitted pre {\n",
       "  /* unfitted */\n",
       "  background-color: var(--sklearn-color-fitted-level-0);\n",
       "}\n",
       "\n",
       "#sk-container-id-2 input.sk-toggleable__control:checked~div.sk-toggleable__content {\n",
       "  /* Expand drop-down */\n",
       "  max-height: 200px;\n",
       "  max-width: 100%;\n",
       "  overflow: auto;\n",
       "}\n",
       "\n",
       "#sk-container-id-2 input.sk-toggleable__control:checked~label.sk-toggleable__label-arrow:before {\n",
       "  content: \"▾\";\n",
       "}\n",
       "\n",
       "/* Pipeline/ColumnTransformer-specific style */\n",
       "\n",
       "#sk-container-id-2 div.sk-label input.sk-toggleable__control:checked~label.sk-toggleable__label {\n",
       "  color: var(--sklearn-color-text);\n",
       "  background-color: var(--sklearn-color-unfitted-level-2);\n",
       "}\n",
       "\n",
       "#sk-container-id-2 div.sk-label.fitted input.sk-toggleable__control:checked~label.sk-toggleable__label {\n",
       "  background-color: var(--sklearn-color-fitted-level-2);\n",
       "}\n",
       "\n",
       "/* Estimator-specific style */\n",
       "\n",
       "/* Colorize estimator box */\n",
       "#sk-container-id-2 div.sk-estimator input.sk-toggleable__control:checked~label.sk-toggleable__label {\n",
       "  /* unfitted */\n",
       "  background-color: var(--sklearn-color-unfitted-level-2);\n",
       "}\n",
       "\n",
       "#sk-container-id-2 div.sk-estimator.fitted input.sk-toggleable__control:checked~label.sk-toggleable__label {\n",
       "  /* fitted */\n",
       "  background-color: var(--sklearn-color-fitted-level-2);\n",
       "}\n",
       "\n",
       "#sk-container-id-2 div.sk-label label.sk-toggleable__label,\n",
       "#sk-container-id-2 div.sk-label label {\n",
       "  /* The background is the default theme color */\n",
       "  color: var(--sklearn-color-text-on-default-background);\n",
       "}\n",
       "\n",
       "/* On hover, darken the color of the background */\n",
       "#sk-container-id-2 div.sk-label:hover label.sk-toggleable__label {\n",
       "  color: var(--sklearn-color-text);\n",
       "  background-color: var(--sklearn-color-unfitted-level-2);\n",
       "}\n",
       "\n",
       "/* Label box, darken color on hover, fitted */\n",
       "#sk-container-id-2 div.sk-label.fitted:hover label.sk-toggleable__label.fitted {\n",
       "  color: var(--sklearn-color-text);\n",
       "  background-color: var(--sklearn-color-fitted-level-2);\n",
       "}\n",
       "\n",
       "/* Estimator label */\n",
       "\n",
       "#sk-container-id-2 div.sk-label label {\n",
       "  font-family: monospace;\n",
       "  font-weight: bold;\n",
       "  display: inline-block;\n",
       "  line-height: 1.2em;\n",
       "}\n",
       "\n",
       "#sk-container-id-2 div.sk-label-container {\n",
       "  text-align: center;\n",
       "}\n",
       "\n",
       "/* Estimator-specific */\n",
       "#sk-container-id-2 div.sk-estimator {\n",
       "  font-family: monospace;\n",
       "  border: 1px dotted var(--sklearn-color-border-box);\n",
       "  border-radius: 0.25em;\n",
       "  box-sizing: border-box;\n",
       "  margin-bottom: 0.5em;\n",
       "  /* unfitted */\n",
       "  background-color: var(--sklearn-color-unfitted-level-0);\n",
       "}\n",
       "\n",
       "#sk-container-id-2 div.sk-estimator.fitted {\n",
       "  /* fitted */\n",
       "  background-color: var(--sklearn-color-fitted-level-0);\n",
       "}\n",
       "\n",
       "/* on hover */\n",
       "#sk-container-id-2 div.sk-estimator:hover {\n",
       "  /* unfitted */\n",
       "  background-color: var(--sklearn-color-unfitted-level-2);\n",
       "}\n",
       "\n",
       "#sk-container-id-2 div.sk-estimator.fitted:hover {\n",
       "  /* fitted */\n",
       "  background-color: var(--sklearn-color-fitted-level-2);\n",
       "}\n",
       "\n",
       "/* Specification for estimator info (e.g. \"i\" and \"?\") */\n",
       "\n",
       "/* Common style for \"i\" and \"?\" */\n",
       "\n",
       ".sk-estimator-doc-link,\n",
       "a:link.sk-estimator-doc-link,\n",
       "a:visited.sk-estimator-doc-link {\n",
       "  float: right;\n",
       "  font-size: smaller;\n",
       "  line-height: 1em;\n",
       "  font-family: monospace;\n",
       "  background-color: var(--sklearn-color-background);\n",
       "  border-radius: 1em;\n",
       "  height: 1em;\n",
       "  width: 1em;\n",
       "  text-decoration: none !important;\n",
       "  margin-left: 0.5em;\n",
       "  text-align: center;\n",
       "  /* unfitted */\n",
       "  border: var(--sklearn-color-unfitted-level-1) 1pt solid;\n",
       "  color: var(--sklearn-color-unfitted-level-1);\n",
       "}\n",
       "\n",
       ".sk-estimator-doc-link.fitted,\n",
       "a:link.sk-estimator-doc-link.fitted,\n",
       "a:visited.sk-estimator-doc-link.fitted {\n",
       "  /* fitted */\n",
       "  border: var(--sklearn-color-fitted-level-1) 1pt solid;\n",
       "  color: var(--sklearn-color-fitted-level-1);\n",
       "}\n",
       "\n",
       "/* On hover */\n",
       "div.sk-estimator:hover .sk-estimator-doc-link:hover,\n",
       ".sk-estimator-doc-link:hover,\n",
       "div.sk-label-container:hover .sk-estimator-doc-link:hover,\n",
       ".sk-estimator-doc-link:hover {\n",
       "  /* unfitted */\n",
       "  background-color: var(--sklearn-color-unfitted-level-3);\n",
       "  color: var(--sklearn-color-background);\n",
       "  text-decoration: none;\n",
       "}\n",
       "\n",
       "div.sk-estimator.fitted:hover .sk-estimator-doc-link.fitted:hover,\n",
       ".sk-estimator-doc-link.fitted:hover,\n",
       "div.sk-label-container:hover .sk-estimator-doc-link.fitted:hover,\n",
       ".sk-estimator-doc-link.fitted:hover {\n",
       "  /* fitted */\n",
       "  background-color: var(--sklearn-color-fitted-level-3);\n",
       "  color: var(--sklearn-color-background);\n",
       "  text-decoration: none;\n",
       "}\n",
       "\n",
       "/* Span, style for the box shown on hovering the info icon */\n",
       ".sk-estimator-doc-link span {\n",
       "  display: none;\n",
       "  z-index: 9999;\n",
       "  position: relative;\n",
       "  font-weight: normal;\n",
       "  right: .2ex;\n",
       "  padding: .5ex;\n",
       "  margin: .5ex;\n",
       "  width: min-content;\n",
       "  min-width: 20ex;\n",
       "  max-width: 50ex;\n",
       "  color: var(--sklearn-color-text);\n",
       "  box-shadow: 2pt 2pt 4pt #999;\n",
       "  /* unfitted */\n",
       "  background: var(--sklearn-color-unfitted-level-0);\n",
       "  border: .5pt solid var(--sklearn-color-unfitted-level-3);\n",
       "}\n",
       "\n",
       ".sk-estimator-doc-link.fitted span {\n",
       "  /* fitted */\n",
       "  background: var(--sklearn-color-fitted-level-0);\n",
       "  border: var(--sklearn-color-fitted-level-3);\n",
       "}\n",
       "\n",
       ".sk-estimator-doc-link:hover span {\n",
       "  display: block;\n",
       "}\n",
       "\n",
       "/* \"?\"-specific style due to the `<a>` HTML tag */\n",
       "\n",
       "#sk-container-id-2 a.estimator_doc_link {\n",
       "  float: right;\n",
       "  font-size: 1rem;\n",
       "  line-height: 1em;\n",
       "  font-family: monospace;\n",
       "  background-color: var(--sklearn-color-background);\n",
       "  border-radius: 1rem;\n",
       "  height: 1rem;\n",
       "  width: 1rem;\n",
       "  text-decoration: none;\n",
       "  /* unfitted */\n",
       "  color: var(--sklearn-color-unfitted-level-1);\n",
       "  border: var(--sklearn-color-unfitted-level-1) 1pt solid;\n",
       "}\n",
       "\n",
       "#sk-container-id-2 a.estimator_doc_link.fitted {\n",
       "  /* fitted */\n",
       "  border: var(--sklearn-color-fitted-level-1) 1pt solid;\n",
       "  color: var(--sklearn-color-fitted-level-1);\n",
       "}\n",
       "\n",
       "/* On hover */\n",
       "#sk-container-id-2 a.estimator_doc_link:hover {\n",
       "  /* unfitted */\n",
       "  background-color: var(--sklearn-color-unfitted-level-3);\n",
       "  color: var(--sklearn-color-background);\n",
       "  text-decoration: none;\n",
       "}\n",
       "\n",
       "#sk-container-id-2 a.estimator_doc_link.fitted:hover {\n",
       "  /* fitted */\n",
       "  background-color: var(--sklearn-color-fitted-level-3);\n",
       "}\n",
       "</style><div id=\"sk-container-id-2\" class=\"sk-top-container\"><div class=\"sk-text-repr-fallback\"><pre>KMeans(n_clusters=2, n_init=10, random_state=42)</pre><b>In a Jupyter environment, please rerun this cell to show the HTML representation or trust the notebook. <br />On GitHub, the HTML representation is unable to render, please try loading this page with nbviewer.org.</b></div><div class=\"sk-container\" hidden><div class=\"sk-item\"><div class=\"sk-estimator fitted sk-toggleable\"><input class=\"sk-toggleable__control sk-hidden--visually\" id=\"sk-estimator-id-2\" type=\"checkbox\" checked><label for=\"sk-estimator-id-2\" class=\"sk-toggleable__label fitted sk-toggleable__label-arrow\"><div><div>KMeans</div></div><div><a class=\"sk-estimator-doc-link fitted\" rel=\"noreferrer\" target=\"_blank\" href=\"https://scikit-learn.org/1.6/modules/generated/sklearn.cluster.KMeans.html\">?<span>Documentation for KMeans</span></a><span class=\"sk-estimator-doc-link fitted\">i<span>Fitted</span></span></div></label><div class=\"sk-toggleable__content fitted\"><pre>KMeans(n_clusters=2, n_init=10, random_state=42)</pre></div> </div></div></div></div>"
      ],
      "text/plain": [
       "KMeans(n_clusters=2, n_init=10, random_state=42)"
      ]
     },
     "execution_count": 15,
     "metadata": {},
     "output_type": "execute_result"
    }
   ],
   "source": [
    "kmeans = KMeans(n_clusters=2, random_state=42, n_init=10)\n",
    "kmeans.fit(X_scaled)\n"
   ]
  },
  {
   "cell_type": "markdown",
   "metadata": {},
   "source": [
    "# View the results"
   ]
  },
  {
   "cell_type": "code",
   "execution_count": 16,
   "metadata": {},
   "outputs": [
    {
     "name": "stdout",
     "output_type": "stream",
     "text": [
      "Cluster centers:\n",
      " [[-0.19614061 -0.56997187 -0.02258327 -0.05156324  0.04592355 -0.00788712\n",
      "  -0.1144259  -0.36798503 -0.49636073 -0.4393878  -0.19674663 -0.54043854\n",
      "  -0.56166026]\n",
      " [ 0.35447099  1.03006965  0.04081314  0.09318657 -0.08299437  0.01425384\n",
      "   0.2067938   0.66503319  0.89703746  0.79407433  0.3555662   0.97669615\n",
      "   1.01504866]]\n",
      "Cluster labels:\n",
      " [0 1 1 0 0 1 0 0 1 0 0 1 0 1 1 0 0 0 0 1 0 0 0 1 1 1 1 0 1 1 1 1 0 0 0 0 1\n",
      " 1 0 1 1 0 0 1 0 0 1 0 0 0 1 0 1 1 0 0 1 0 0 1 0 0 1 0 1 1 0 1 0 0 0 0 0 0\n",
      " 1 1 0 0 0 0 1 0 1 0 1 0 1 1 0 0 0 0 1 1 1 1 1 1 1 0 0 0 1 0 0 1 1 1 1 0 1\n",
      " 1 0 1 0 1 1 1 1 0 1 0 0 1 0 0 0 0 1 0 0 0 0 1 1 1 0 0 0 0 0 0 1 0 0 1 0 1\n",
      " 1 0 1 1 1 1 1 0 1 1 0 0 0 0 0 0 0 0 1 1 1 0 0 1 1 1 0 0 0 0 0 0 1 1 1 1 0\n",
      " 0 0 1 1 1 1 1 1 0 0 0 0 0 1 0 0 0 0 1 0 0 0 0 1 0 0 0 0 0 0 0 1 1 0 1 0 1\n",
      " 1 0 0 0 0 0 1 0 0 0 0 0 0 1 0 0 0 0 0 0 0 0 0 0 0 0 0 0 0 0 0 0 0 1 0 0 0\n",
      " 0 1 0 0 0 1 1 1 0 1 0 0 0 0 0 0 0 0 1 0 0 0 1 0 1 0 0 0 0 0 0 1 0 0 0 1 1\n",
      " 1 0 0 0 0 0 0 0 1 0 0 1 0 0 1 1 1 1 0 1 1 0 1 0 1 0 0 0 0 0 0 0 0 0 0 0 0\n",
      " 0 0 0 0 1 1 0 0 0 0 0 0 0 1 1 0 0 0 1 0 1 1 0 0 1 0 1 1 1 0 0 0 0 0 1 0 0\n",
      " 0 0 0 0 0 0 0 0 0 0 0 0 1 0 1 1 1 1 1 1 1 0 0 1 0 1 1 0 0 0 0 0 0 0 0 0 0\n",
      " 0 0 1 1 1 0 0 0 0 0 0 1 0 0 0 0 0 0 1 1 0 1 1 1 1 0 0 1 0 0 0 0 1 0 0 1 0\n",
      " 1 1 0 0 1 0 0 0 1 0 0 0 0 0 1 1 0 0 0 0 1 0]\n",
      "Inertia (total WCSS): 4708.116297648369\n"
     ]
    }
   ],
   "source": [
    "# Print cluster centers (in scaled feature space)\n",
    "print(\"Cluster centers:\\n\", kmeans.cluster_centers_)\n",
    "\n",
    "# Print cluster labels for each player\n",
    "print(\"Cluster labels:\\n\", kmeans.labels_)\n",
    "\n",
    "# Print total within-cluster sum of squares (inertia)\n",
    "print(\"Inertia (total WCSS):\", kmeans.inertia_)\n"
   ]
  },
  {
   "cell_type": "code",
   "execution_count": 38,
   "metadata": {},
   "outputs": [
    {
     "data": {
      "image/png": "[encoded data removed]",
      "text/plain": [
       "<Figure size 640x480 with 1 Axes>"
      ]
     },
     "metadata": {},
     "output_type": "display_data"
    }
   ],
   "source": [
    "# See how many players are in each cluster\n",
    "df['Cluster'].value_counts()\n",
    "# Look at average performance and salary per cluster\n",
    "df.groupby('Cluster')[['PTS', 'AST', 'TRB', 'STL', 'BLK', 'TOV', 'G', 'MP', 'Salary']].mean()\n",
    "# Sort by salary within each cluster to identify hidden gems\n",
    "df.sort_values(['Cluster', 'Salary']).head(10)\n",
    "import seaborn as sns\n",
    "import matplotlib.pyplot as plt\n",
    "\n",
    "sns.scatterplot(data=df, x='PTS', y='Salary', hue='Cluster', palette='Set1')\n",
    "plt.title('NBA Players Clustering: PTS vs Salary')\n",
    "plt.show()\n"
   ]
  },
  {
   "cell_type": "code",
   "execution_count": 47,
   "metadata": {},
   "outputs": [
    {
     "data": {
      "text/plain": [
       "Salary    1.000000\n",
       "PTS       0.784472\n",
       "FG        0.770245\n",
       "TOV       0.682251\n",
       "MP        0.676218\n",
       "AST       0.615907\n",
       "TRB       0.495766\n",
       "STL       0.469915\n",
       "BLK       0.272589\n",
       "G         0.230218\n",
       "Name: Salary, dtype: float64"
      ]
     },
     "execution_count": 47,
     "metadata": {},
     "output_type": "execute_result"
    }
   ],
   "source": [
    "# Select numeric features\n",
    "correlation_df = df[['Salary', 'PTS', 'AST', 'FG','TRB', 'STL', 'BLK', 'TOV', 'G', 'MP']]\n",
    "\n",
    "# Calculate correlation matrix\n",
    "correlation_matrix = correlation_df.corr()\n",
    "\n",
    "# Display\n",
    "correlation_matrix['Salary'].sort_values(ascending=False)\n"
   ]
  },
  {
   "cell_type": "markdown",
   "metadata": {},
   "source": [
    "# Create a visualization of the results with 2 or 3 variables that you think will best differentiate the clusters"
   ]
  },
  {
   "cell_type": "markdown",
   "metadata": {},
   "source": [
    "## this is in 2D"
   ]
  },
  {
   "cell_type": "code",
   "execution_count": 40,
   "metadata": {},
   "outputs": [
    {
     "data": {
      "image/png": "[encoded data removed]",
      "text/plain": [
       "<Figure size 1000x600 with 1 Axes>"
      ]
     },
     "metadata": {},
     "output_type": "display_data"
    }
   ],
   "source": [
    "import seaborn as sns\n",
    "import matplotlib.pyplot as plt\n",
    "\n",
    "# Create a scatterplot with:\n",
    "# - X-axis: Points\n",
    "# - Y-axis: Assists\n",
    "# - Hue: Salary (color gradient)\n",
    "# - Style: Cluster (marker shape)\n",
    "plt.figure(figsize=(10, 6))\n",
    "scatter = sns.scatterplot(\n",
    "    data=df,\n",
    "    x='PTS', \n",
    "    y='AST',\n",
    "    hue='Salary',          # color based on salary\n",
    "    style='Cluster',       # shape based on cluster\n",
    "    palette='viridis',     # color gradient\n",
    "    s=100                  # marker size\n",
    ")\n",
    "\n",
    "plt.title(\"NBA Player Clusters by Performance\")\n",
    "plt.xlabel(\"Points Per Game\")\n",
    "plt.ylabel(\"Assists Per Game\")\n",
    "plt.legend(bbox_to_anchor=(1.05, 1), loc='upper left')\n",
    "plt.tight_layout()\n",
    "plt.show()\n"
   ]
  },
  {
   "cell_type": "markdown",
   "metadata": {},
   "source": [
    "## this is in 3D"
   ]
  },
  {
   "cell_type": "code",
   "execution_count": null,
   "metadata": {},
   "outputs": [],
   "source": [
    "import plotly.express as px\n",
    "\n",
    "fig = px.scatter_3d(\n",
    "    df, \n",
    "    x='PTS', y='AST', z='TRB',  # You can change these to MP, STL, etc.\n",
    "    color='Salary', \n",
    "    hover_name='Player',\n",
    "    title='NBA Player Performance: PTS vs AST vs TRB (Color = Salary)',\n",
    "    color_continuous_scale='Viridis'\n",
    ")\n",
    "fig.show(renderer=\"browser\")"
   ]
  },
  {
   "cell_type": "markdown",
   "metadata": {},
   "source": [
    "### ^ i made a 3d plot but you would have to see it and open it on a browser/ a separate tab"
   ]
  },
  {
   "cell_type": "markdown",
   "metadata": {},
   "source": [
    "# Evaluate the quality of the clustering using total variance explained and silhouette scores"
   ]
  },
  {
   "cell_type": "code",
   "execution_count": 29,
   "metadata": {},
   "outputs": [
    {
     "name": "stdout",
     "output_type": "stream",
     "text": [
      "Total Sum of Squares (TSS): 6058.00\n",
      "Within-Cluster Sum of Squares (WCSS): 4708.12\n",
      "Between-Cluster Sum of Squares (BSS): 1349.88\n",
      "Variance Explained: 22.28%\n",
      "Silhouette Score: 0.222\n"
     ]
    }
   ],
   "source": [
    "import numpy as np\n",
    "from sklearn.metrics import silhouette_score\n",
    "\n",
    "# Total sum of squares (TSS) = total variance from overall mean\n",
    "tss = np.sum((X_scaled - np.mean(X_scaled, axis=0))**2)\n",
    "\n",
    "# Within-cluster sum of squares (WCSS) = KMeans inertia\n",
    "wcss = kmeans.inertia_\n",
    "\n",
    "# Between-cluster sum of squares (BSS)\n",
    "bss = tss - wcss\n",
    "\n",
    "# Variance explained by clustering\n",
    "var_explained = bss / tss\n",
    "\n",
    "# Silhouette score for separation quality\n",
    "sil_score = silhouette_score(X_scaled, kmeans.labels_)\n",
    "\n",
    "# Print results\n",
    "print(f\"Total Sum of Squares (TSS): {tss:.2f}\")\n",
    "print(f\"Within-Cluster Sum of Squares (WCSS): {wcss:.2f}\")\n",
    "print(f\"Between-Cluster Sum of Squares (BSS): {bss:.2f}\")\n",
    "print(f\"Variance Explained: {var_explained:.2%}\")\n",
    "print(f\"Silhouette Score: {sil_score:.3f}\")\n"
   ]
  },
  {
   "cell_type": "markdown",
   "metadata": {},
   "source": [
    "# Determine the ideal number of clusters using the elbow method and the silhouette coefficient"
   ]
  },
  {
   "cell_type": "code",
   "execution_count": 30,
   "metadata": {},
   "outputs": [
    {
     "data": {
      "image/png": "[encoded data removed]",
      "text/plain": [
       "<Figure size 1200x500 with 2 Axes>"
      ]
     },
     "metadata": {},
     "output_type": "display_data"
    }
   ],
   "source": [
    "from sklearn.cluster import KMeans\n",
    "from sklearn.metrics import silhouette_score\n",
    "import matplotlib.pyplot as plt\n",
    "\n",
    "# Range of cluster counts to test\n",
    "k_range = range(2, 11)\n",
    "\n",
    "inertias = []\n",
    "sil_scores = []\n",
    "\n",
    "for k in k_range:\n",
    "    kmeans = KMeans(n_clusters=k, random_state=42, n_init=10)\n",
    "    kmeans.fit(X_scaled)\n",
    "    inertias.append(kmeans.inertia_)\n",
    "    sil_scores.append(silhouette_score(X_scaled, kmeans.labels_))\n",
    "\n",
    "# Plot Inertia (Elbow method)\n",
    "plt.figure(figsize=(12, 5))\n",
    "\n",
    "plt.subplot(1, 2, 1)\n",
    "plt.plot(k_range, inertias, marker='o')\n",
    "plt.title(\"Elbow Method: Inertia vs. k\")\n",
    "plt.xlabel(\"Number of Clusters (k)\")\n",
    "plt.ylabel(\"Inertia\")\n",
    "plt.grid(True)\n",
    "\n",
    "# Plot Silhouette Score\n",
    "plt.subplot(1, 2, 2)\n",
    "plt.plot(k_range, sil_scores, marker='o')\n",
    "plt.title(\"Silhouette Score vs. k\")\n",
    "plt.xlabel(\"Number of Clusters (k)\")\n",
    "plt.ylabel(\"Silhouette Score\")\n",
    "plt.grid(True)\n",
    "\n",
    "plt.tight_layout()\n",
    "plt.show()\n"
   ]
  },
  {
   "cell_type": "markdown",
   "metadata": {},
   "source": [
    "# Visualize the results of the elbow method"
   ]
  },
  {
   "cell_type": "markdown",
   "metadata": {},
   "source": [
    "# Use the recommended number of cluster (assuming it's different) to retrain your model and visualize the results"
   ]
  },
  {
   "cell_type": "code",
   "execution_count": null,
   "metadata": {},
   "outputs": [],
   "source": []
  },
  {
   "cell_type": "markdown",
   "metadata": {},
   "source": [
    "# Once again evaluate the quality of the clustering using total variance explained and silhouette scores"
   ]
  },
  {
   "cell_type": "markdown",
   "metadata": {},
   "source": [
    "# Use the model to select players for Mr. Rooney to consider"
   ]
  },
  {
   "cell_type": "markdown",
   "metadata": {},
   "source": [
    "# Write up the results in a separate notebook with supporting visualizations and an overview of how and why you made the choices you did. This should be at least 500 words and should be written for a non-technical audience."
   ]
  }
 ],
 "metadata": {
  "kernelspec": {
   "display_name": "Python 3",
   "language": "python",
   "name": "python3"
  },
  "language_info": {
   "codemirror_mode": {
    "name": "ipython",
    "version": 3
   },
   "file_extension": ".py",
   "mimetype": "text/x-python",
   "name": "python",
   "nbconvert_exporter": "python",
   "pygments_lexer": "ipython3",
   "version": "3.12.10"
  }
 },
 "nbformat": 4,
 "nbformat_minor": 2
}
