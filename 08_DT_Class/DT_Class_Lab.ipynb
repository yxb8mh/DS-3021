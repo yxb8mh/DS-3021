{
 "cells": [
  {
   "cell_type": "markdown",
   "metadata": {},
   "source": [
    "Congrats! You just graduated UVA's BSDS program and got a job working at a movie studio in Hollywood. \n",
    "\n",
    "Your boss is the head of the studio and wants to know if they can gain a competitive advantage by predicting new movies that might get high imdb scores (movie rating). \n",
    "\n",
    "You would like to be able to explain the model to mere mortals but need a fairly robust and flexible approach so you've chosen to use decision trees to get started. \n",
    "\n",
    "In doing so, similar to  great data scientists of the past you remembered the excellent education provided to you at UVA in a undergrad data science course and have outline 20ish steps that will need to be undertaken to complete this task. As always, you will need to make sure to #comment your work heavily. \n",
    "\n",
    " Footnotes: \n",
    "-\tYou can add or combine steps if needed\n",
    "-\tAlso, remember to try several methods during evaluation and always be mindful of how the model will be used in practice.\n",
    "- Make sure all your variables are the correct type (factor, character,numeric, etc.)"
   ]
  },
  {
   "cell_type": "code",
   "execution_count": 2,
   "metadata": {},
   "outputs": [],
   "source": [
    "import pandas as pd\n",
    "import numpy as np"
   ]
  },
  {
   "cell_type": "code",
   "execution_count": 5,
   "metadata": {},
   "outputs": [],
   "source": [
    "#1. Load the data\n",
    "#Sometimes need to set the working directory back out of a folder that we create a file in\n",
    "\n",
    "#import os\n",
    "#os.listdir()\n",
    "#print(os.getcwd())\n",
    "#os.chdir('c:\\\\Users\\\\Brian Wright\\\\Documents\\\\3001Python\\\\DS-3001')\n",
    "\n",
    "movie_metadata=pd.read_csv(\"data/movie_metadata.csv\")\n",
    "\n"
   ]
  },
  {
   "cell_type": "markdown",
   "metadata": {},
   "source": [
    "#2 Ensure all the variables are classified correctly including the target variable and collapse factor variables as needed."
   ]
  },
  {
   "cell_type": "markdown",
   "metadata": {},
   "source": [
    "#3 Check for missing variables and correct as needed."
   ]
  },
  {
   "cell_type": "markdown",
   "metadata": {},
   "source": [
    "#4 Guess what, you don't need to scale the data, because DTs don't require this to be done, they make local greedy decisions...keeps getting easier, go to the next step."
   ]
  },
  {
   "cell_type": "markdown",
   "metadata": {},
   "source": [
    "#5 Determine the baserate or prevalence for the classifier, what does this number mean?"
   ]
  },
  {
   "cell_type": "markdown",
   "metadata": {},
   "source": [
    "#6 Split your data into test, tune, and train. (80/10/10)"
   ]
  },
  {
   "cell_type": "markdown",
   "metadata": {},
   "source": [
    "#7 Create the kfold object for cross validation."
   ]
  },
  {
   "cell_type": "markdown",
   "metadata": {},
   "source": [
    "#8 Create the scoring metric you will use to evaluate your model and the max depth hyperparameter "
   ]
  },
  {
   "cell_type": "markdown",
   "metadata": {},
   "source": [
    "#9 Build the classifier object "
   ]
  },
  {
   "cell_type": "markdown",
   "metadata": {},
   "source": [
    "#10 Use the kfold object and the scoring metric to find the best hyperparameter value for max depth via the grid search method."
   ]
  },
  {
   "cell_type": "markdown",
   "metadata": {},
   "source": [
    "#11 Fit the model to the training data."
   ]
  },
  {
   "cell_type": "markdown",
   "metadata": {},
   "source": [
    "#12 What is the best depth value?"
   ]
  },
  {
   "cell_type": "markdown",
   "metadata": {},
   "source": [
    "#13 Print out the model"
   ]
  },
  {
   "cell_type": "markdown",
   "metadata": {},
   "source": [
    "#14 View the results, comment on how the model performed using several evaluation metrics."
   ]
  },
  {
   "cell_type": "markdown",
   "metadata": {},
   "source": [
    "#15 Which variables appear to be contributing the most (variable importance) "
   ]
  },
  {
   "cell_type": "markdown",
   "metadata": {},
   "source": [
    "#16 Use the predict method on the test data and print out the results."
   ]
  },
  {
   "cell_type": "markdown",
   "metadata": {},
   "source": [
    "#17 How does the model perform on the test data?"
   ]
  },
  {
   "cell_type": "markdown",
   "metadata": {},
   "source": [
    "#18 Print out the confusion matrix for the test data, what does it tell you about the model?"
   ]
  },
  {
   "cell_type": "markdown",
   "metadata": {},
   "source": [
    "#19 What are the top 3 movies based on the test set? Which variables are most important in predicting the top 3 movies?"
   ]
  },
  {
   "cell_type": "markdown",
   "metadata": {},
   "source": [
    "#20 Summarize what you learned along the way and make recommendations on how this could be used moving forward, being careful not to over promise."
   ]
  },
  {
   "cell_type": "markdown",
   "metadata": {},
   "source": [
    "#21 Did the model improve with the new hyperparameter search?"
   ]
  },
  {
   "cell_type": "markdown",
   "metadata": {},
   "source": [
    "#22 Using the better model, predict the test data and print out the results."
   ]
  },
  {
   "cell_type": "markdown",
   "metadata": {},
   "source": [
    "#23 Summarize what you learned along the way and make recommendations to your boss on how this could be used moving forward, being careful not to over promise."
   ]
  }
 ],
 "metadata": {
  "kernelspec": {
   "display_name": "FMLF23",
   "language": "python",
   "name": "python3"
  },
  "language_info": {
   "codemirror_mode": {
    "name": "ipython",
    "version": 3
   },
   "file_extension": ".py",
   "mimetype": "text/x-python",
   "name": "python",
   "nbconvert_exporter": "python",
   "pygments_lexer": "ipython3",
   "version": "3.11.5"
  }
 },
 "nbformat": 4,
 "nbformat_minor": 2
}
