{
 "cells": [
  {
   "cell_type": "markdown",
   "id": "984d7a11-21b4-4c0c-aa08-948cc7f3b969",
   "metadata": {},
   "source": [
    "# Linear Models\n",
    "## Foundations of Machine Learning"
   ]
  },
  {
   "cell_type": "code",
   "execution_count": null,
   "id": "122d8e09-cd5b-4971-af2a-841f086d49f6",
   "metadata": {},
   "outputs": [
    {
     "ename": "",
     "evalue": "",
     "output_type": "error",
     "traceback": [
      "\u001b[1;31mRunning cells with 'Python 3.9.2' requires the ipykernel package.\n",
      "\u001b[1;31mRun the following command to install 'ipykernel' into the Python environment. \n",
      "\u001b[1;31mCommand: '/usr/bin/python3 -m pip install ipykernel -U --user --force-reinstall'"
     ]
    }
   ],
   "source": [
    "import numpy as np\n",
    "import matplotlib.pyplot as plt"
   ]
  },
  {
   "cell_type": "markdown",
   "id": "2283da74-f7ad-417b-b520-54ced151e4f8",
   "metadata": {},
   "source": [
    "## Linear Models\n",
    "- $k$NN and $k$MC illustrate the distinctions between regression and classification, and supervised and unsupervised learning\n",
    "- In both cases, the number of parameters available for fitting the model is really limited --- just $k$ --- and they offer almost no explanation of their results\n",
    "- Today we introduce *linear model*, which optimally weight the explanatory variables in order to predict the outcome variable\n",
    "- These are extremely powerful and easily interpreted tools\n",
    "- There are a lot of ideas and math in these notes: What's important is that you get exposed to ideas, and get the essential ideas of regression\n",
    "- You can spend the rest of your life studying regression models (general linear models, quantile regression, kernel regression, etc.): This is an entry-level discussion that focuses on prediction and the intuition/mechanics of Ordinary Least Squares\n",
    "- more inferential field, looking for causality, one variable is dependent on another, inference cares about how you get to the answer but predictive just cares about the answer \n",
    "- constrained in a way, simplified in a certain extent, spend the rest of your life in regresion model and base, \n"
   ]
  },
  {
   "cell_type": "markdown",
   "id": "0e980e76-2d58-4830-a125-c00f2183be73",
   "metadata": {},
   "source": [
    "## Vector Multiplication\n",
    "- Suppose we have two vectors $x=(x_1,x_2,...x_K)$ and $b=(b_1,b_2,...,b_K)$ of equal length, $K$\n",
    "- The *dot product* or *inner product* is: \n",
    "\n",
    "$$x_1 b_1 + x_2 b_2 + ... + x_K b_K$$\n",
    "    \n",
    "\n",
    "\n",
    "So we multiply the first two entries together, the second two together, and so on, then sum all the terms.\n",
    "- Common notation for this is:\n",
    "$$\n",
    "x \\cdot b = x^\\top b = x'b = \\langle x, b \\rangle = \\sum_{k=1}^K x_k b_k\n",
    "$$"
   ]
  },
  {
   "cell_type": "markdown",
   "id": "f5a411f9",
   "metadata": {},
   "source": [
    "#### if we have two lines in the same direction, they are highly correlated; if they are perpendicular (orthogonal) they are not correlated because move difference direction\n"
   ]
  },
  {
   "cell_type": "markdown",
   "id": "37fdc26d-0a09-486e-87b2-78203e394aa2",
   "metadata": {},
   "source": [
    "## Dot Product and Covariance\n",
    "- Where have you seen something like this before?\n",
    "$$ \\text{cov}(x,y) = \\dfrac{1}{N} \\sum_{i=1}^N (x_i - \\bar{x})(y_i - \\bar{y}) = \\dfrac{(x-\\bar{x})\\cdot(y-\\bar{y})}{N}$$\n",
    "- The covariance is the statistical version of the dot product, centered around the means and scaled to sample size\n",
    "- The dot product is a general linear algebraic operator, but appears naturally in many places through statistics and computer science, which is why it's worth recognizing and understanding"
   ]
  },
  {
   "cell_type": "markdown",
   "id": "9bd64ef6-c510-427b-a8f4-7b58c38d712f",
   "metadata": {},
   "source": [
    "## Dot Product Example\n",
    "- Suppose `y = (3,-5,7)` and `x = (2,4,-6)`. How do we compute the dot product in Python?"
   ]
  },
  {
   "cell_type": "code",
   "execution_count": 1,
   "id": "41a4ad8b-a024-4969-accd-9aeb488d0d54",
   "metadata": {},
   "outputs": [
    {
     "name": "stdout",
     "output_type": "stream",
     "text": [
      "-56\n",
      "-56 \n",
      "\n"
     ]
    }
   ],
   "source": [
    "import numpy as np\n",
    "\n",
    "y = (3,-5,7)\n",
    "x = (2,4,-6)\n",
    "\n",
    "print( x[0]*y[0] + x[1]*y[1] + x[2]*y[2] )\n",
    "\n",
    "print( np.inner(x,y), '\\n') # Using Numpy"
   ]
  },
  {
   "cell_type": "markdown",
   "id": "05f841e3-60c7-47f6-bffc-f5fdfcbae0df",
   "metadata": {},
   "source": [
    "## Angle and Correlation [math]\n",
    "- What \"is\" this thing? It is related to the angle between $x$ and $b$:\n",
    "$$\n",
    "\\cos(\\theta_{xb}) = \\dfrac{x \\cdot b}{\\sqrt{x \\cdot x} \\  \\sqrt{b \\cdot b}}\n",
    "$$\n",
    "The dot product is the mathematical object that creates *angles* between objects in a space.\n",
    "- Recall, $\\cos( 90^\\circ) = \\cos(\\pi/2) = 0$, so if the dot product between two vectors is zero, they are at a \"right angle\" to one another, or **orthogonal**\n",
    "- Where does this show up in statistics? Define $z_x = x - \\bar{x}$ and $z_y = y - \\bar{y}$. Then the correlation is\n",
    "\n",
    "\\begin{alignat*}{2}\n",
    "\\cos(\\theta_{z_x, z_y}) &=& \\dfrac{z_x \\cdot z_y}{\\sqrt{z_x \\cdot z_x} \\  \\sqrt{z_y \\cdot z_y}} \\\\\n",
    "&=& \\dfrac{\\sum_{i=1}^N (x_i-\\bar{x})(y_i-\\bar{y})}{\\sqrt{\\sum_{i=1}^N (x_i - \\bar{x})^2}\\sqrt{\\sum_{i=1}^N (y_i - \\bar{y})^2} }\\\\\n",
    "&=& \\dfrac{\\dfrac{1}{N}\\sum_{i=1}^N (x_i-\\bar{x})(y_i-\\bar{y})}{\\sqrt{ \\dfrac{1}{N}\\sum_{i=1}^N (x_i - \\bar{x})^2}\\sqrt{\\dfrac{1}{N}\\sum_{i=1}^N (y_i - \\bar{y})^2} }\\\\\n",
    "&=& \\dfrac{ \\text{cov}(x,y)}{\\sigma_x \\sigma_y}\\\\\n",
    "&=& \\text{cor}(x,y)\n",
    "\\end{alignat*}\n",
    "\n",
    "- What does this mean? The sample correlation between two variables is really the angle between them.\n",
    "- If $\\text{cor}(x,y)=0$ it means the two variables are **independent** or **orthogonal** to one another.\n",
    "- The correlation is at the heart of linear regression: Correlations between variables are roughly what regression coefficients are (namely, $\\text{cov}(x,y)/\\sigma_x^2$)"
   ]
  },
  {
   "cell_type": "markdown",
   "id": "4e16c2d8-9fdf-45cf-85bc-d4c0ff9ddb7b",
   "metadata": {},
   "source": [
    "## Matrix Multiplication\n",
    "- If you stack rows of observations, you can multiply them all at once as follows:\n",
    "$$\n",
    "X \\cdot b =  \\left[\\begin{array}{cccc} x_{11} & x_{12} & \\dots & x_{1K} \\\\ x_{21} & x_{22} & \\dots & x_{2K}  \\\\ \\vdots & \\vdots & \\ddots & \\vdots \\\\ x_{N1} & x_{N2} & \\dots & x_{NK} \\end{array} \\right] \\cdot \\left( \\begin{array}{c} b_1 \\\\ b_2 \\\\ \\vdots \\\\ b_K \\end{array}\\right) = \\left( \\begin{array}{c} x_1 \\cdot b \\\\ x_2 \\cdot b \\\\ \\vdots \\\\ x_N \\cdot b\\end{array} \\right)\n",
    "$$\n",
    "- This is part of the motivation for \"clean\"/\"tidy\" data: We do calculations directly on the data frame. Having `NA`'s or ambiguity about what a row or column causes calculations to break down.\n"
   ]
  },
  {
   "cell_type": "markdown",
   "id": "89608e0f-2946-4268-9217-cbe26cb69a3b",
   "metadata": {},
   "source": [
    "## Matrix Multiplication Example\n",
    "- Suppose\n",
    "$$ X = \\left[ \\begin{array}{ccc} 1 & 2 & 3 \\\\ 4 & 5 & 6 \\\\ 7 & 8 & 9 \\end{array} \\right] $$\n",
    "and\n",
    "$$ b = \\left( \\begin{array}{c} 2 \\\\ 4 \\\\ 6 \\end{array} \\right)$$\n",
    "- What is $X \\cdot b$?"
   ]
  },
  {
   "cell_type": "code",
   "execution_count": 2,
   "id": "67177551-5701-42f2-b87b-5af6104c20a2",
   "metadata": {},
   "outputs": [
    {
     "name": "stdout",
     "output_type": "stream",
     "text": [
      "Matrix X:\n",
      "[[1 2 3]\n",
      " [4 5 6]\n",
      " [7 8 9]]\n",
      "Vector b:\n",
      "[2 4 6]\n",
      "X dot b:\n",
      "[[ 28  64 100]]\n",
      "X dot b:\n",
      "[[ 28  64 100]]\n"
     ]
    }
   ],
   "source": [
    "X = np.matrix('1,2,3;4,5,6;7,8,9') # Making a matrix in numpy\n",
    "print('Matrix X:')\n",
    "print(X)\n",
    "b = np.array([2,4,6]) # Making a vector in numpy\n",
    "print('Vector b:')\n",
    "print(b)\n",
    "y = np.matmul(X,b) # Matrix multiplication in numpy\n",
    "print('X dot b:')\n",
    "print(y)\n",
    "y = X @ b # Operator notation\n",
    "print('X dot b:')\n",
    "print(y)"
   ]
  },
  {
   "cell_type": "markdown",
   "id": "54de37e7-0f4c-47c5-9977-8ce9b79137ae",
   "metadata": {},
   "source": [
    "## Linear Models: Setup\n",
    "- The data include an $N \\times K$ data matrix $X$ with $N$ observations and $K$ variables, and an $N$-length vector of outcomes, $y$\n",
    "- We wish to use $X$ to explain $y$\n",
    "- In particular, we want to explain $y$ by $X$ with a linear model,\n",
    "$$\n",
    "y = X \\cdot b\n",
    "$$\n",
    "where $b$ is a $K$-length vector of *coefficients* or *weights*\n",
    "- So for $b = (b_1, b_2, ..., b_K)$, variable $k$ is multiplied by $b_k$ to scale its contribution to the prediction of $y$"
   ]
  },
  {
   "cell_type": "markdown",
   "id": "29c297bd",
   "metadata": {},
   "source": [
    "### coefficient number is the covariance between that number and the matrix; b is the coefficient number"
   ]
  },
  {
   "cell_type": "markdown",
   "id": "b88f570c-921c-4441-8513-825ceaf81023",
   "metadata": {},
   "source": [
    "## Linear Models: Prediction\n",
    "- To make a prediction for a new values $\\hat{x} = (\\hat{x}_1, \\hat{x}_2, ..., \\hat{x}_L)$, we compute the dot product:\n",
    "$$\n",
    "\\hat{y} = \\hat{x} \\cdot b = \\hat{x}_1 b_1  + \\hat{x}_2 b_2  + ... + \\hat{x}_K b_K \n",
    "$$\n",
    "- The prediction is the straightforward part: Picking the weights $b$ is the hard part."
   ]
  },
  {
   "cell_type": "markdown",
   "id": "ba229cbd",
   "metadata": {},
   "source": [
    "### coefficient is zero when there is no corelation; maybe there's a relationship in the opposite relationship, negative relationship "
   ]
  },
  {
   "cell_type": "markdown",
   "id": "62d9466c-74e6-46d5-84b4-71ee078c198e",
   "metadata": {},
   "source": [
    "## Linear Models: Prediction\n",
    "- In terms of matrix multiplication, a fitted model is a $\\hat{b}$, and the predictions are created for data $\\hat{X}$ as\n",
    "$$\n",
    "\\hat{X} \\cdot \\hat{b} =  \\left[\\begin{array}{cccc} \\hat{x}_{11} & \\hat{x}_{12} & \\dots & \\hat{x}_{1K} \\\\ \\hat{x}_{21} & \\hat{x}_{22} & \\dots & \\hat{x}_{2K}  \\\\ \\vdots & \\vdots & \\ddots & \\vdots \\\\ \\hat{x}_{N1} & \\hat{x}_{N2} & \\dots & \\hat{x}_{NK} \\end{array} \\right] \\left( \\begin{array}{c} \\hat{b}_1 \\\\ \\hat{b}_2 \\\\ \\vdots \\\\ \\hat{b}_K \\end{array}\\right) = \\left( \\begin{array}{c} \\hat{x}_1 \\cdot \\hat{b} \\\\ \\hat{x}_2 \\cdot \\hat{b} \\\\ \\vdots \\\\ \\hat{x}_N \\cdot \\hat{b}\\end{array} \\right) = \\left( \\begin{array}{c} \\hat{y}_1 \\\\ \\hat{y}_2  \\\\ \\vdots \\\\ \\hat{y}_N \\end{array} \\right)\n",
    "$$\n",
    "- On a compute, these kinds of calulations are fast and efficient, and hardware like GPUs vastly speed up matrix/dot product calculations. Even for very complex models, a linear relationship between variables often appears somewhere (neural networks are non-linear compositions/nests of linear models).\n",
    "- The next chunk of code gives a visual example of what we're talking about, for a simple model $\\hat{y} = b_0 + b_1 x$"
   ]
  },
  {
   "cell_type": "code",
   "execution_count": 3,
   "id": "07654f1b-b460-4afc-b398-568a09995641",
   "metadata": {},
   "outputs": [
    {
     "data": {
      "image/png": "[encoded data removed]",
      "text/plain": [
       "<Figure size 640x480 with 1 Axes>"
      ]
     },
     "metadata": {},
     "output_type": "display_data"
    }
   ],
   "source": [
    "import numpy as np\n",
    "import matplotlib.pyplot as plt\n",
    "\n",
    "np.random.seed(500) # Set the seed for the random number generator\n",
    "N = 30\n",
    "\n",
    "x = 5 + 2*np.random.normal(0,1,size = N) # Create an x\n",
    "eps = np.random.normal(0,3,size = N) # Create noise, random noise, goal is to identify contribution of x and explaining y even when there is nosie; adding noise to x and predict y\n",
    "b0 = -1 # Intercept coefficoent\n",
    "b1 = 3 # Slope coefficient\n",
    "y = b0 + b1*x + eps #what y interecept equals when all the coefficients are zeros, where the equation starts\n",
    "\n",
    "def slr(x,y): # Single Linear Regression Function\n",
    "    x_bar = np.mean(x)\n",
    "    y_bar = np.mean(y)\n",
    "    b1 = np.inner(x-x_bar,y-y_bar)/np.inner(x-x_bar,x) #coefficient value; a ratio, amount of change in the explainer (denominator) and add in the amount of change in y (numerator) and see the change\n",
    "    b0 = y_bar - b1*x_bar #intercept coefficient\n",
    "    y_hat = b0 + b1*x\n",
    "    residuals = y - y_hat\n",
    "    return({'b0':b0,'b1':b1,'y_hat':y_hat,'residuals':residuals})\n",
    "    \n",
    "reg = slr(x,y) # Run the regression\n",
    "\n",
    "plt.scatter(x,y,label='Data')\n",
    "plt.plot(x,reg['y_hat'],label='Regression Line')\n",
    "plt.xlabel(\"X\")\n",
    "plt.ylabel(\"Y\")\n",
    "plt.legend(loc='lower right')\n",
    "plt.title('Linear Regression')\n",
    "plt.show()"
   ]
  },
  {
   "cell_type": "markdown",
   "id": "315757e6",
   "metadata": {},
   "source": [
    "## ^^ goal here is to try to opptimize, the best predictor, give me the middle point of the distribution of y data as it relates to x; calculate how far off are our prediction"
   ]
  },
  {
   "cell_type": "markdown",
   "id": "43906235-4b16-489c-9708-44102420b202",
   "metadata": {},
   "source": [
    "## Case Study: Car Prices\n",
    "- How does car age predict price?\n",
    "- I'm going to interactively look at the data, clean outliers, take transformations, and regress, somewhat sloppily, then show you what the picture looks like if you don't do these steps\n",
    "- This is a practical set of steps to take a\n",
    "- My rough advice: Linear regressions is defined to approximate the **conditional expectation function** (CEF), $\\mathbb{E}[y|x]$. It is \"working\" if your line is tracking with the average value of $y$ as $x$ varies, and is failing if the line is way off the mark (typically due to 1. outliers or 2. non-linearity of the CEF in $x$, requiring further transformation of the variables)"
   ]
  },
  {
   "cell_type": "code",
   "execution_count": 13,
   "id": "4104fd15-0c52-4713-91ac-5b1c90cc55e1",
   "metadata": {},
   "outputs": [
    {
     "ename": "FileNotFoundError",
     "evalue": "[Errno 2] No such file or directory: './data/cars_hw.csv'",
     "output_type": "error",
     "traceback": [
      "\u001b[0;31m---------------------------------------------------------------------------\u001b[0m",
      "\u001b[0;31mFileNotFoundError\u001b[0m                         Traceback (most recent call last)",
      "Cell \u001b[0;32mIn[13], line 3\u001b[0m\n\u001b[1;32m      1\u001b[0m \u001b[38;5;28;01mimport\u001b[39;00m\u001b[38;5;250m \u001b[39m\u001b[38;5;21;01mpandas\u001b[39;00m\u001b[38;5;250m \u001b[39m\u001b[38;5;28;01mas\u001b[39;00m\u001b[38;5;250m \u001b[39m\u001b[38;5;21;01mpd\u001b[39;00m\n\u001b[1;32m      2\u001b[0m \u001b[38;5;28;01mimport\u001b[39;00m\u001b[38;5;250m \u001b[39m\u001b[38;5;21;01mseaborn\u001b[39;00m\u001b[38;5;250m \u001b[39m\u001b[38;5;28;01mas\u001b[39;00m\u001b[38;5;250m \u001b[39m\u001b[38;5;21;01msns\u001b[39;00m\n\u001b[0;32m----> 3\u001b[0m df \u001b[38;5;241m=\u001b[39m \u001b[43mpd\u001b[49m\u001b[38;5;241;43m.\u001b[39;49m\u001b[43mread_csv\u001b[49m\u001b[43m(\u001b[49m\u001b[38;5;124;43m'\u001b[39;49m\u001b[38;5;124;43m./data/cars_hw.csv\u001b[39;49m\u001b[38;5;124;43m'\u001b[39;49m\u001b[43m)\u001b[49m \u001b[38;5;66;03m# Load the data\u001b[39;00m\n\u001b[1;32m      4\u001b[0m df0 \u001b[38;5;241m=\u001b[39m df \u001b[38;5;66;03m# Let's keep the original data around for comparison purposes\u001b[39;00m\n",
      "File \u001b[0;32m~/.local/lib/python3.12/site-packages/pandas/io/parsers/readers.py:1026\u001b[0m, in \u001b[0;36mread_csv\u001b[0;34m(filepath_or_buffer, sep, delimiter, header, names, index_col, usecols, dtype, engine, converters, true_values, false_values, skipinitialspace, skiprows, skipfooter, nrows, na_values, keep_default_na, na_filter, verbose, skip_blank_lines, parse_dates, infer_datetime_format, keep_date_col, date_parser, date_format, dayfirst, cache_dates, iterator, chunksize, compression, thousands, decimal, lineterminator, quotechar, quoting, doublequote, escapechar, comment, encoding, encoding_errors, dialect, on_bad_lines, delim_whitespace, low_memory, memory_map, float_precision, storage_options, dtype_backend)\u001b[0m\n\u001b[1;32m   1013\u001b[0m kwds_defaults \u001b[38;5;241m=\u001b[39m _refine_defaults_read(\n\u001b[1;32m   1014\u001b[0m     dialect,\n\u001b[1;32m   1015\u001b[0m     delimiter,\n\u001b[0;32m   (...)\u001b[0m\n\u001b[1;32m   1022\u001b[0m     dtype_backend\u001b[38;5;241m=\u001b[39mdtype_backend,\n\u001b[1;32m   1023\u001b[0m )\n\u001b[1;32m   1024\u001b[0m kwds\u001b[38;5;241m.\u001b[39mupdate(kwds_defaults)\n\u001b[0;32m-> 1026\u001b[0m \u001b[38;5;28;01mreturn\u001b[39;00m \u001b[43m_read\u001b[49m\u001b[43m(\u001b[49m\u001b[43mfilepath_or_buffer\u001b[49m\u001b[43m,\u001b[49m\u001b[43m \u001b[49m\u001b[43mkwds\u001b[49m\u001b[43m)\u001b[49m\n",
      "File \u001b[0;32m~/.local/lib/python3.12/site-packages/pandas/io/parsers/readers.py:620\u001b[0m, in \u001b[0;36m_read\u001b[0;34m(filepath_or_buffer, kwds)\u001b[0m\n\u001b[1;32m    617\u001b[0m _validate_names(kwds\u001b[38;5;241m.\u001b[39mget(\u001b[38;5;124m\"\u001b[39m\u001b[38;5;124mnames\u001b[39m\u001b[38;5;124m\"\u001b[39m, \u001b[38;5;28;01mNone\u001b[39;00m))\n\u001b[1;32m    619\u001b[0m \u001b[38;5;66;03m# Create the parser.\u001b[39;00m\n\u001b[0;32m--> 620\u001b[0m parser \u001b[38;5;241m=\u001b[39m \u001b[43mTextFileReader\u001b[49m\u001b[43m(\u001b[49m\u001b[43mfilepath_or_buffer\u001b[49m\u001b[43m,\u001b[49m\u001b[43m \u001b[49m\u001b[38;5;241;43m*\u001b[39;49m\u001b[38;5;241;43m*\u001b[39;49m\u001b[43mkwds\u001b[49m\u001b[43m)\u001b[49m\n\u001b[1;32m    622\u001b[0m \u001b[38;5;28;01mif\u001b[39;00m chunksize \u001b[38;5;129;01mor\u001b[39;00m iterator:\n\u001b[1;32m    623\u001b[0m     \u001b[38;5;28;01mreturn\u001b[39;00m parser\n",
      "File \u001b[0;32m~/.local/lib/python3.12/site-packages/pandas/io/parsers/readers.py:1620\u001b[0m, in \u001b[0;36mTextFileReader.__init__\u001b[0;34m(self, f, engine, **kwds)\u001b[0m\n\u001b[1;32m   1617\u001b[0m     \u001b[38;5;28mself\u001b[39m\u001b[38;5;241m.\u001b[39moptions[\u001b[38;5;124m\"\u001b[39m\u001b[38;5;124mhas_index_names\u001b[39m\u001b[38;5;124m\"\u001b[39m] \u001b[38;5;241m=\u001b[39m kwds[\u001b[38;5;124m\"\u001b[39m\u001b[38;5;124mhas_index_names\u001b[39m\u001b[38;5;124m\"\u001b[39m]\n\u001b[1;32m   1619\u001b[0m \u001b[38;5;28mself\u001b[39m\u001b[38;5;241m.\u001b[39mhandles: IOHandles \u001b[38;5;241m|\u001b[39m \u001b[38;5;28;01mNone\u001b[39;00m \u001b[38;5;241m=\u001b[39m \u001b[38;5;28;01mNone\u001b[39;00m\n\u001b[0;32m-> 1620\u001b[0m \u001b[38;5;28mself\u001b[39m\u001b[38;5;241m.\u001b[39m_engine \u001b[38;5;241m=\u001b[39m \u001b[38;5;28;43mself\u001b[39;49m\u001b[38;5;241;43m.\u001b[39;49m\u001b[43m_make_engine\u001b[49m\u001b[43m(\u001b[49m\u001b[43mf\u001b[49m\u001b[43m,\u001b[49m\u001b[43m \u001b[49m\u001b[38;5;28;43mself\u001b[39;49m\u001b[38;5;241;43m.\u001b[39;49m\u001b[43mengine\u001b[49m\u001b[43m)\u001b[49m\n",
      "File \u001b[0;32m~/.local/lib/python3.12/site-packages/pandas/io/parsers/readers.py:1880\u001b[0m, in \u001b[0;36mTextFileReader._make_engine\u001b[0;34m(self, f, engine)\u001b[0m\n\u001b[1;32m   1878\u001b[0m     \u001b[38;5;28;01mif\u001b[39;00m \u001b[38;5;124m\"\u001b[39m\u001b[38;5;124mb\u001b[39m\u001b[38;5;124m\"\u001b[39m \u001b[38;5;129;01mnot\u001b[39;00m \u001b[38;5;129;01min\u001b[39;00m mode:\n\u001b[1;32m   1879\u001b[0m         mode \u001b[38;5;241m+\u001b[39m\u001b[38;5;241m=\u001b[39m \u001b[38;5;124m\"\u001b[39m\u001b[38;5;124mb\u001b[39m\u001b[38;5;124m\"\u001b[39m\n\u001b[0;32m-> 1880\u001b[0m \u001b[38;5;28mself\u001b[39m\u001b[38;5;241m.\u001b[39mhandles \u001b[38;5;241m=\u001b[39m \u001b[43mget_handle\u001b[49m\u001b[43m(\u001b[49m\n\u001b[1;32m   1881\u001b[0m \u001b[43m    \u001b[49m\u001b[43mf\u001b[49m\u001b[43m,\u001b[49m\n\u001b[1;32m   1882\u001b[0m \u001b[43m    \u001b[49m\u001b[43mmode\u001b[49m\u001b[43m,\u001b[49m\n\u001b[1;32m   1883\u001b[0m \u001b[43m    \u001b[49m\u001b[43mencoding\u001b[49m\u001b[38;5;241;43m=\u001b[39;49m\u001b[38;5;28;43mself\u001b[39;49m\u001b[38;5;241;43m.\u001b[39;49m\u001b[43moptions\u001b[49m\u001b[38;5;241;43m.\u001b[39;49m\u001b[43mget\u001b[49m\u001b[43m(\u001b[49m\u001b[38;5;124;43m\"\u001b[39;49m\u001b[38;5;124;43mencoding\u001b[39;49m\u001b[38;5;124;43m\"\u001b[39;49m\u001b[43m,\u001b[49m\u001b[43m \u001b[49m\u001b[38;5;28;43;01mNone\u001b[39;49;00m\u001b[43m)\u001b[49m\u001b[43m,\u001b[49m\n\u001b[1;32m   1884\u001b[0m \u001b[43m    \u001b[49m\u001b[43mcompression\u001b[49m\u001b[38;5;241;43m=\u001b[39;49m\u001b[38;5;28;43mself\u001b[39;49m\u001b[38;5;241;43m.\u001b[39;49m\u001b[43moptions\u001b[49m\u001b[38;5;241;43m.\u001b[39;49m\u001b[43mget\u001b[49m\u001b[43m(\u001b[49m\u001b[38;5;124;43m\"\u001b[39;49m\u001b[38;5;124;43mcompression\u001b[39;49m\u001b[38;5;124;43m\"\u001b[39;49m\u001b[43m,\u001b[49m\u001b[43m \u001b[49m\u001b[38;5;28;43;01mNone\u001b[39;49;00m\u001b[43m)\u001b[49m\u001b[43m,\u001b[49m\n\u001b[1;32m   1885\u001b[0m \u001b[43m    \u001b[49m\u001b[43mmemory_map\u001b[49m\u001b[38;5;241;43m=\u001b[39;49m\u001b[38;5;28;43mself\u001b[39;49m\u001b[38;5;241;43m.\u001b[39;49m\u001b[43moptions\u001b[49m\u001b[38;5;241;43m.\u001b[39;49m\u001b[43mget\u001b[49m\u001b[43m(\u001b[49m\u001b[38;5;124;43m\"\u001b[39;49m\u001b[38;5;124;43mmemory_map\u001b[39;49m\u001b[38;5;124;43m\"\u001b[39;49m\u001b[43m,\u001b[49m\u001b[43m \u001b[49m\u001b[38;5;28;43;01mFalse\u001b[39;49;00m\u001b[43m)\u001b[49m\u001b[43m,\u001b[49m\n\u001b[1;32m   1886\u001b[0m \u001b[43m    \u001b[49m\u001b[43mis_text\u001b[49m\u001b[38;5;241;43m=\u001b[39;49m\u001b[43mis_text\u001b[49m\u001b[43m,\u001b[49m\n\u001b[1;32m   1887\u001b[0m \u001b[43m    \u001b[49m\u001b[43merrors\u001b[49m\u001b[38;5;241;43m=\u001b[39;49m\u001b[38;5;28;43mself\u001b[39;49m\u001b[38;5;241;43m.\u001b[39;49m\u001b[43moptions\u001b[49m\u001b[38;5;241;43m.\u001b[39;49m\u001b[43mget\u001b[49m\u001b[43m(\u001b[49m\u001b[38;5;124;43m\"\u001b[39;49m\u001b[38;5;124;43mencoding_errors\u001b[39;49m\u001b[38;5;124;43m\"\u001b[39;49m\u001b[43m,\u001b[49m\u001b[43m \u001b[49m\u001b[38;5;124;43m\"\u001b[39;49m\u001b[38;5;124;43mstrict\u001b[39;49m\u001b[38;5;124;43m\"\u001b[39;49m\u001b[43m)\u001b[49m\u001b[43m,\u001b[49m\n\u001b[1;32m   1888\u001b[0m \u001b[43m    \u001b[49m\u001b[43mstorage_options\u001b[49m\u001b[38;5;241;43m=\u001b[39;49m\u001b[38;5;28;43mself\u001b[39;49m\u001b[38;5;241;43m.\u001b[39;49m\u001b[43moptions\u001b[49m\u001b[38;5;241;43m.\u001b[39;49m\u001b[43mget\u001b[49m\u001b[43m(\u001b[49m\u001b[38;5;124;43m\"\u001b[39;49m\u001b[38;5;124;43mstorage_options\u001b[39;49m\u001b[38;5;124;43m\"\u001b[39;49m\u001b[43m,\u001b[49m\u001b[43m \u001b[49m\u001b[38;5;28;43;01mNone\u001b[39;49;00m\u001b[43m)\u001b[49m\u001b[43m,\u001b[49m\n\u001b[1;32m   1889\u001b[0m \u001b[43m\u001b[49m\u001b[43m)\u001b[49m\n\u001b[1;32m   1890\u001b[0m \u001b[38;5;28;01massert\u001b[39;00m \u001b[38;5;28mself\u001b[39m\u001b[38;5;241m.\u001b[39mhandles \u001b[38;5;129;01mis\u001b[39;00m \u001b[38;5;129;01mnot\u001b[39;00m \u001b[38;5;28;01mNone\u001b[39;00m\n\u001b[1;32m   1891\u001b[0m f \u001b[38;5;241m=\u001b[39m \u001b[38;5;28mself\u001b[39m\u001b[38;5;241m.\u001b[39mhandles\u001b[38;5;241m.\u001b[39mhandle\n",
      "File \u001b[0;32m~/.local/lib/python3.12/site-packages/pandas/io/common.py:873\u001b[0m, in \u001b[0;36mget_handle\u001b[0;34m(path_or_buf, mode, encoding, compression, memory_map, is_text, errors, storage_options)\u001b[0m\n\u001b[1;32m    868\u001b[0m \u001b[38;5;28;01melif\u001b[39;00m \u001b[38;5;28misinstance\u001b[39m(handle, \u001b[38;5;28mstr\u001b[39m):\n\u001b[1;32m    869\u001b[0m     \u001b[38;5;66;03m# Check whether the filename is to be opened in binary mode.\u001b[39;00m\n\u001b[1;32m    870\u001b[0m     \u001b[38;5;66;03m# Binary mode does not support 'encoding' and 'newline'.\u001b[39;00m\n\u001b[1;32m    871\u001b[0m     \u001b[38;5;28;01mif\u001b[39;00m ioargs\u001b[38;5;241m.\u001b[39mencoding \u001b[38;5;129;01mand\u001b[39;00m \u001b[38;5;124m\"\u001b[39m\u001b[38;5;124mb\u001b[39m\u001b[38;5;124m\"\u001b[39m \u001b[38;5;129;01mnot\u001b[39;00m \u001b[38;5;129;01min\u001b[39;00m ioargs\u001b[38;5;241m.\u001b[39mmode:\n\u001b[1;32m    872\u001b[0m         \u001b[38;5;66;03m# Encoding\u001b[39;00m\n\u001b[0;32m--> 873\u001b[0m         handle \u001b[38;5;241m=\u001b[39m \u001b[38;5;28;43mopen\u001b[39;49m\u001b[43m(\u001b[49m\n\u001b[1;32m    874\u001b[0m \u001b[43m            \u001b[49m\u001b[43mhandle\u001b[49m\u001b[43m,\u001b[49m\n\u001b[1;32m    875\u001b[0m \u001b[43m            \u001b[49m\u001b[43mioargs\u001b[49m\u001b[38;5;241;43m.\u001b[39;49m\u001b[43mmode\u001b[49m\u001b[43m,\u001b[49m\n\u001b[1;32m    876\u001b[0m \u001b[43m            \u001b[49m\u001b[43mencoding\u001b[49m\u001b[38;5;241;43m=\u001b[39;49m\u001b[43mioargs\u001b[49m\u001b[38;5;241;43m.\u001b[39;49m\u001b[43mencoding\u001b[49m\u001b[43m,\u001b[49m\n\u001b[1;32m    877\u001b[0m \u001b[43m            \u001b[49m\u001b[43merrors\u001b[49m\u001b[38;5;241;43m=\u001b[39;49m\u001b[43merrors\u001b[49m\u001b[43m,\u001b[49m\n\u001b[1;32m    878\u001b[0m \u001b[43m            \u001b[49m\u001b[43mnewline\u001b[49m\u001b[38;5;241;43m=\u001b[39;49m\u001b[38;5;124;43m\"\u001b[39;49m\u001b[38;5;124;43m\"\u001b[39;49m\u001b[43m,\u001b[49m\n\u001b[1;32m    879\u001b[0m \u001b[43m        \u001b[49m\u001b[43m)\u001b[49m\n\u001b[1;32m    880\u001b[0m     \u001b[38;5;28;01melse\u001b[39;00m:\n\u001b[1;32m    881\u001b[0m         \u001b[38;5;66;03m# Binary mode\u001b[39;00m\n\u001b[1;32m    882\u001b[0m         handle \u001b[38;5;241m=\u001b[39m \u001b[38;5;28mopen\u001b[39m(handle, ioargs\u001b[38;5;241m.\u001b[39mmode)\n",
      "\u001b[0;31mFileNotFoundError\u001b[0m: [Errno 2] No such file or directory: './data/cars_hw.csv'"
     ]
    }
   ],
   "source": [
    "import pandas as pd\n",
    "import seaborn as sns\n",
    "df = pd.read_csv('./data/cars_hw.csv') # Load the data\n",
    "df0 = df # Let's keep the original data around for comparison purposes"
   ]
  },
  {
   "cell_type": "code",
   "execution_count": null,
   "id": "b61152a3-2bc3-42a8-a5cb-edc6ae39c430",
   "metadata": {},
   "outputs": [],
   "source": [
    "df.head() # Glance at the data"
   ]
  },
  {
   "cell_type": "code",
   "execution_count": null,
   "id": "63a478d4-b9a9-49c7-bcc9-b00319959a79",
   "metadata": {},
   "outputs": [],
   "source": [
    "df['price'].hist(bins=20) "
   ]
  },
  {
   "cell_type": "code",
   "execution_count": null,
   "id": "27a753b8-c08f-497e-abde-c15554ef31ce",
   "metadata": {},
   "outputs": [],
   "source": [
    "df['age'] = max(df['year'])-df['year'] # Convert year to age\n",
    "df['age'].hist(bins=20)"
   ]
  },
  {
   "cell_type": "code",
   "execution_count": null,
   "id": "ff889623-314b-4640-b36c-ec3a39ec4cef",
   "metadata": {},
   "outputs": [],
   "source": [
    "sns.scatterplot(data=df,y='price',x='age') # We've got some outliers here"
   ]
  },
  {
   "cell_type": "code",
   "execution_count": null,
   "id": "48850681-19a0-494f-9ee5-52c2db7fd193",
   "metadata": {},
   "outputs": [],
   "source": [
    "# Take arcsinh transformation to rescale the variables\n",
    "df['price_ihs'] = np.arcsinh(df['price'])\n",
    "df['age_ihs'] = np.arcsinh(df['age'])\n",
    "sns.scatterplot(data=df,y='price_ihs',x='age_ihs') # We've got some outliers here"
   ]
  },
  {
   "cell_type": "code",
   "execution_count": null,
   "id": "bb1a853c-7bbe-4605-b246-99b6b5cee447",
   "metadata": {},
   "outputs": [],
   "source": [
    "df['price_ihs'].plot.box() # Outliers below 9"
   ]
  },
  {
   "cell_type": "code",
   "execution_count": null,
   "id": "0ea9793e-4046-47bd-81dd-2e4a3f10e29f",
   "metadata": {},
   "outputs": [],
   "source": [
    "df['age_ihs'].plot.box() # Outliers above 4"
   ]
  },
  {
   "cell_type": "code",
   "execution_count": null,
   "id": "7c4b73b6-1548-4d77-8c54-9703d99288a4",
   "metadata": {},
   "outputs": [],
   "source": [
    "# Drop outliers:\n",
    "df = df.loc[df['price_ihs']>9,:]\n",
    "df = df.loc[df['age_ihs']<4,:]"
   ]
  },
  {
   "cell_type": "code",
   "execution_count": null,
   "id": "f23e3770-ff1a-4bb0-af11-7c2efd7be3ab",
   "metadata": {},
   "outputs": [],
   "source": [
    "sns.scatterplot(data=df,y='price_ihs',x='age_ihs')"
   ]
  },
  {
   "cell_type": "code",
   "execution_count": null,
   "id": "679189f7-9a77-47bb-89c1-3c830fe626f4",
   "metadata": {},
   "outputs": [],
   "source": [
    "x = df['age_ihs']\n",
    "y = df['price_ihs']\n",
    "\n",
    "coef = slr(x,y)\n",
    "\n",
    "y_hat = coef['b0']+coef['b1']*x\n",
    "plt.scatter(x,y,label='Data')\n",
    "plt.plot(x,y_hat,label='Regression Line',color='black')\n",
    "plt.xlabel(\"X\")\n",
    "plt.ylabel(\"Y\")\n",
    "plt.legend(loc='upper right')\n",
    "plt.title('Linear Regression: Looks OK')\n",
    "\n",
    "plt.show()"
   ]
  },
  {
   "cell_type": "code",
   "execution_count": null,
   "id": "782edfa9",
   "metadata": {},
   "outputs": [],
   "source": [
    "df.sort_values('age',inplace=True) # Sorts the data by age of car\n",
    "\n",
    "x = df['age']\n",
    "y = df['price']\n",
    "coef = slr( df['age_ihs'], df['price_ihs'])\n",
    "y_hat = np.sinh(coef['b0']+coef['b1']*df['age_ihs']) # sinh is the inverse of arcsinh\n",
    "\n",
    "plt.scatter(x,y,label='Data')\n",
    "plt.plot(x,y_hat,label='Regression Line',color='black',linewidth=2)\n",
    "plt.xlabel(\"X\")\n",
    "plt.ylabel(\"Y\")\n",
    "plt.legend(loc='upper right')\n",
    "plt.title('Linear Regression: Original Units')\n",
    "\n",
    "plt.show()"
   ]
  },
  {
   "cell_type": "code",
   "execution_count": null,
   "id": "5b0fe215-2b2f-458f-8f23-3a81aa3ec47a",
   "metadata": {},
   "outputs": [],
   "source": [
    "# Why bother with all that data cleaning?\n",
    "x = df0['age']\n",
    "y = df0['price']\n",
    "\n",
    "coef = slr(x,y)\n",
    "\n",
    "y_hat = coef['b0']+coef['b1']*x\n",
    "plt.scatter(x,y,label='Data')\n",
    "plt.plot(x,y_hat,label='Regression Line',color='black')\n",
    "plt.xlabel(\"X\")\n",
    "plt.ylabel(\"Y\")\n",
    "plt.legend(loc='lower left')\n",
    "plt.title('Linear Regression: Looks Bad')\n",
    "\n",
    "plt.show()"
   ]
  },
  {
   "cell_type": "markdown",
   "id": "1c9e0705-8e75-43ab-8cf2-c7717a333520",
   "metadata": {},
   "source": [
    "## Examples\n",
    "- Predict car prices from attributes\n",
    "- Predict Airbnb rental prices from housing features\n",
    "- Predict probability of heart failure from patient characteristics\n",
    "- Predict bond and sentence from defendant demographics and criminal record\n",
    "- Predict student loan debt creation as a function of institution characteristics\n"
   ]
  },
  {
   "cell_type": "markdown",
   "id": "86037902-98c1-45a7-b4f5-e522eb12af28",
   "metadata": {},
   "source": [
    "## Errors/Residuals\n",
    "- Fitting a linear model is based on minimizing the unexplained variation in the data\n",
    "- Let $\\hat{y}_i = x_i \\cdot b$ be the prediction for observation $i$\n",
    "- The *residual* or *error* for observation $i$ is\n",
    "$$\n",
    "e_i = y_i - \\hat{y}_i = y_i - x_i \\cdot b \n",
    "$$\n",
    "This is how far off the in-sample prediction is, using the coefficients $b$ and variables $x_i$ for observation $i$ to make a prediction $\\hat{y}_i$ --- how bad is our model at predicting values for data we already have?"
   ]
  },
  {
   "cell_type": "markdown",
   "id": "24f57042-dbdb-44c2-aa6b-706d66271121",
   "metadata": {},
   "source": [
    "## Sum-of-Squared-Error, `SSE`\n",
    "- Some errors will generally be positive and some negative, but we want to count any error as undesirable, and larger errors as even worse failures. So, we square the error,\n",
    "$$\n",
    "e_i^2 = (y_i - \\hat{y}_i)^2\n",
    "$$\n",
    "and sum over the observations,\n",
    "$$\n",
    "\\text{SSE} = \\sum_{i=1}^N e_i^2 = \\sum_{i=1}^N (y_i - \\hat{y}_i)^2\n",
    "$$\n",
    "to get the **Sum of Squared Error**. \n",
    "- This is often normalized as an average, to get the **mean squared error**,\n",
    "$$\n",
    "\\text{MSE} = \\dfrac{1}{N} \\sum_{i=1}^N (y_i - \\hat{y}_i)^2,\n",
    "$$\n",
    "and often further normalized by taking the square root to get the **root mean square error**\n",
    "$$\n",
    "\\text{RMSE} = \\sqrt{ \\dfrac{1}{N} \\sum_{i=1}^N (y_i - \\hat{y}_i)^2}.\n",
    "$$\n",
    "- From a stats perspective there are subtle differences, but from a model-fitting perspective, these are all fundamentally the same thing: A metric of model performance based on squared error"
   ]
  },
  {
   "cell_type": "code",
   "execution_count": null,
   "id": "86784247-2172-48e0-a05e-7b518d5ce428",
   "metadata": {},
   "outputs": [],
   "source": [
    "# The sum of the squares of the red lines is the SSE:\n",
    "np.random.seed(500) # Set the seed for the random number generator\n",
    "N = 30\n",
    "x = 5 + 2*np.random.normal(0,1,size = N) # Create an x\n",
    "eps = np.random.normal(0,3,size = N) # Create noise\n",
    "b0 = -1 # Intercept coefficoent\n",
    "b1 = 3 # Slope coefficient\n",
    "y = b0 + b1*x + eps\n",
    "reg = slr(x,y) # Run the regression\n",
    "for i in range(len(x)):\n",
    "    plt.vlines(x[i], y[i], reg['y_hat'][i], color='r') # Visualize residuals\n",
    "plt.plot(x,reg['y_hat'],label='Regression Line')\n",
    "plt.scatter(x,y,label='Data')\n",
    "plt.xlabel(\"X\")\n",
    "plt.ylabel(\"Y\")\n",
    "plt.legend(loc='lower right')\n",
    "plt.title('Visualizing SSE: Sum of Squared Red Lines')\n",
    "plt.show()"
   ]
  },
  {
   "cell_type": "markdown",
   "id": "0b06cd3e-6ee9-41b6-9239-b91429c502d0",
   "metadata": {},
   "source": [
    "## Other Model Metrics\n",
    "- There is no reason you can't target other measures of model performance, like **mean absolute deviation** which is more robust to outliers,\n",
    "$$ \\text{MAD} = \\dfrac{1}{N} \\sum_{i=1}^N |y_i - \\hat{y}_i|$$\n",
    "or **worst absolute deviation** where worst-case prediction is the concern,\n",
    "$$ \\text{WAD} = \\max_i |y_i - \\hat{y}_i|$$\n",
    "- There are (at least) hundreds of different metrics of model success besides `SSE`\n",
    "- Why `SSE`? Probably because we can easily use calculus to minimize it."
   ]
  },
  {
   "cell_type": "markdown",
   "id": "0ba6183b-5a25-437a-91b4-52d58dce2d8b",
   "metadata": {},
   "source": [
    "## Minimizing the `SSE`\n",
    "- The goal of *linear regression* is to pick $b$ to make $\\text{SSE}(b)$ as small as possible. \n",
    "- Let's do this for a *single linear model* with a constant and one explanatory/feature variable $x_i$:\n",
    "$$\n",
    "y_i = b_0 \\times 1 + b_1 \\times x_i\n",
    "$$\n",
    "- Then the `SSE` is:\n",
    "$$\n",
    "\\text{SSE}(b_0, b_1) = \\sum_{i=1}^N (y_i - b_0 - b_1 x_i)^2\n",
    "$$\n"
   ]
  },
  {
   "cell_type": "markdown",
   "id": "75755795-3377-42ea-8dd5-508c1501b789",
   "metadata": {},
   "source": [
    "## Optimization\n",
    "- From my perpsective, the main reason to study calculus is to learn how to minimize/maximize and approximate functions\n",
    "- To do interesting things in quantitative subjects, you typically need the mathematical background to maximize or minimize things like $\\text{SSE}$ with respsect to $b_0$ and $b_1$\n",
    "- Roughly, to minimize a function $f(b)$, you take the derivative with respect to $b$, $f'(b)$, set it equal to zero, and solve for $b^*$ --- this is called a *first order necessary condition*"
   ]
  },
  {
   "cell_type": "markdown",
   "id": "d57bf370-6bea-4cf7-be5c-2bdf3b4fa415",
   "metadata": {},
   "source": [
    "## First-Order Conditions for Optimization\n",
    "- If $\\text{SSE}(b_0,b_1) = \\sum_{i=1}^N(y_i-b_0 - b_1x_i)^2$, the necessary condition for $b_0$ is\n",
    "$$\n",
    "\\sum_{i=1}^N-2(y_i-b_0-b_1 x_i) = 0\n",
    "$$\n",
    "and the necessary condition for $b_1$ is\n",
    "$$\n",
    "\\sum_{i=1}^N -2(y_i - b_0 - b_1 x_i)x_i = 0\n",
    "$$\n",
    "- How do we simplify these?\n",
    "- Define $\\bar{x}$ as the mean of $x$,\n",
    "$$\n",
    "\\bar{x} = \\dfrac{1}{N} \\sum_{i=1}^N x_i,\n",
    "$$\n",
    "and similarly for $\\bar{y}$"
   ]
  },
  {
   "cell_type": "markdown",
   "id": "ebb27a0d-d526-4cf3-94c4-5f6b8da62ede",
   "metadata": {},
   "source": [
    "## The First Condition\n",
    "- We can simplify the first condition for $b_0$ as:\n",
    "\\begin{alignat*}{2}\n",
    "0 &=& \\sum_{i=1}^N(y_i-b_0-b_1 x_i) \\\\\n",
    "&=&  \\sum_{i=1}^N y_i- \\sum_{i=1}^N b_0-b_1 \\sum_{i=1}^N x_i  \\quad (\\text{Distribute summation})\\\\\n",
    "&=& \\sum_{i=1}^N y_i- N b_0-b_1 \\sum_{i=1}^N x_i \\quad (\\text{Sum $b_0$ $N$ times})\\\\\n",
    "&=& \\dfrac{\\sum_{i=1}^N y_i}{N} -  b_0-b_1 \\dfrac{\\sum_{i=1}^N x_i}{N} \\quad (\\text{Divide by $N$})\\\\\n",
    "0 &=& \\bar{y} - b_0 - b_1 \\bar{x} \\quad (\\text{Use definitions})\n",
    "\\end{alignat*}\n",
    "implying $b_0^* = \\bar{y} - b_1^* \\bar{x}$.\n"
   ]
  },
  {
   "cell_type": "markdown",
   "id": "d0312382-89a6-45c0-b633-5c6148c0bfe9",
   "metadata": {},
   "source": [
    "## The Second Condition\n",
    "- For the second condition for $b_1$:\n",
    "\\begin{alignat*}{2}\n",
    "0 &=& \\sum_{i=1}^N (y_i - b_0 - b_1 x_i)x_i \\\\\n",
    "&=& \\sum_{i=1}^N (y_i - (\\bar{y} - b_1 \\bar{x}) - b_1 x_i)x_i \\quad (\\text{Substitute in $b_0^*$})\\\\\n",
    "&=& \\sum_{i=1}^N (y_i - \\bar{y})x_i - b_1 (x_i -\\bar{x})x_i \\quad (\\text{Distribute $x_i$, group terms})\\\\\n",
    "0 &=& \\sum_{i=1}^N (y_i - \\bar{y})x_i - b_1 \\sum_{i=1}^N (x_i -\\bar{x})x_i \\quad (\\text{Distribute summation})\\\\\n",
    "\\end{alignat*}\n",
    "implying\n",
    "$$\n",
    "b_1^* = \\dfrac{\\sum_{i=1}^N (y_i - \\bar{y})x_i}{\\sum_{i=1}^N (x_i -\\bar{x})x_i}.\n",
    "$$\n",
    "(This is roughly the correlation between $x$ and $y$ divided by the variance of $x$)\n"
   ]
  },
  {
   "cell_type": "markdown",
   "id": "c2212f8e-81b8-4e4b-a25e-c12063dd5b88",
   "metadata": {},
   "source": [
    "## Single Linear Regression \n",
    "- Notice that the first condition can be written as\n",
    "$$\n",
    "0 = \\sum_{i=1}^N (y_i - b_0 - b_1 x_i) \n",
    "  = \\sum_{i=1}^N (y_i - \\hat{y}_i)\n",
    " = \\dfrac{1}{N} \\sum_{i=1}^N e_i \n",
    "$$\n",
    "so **the average error is equal to zero at the optimum**\n",
    "- The second condition can be written as\n",
    "$$\n",
    "0 = \\sum_{i=1}^N (y_i - b_0 - b_1 x_i)x_i \n",
    "= \\sum_{i=1}^N (y_i - \\hat{y}_i)x_i \n",
    " = \\sum_{i=1}^N e_i x_i \n",
    " = e \\cdot x \n",
    "$$\n",
    "**The error term and explanatory variable are statistically uncorrelated, and at \"right angles\" to one another (orthogonal)**\n"
   ]
  },
  {
   "cell_type": "markdown",
   "id": "b209058c-0eba-46dd-9203-618ed742be83",
   "metadata": {},
   "source": [
    "## Single Linear Regression Function\n",
    "- Here is an implementation of single linear regression, which returns a dictionary including the coefficients, the predicted values, and the residuals:"
   ]
  },
  {
   "cell_type": "code",
   "execution_count": null,
   "id": "6d802341-4d04-4b2e-bfc1-b34d1ee22a69",
   "metadata": {},
   "outputs": [],
   "source": [
    "def slr(x,y): # Single Linear Regression Function\n",
    "    x_bar = np.mean(x) # Average of x's\n",
    "    y_bar = np.mean(y) # Average of y's\n",
    "    b1 = ((x-x_bar)@(y-y_bar))/((x-x_bar)@x) # Slope coefficient\n",
    "    b0 = y_bar - b1*x_bar # Intercept coefficient\n",
    "    y_hat = b0 + b1*x   # Compute predictions\n",
    "    residuals = y - y_hat   # Compute residuals\n",
    "    return({'b0':b0,'b1':b1,'y_hat':y_hat,'residuals':residuals})"
   ]
  },
  {
   "cell_type": "markdown",
   "id": "83a14730-5a45-4253-a6b3-0adf822baa0f",
   "metadata": {},
   "source": [
    "## Partialing Out, Projection\n",
    "- The regression breaks $y$ into two pieces:\n",
    "\\begin{alignat*}{2}\n",
    "y_i &=& (y_i - \\hat{y}_i) + \\hat{y}_i\\\\\n",
    "&=& e_i + \\hat{y}_i\\\\\n",
    "\\underbrace{y_i}_{\\text{True value}} &=& \\underbrace{e_i}_{\\text{Error, residual}} + \\underbrace{x_i \\cdot b}_{\\text{Model, prediction}}\n",
    "\\end{alignat*}\n",
    "- But the residual from OLS averages to zero: It is uncorrelated with the prediction\n",
    "- You can understand linear regression as removing the variation in $Y$ that can be explained by $X$ --- The residual contains all of the noise, the predictor $\\hat{b} \\cdot x$ contains all of the signal\n"
   ]
  },
  {
   "cell_type": "code",
   "execution_count": null,
   "id": "fb80dddc-bed9-4599-9449-d486cbd4123b",
   "metadata": {},
   "outputs": [],
   "source": [
    "np.random.seed(102) # Set the seed for the random number generator\n",
    "N = 30\n",
    "\n",
    "x = 5 + 2*np.random.normal(0,1,size = N) # Create an x\n",
    "eps = np.random.normal(0,3,size = N) # Create noise\n",
    "b0 = -1 # Intercept coefficoent\n",
    "b1 = 3 # Slope coefficient\n",
    "y = b0 + b1*x + eps\n",
    "\n",
    "def slr(x,y): # Single Linear Regression Function\n",
    "    x_bar = np.mean(x)\n",
    "    y_bar = np.mean(y)\n",
    "    b1 = np.inner(x-x_bar,y-y_bar)/np.inner(x-x_bar,x)\n",
    "    b0 = y_bar - b1*x_bar\n",
    "    y_hat = b0 + b1*x\n",
    "    residuals = y - y_hat\n",
    "    return({'b0':b0,'b1':b1,'y_hat':y_hat,'residuals':residuals})\n",
    "    \n",
    "reg = slr(x,y) # Run the regression\n",
    "print('Coefficients: ',reg['b0'],reg['b1'])\n",
    "\n",
    "# Plot the resuts:\n",
    "for i in range(len(x)):\n",
    "    plt.vlines(x[i], y[i], reg['y_hat'][i], color='r') # Visualize residuals\n",
    "\n",
    "\n",
    "plt.scatter(x,y,label='Data')\n",
    "plt.plot(x,reg['y_hat'],label='Regression Line')\n",
    "plt.xlabel(\"X\")\n",
    "plt.ylabel(\"Y\")\n",
    "plt.legend(loc='lower right')\n",
    "plt.title('Linear Regression')\n"
   ]
  },
  {
   "cell_type": "code",
   "execution_count": null,
   "id": "f84b18e9-1af2-4cfa-bdd5-96140510a06f",
   "metadata": {},
   "outputs": [],
   "source": [
    "plt.subplot(1, 2, 1)\n",
    "plt.scatter(x,reg['y_hat'])\n",
    "plt.xlabel(\"X\")\n",
    "plt.ylabel(\"y_hat\")\n",
    "plt.title('Prediction: Signal')\n",
    "\n",
    "plt.subplot(1, 2, 2)\n",
    "plt.scatter(x,reg['residuals'])\n",
    "plt.xlabel(\"X\")\n",
    "plt.ylabel(\"e\")\n",
    "plt.title('Residuals: Noise')\n",
    "\n",
    "pd.DataFrame({'residuals':reg['residuals'],'x':x}).cov() # Compute correlation between e and x"
   ]
  },
  {
   "cell_type": "markdown",
   "id": "30d46167-0b5e-4aff-9747-0a6e52ce8977",
   "metadata": {},
   "source": [
    "## Another SLR Example\n",
    "- Now that we understand SLR a bit better, let's do another case study, of Price versus Mileage"
   ]
  },
  {
   "cell_type": "code",
   "execution_count": null,
   "id": "d9b963c2-1888-4407-99b1-adc7a6f4a95e",
   "metadata": {},
   "outputs": [],
   "source": [
    "df = df0 # Let's start over\n",
    "df['mileage'].describe()\n",
    "df['mileage_ihs'] = np.arcsinh(df['mileage'])\n",
    "df['price_ihs'] = np.arcsinh(df['price'])\n",
    "df.loc[:,['mileage_ihs','price_ihs']].plot.box()"
   ]
  },
  {
   "cell_type": "code",
   "execution_count": null,
   "id": "be3dc228-fa83-4c88-bdf3-5704c816e7ae",
   "metadata": {},
   "outputs": [],
   "source": [
    "sns.scatterplot(data=df,y='price_ihs',x='mileage_ihs')"
   ]
  },
  {
   "cell_type": "code",
   "execution_count": null,
   "id": "2983782c-04a2-4166-9be9-d7c29510cccc",
   "metadata": {},
   "outputs": [],
   "source": [
    "sns.jointplot(data=df,y='price_ihs',x='mileage_ihs',kind='hex')"
   ]
  },
  {
   "cell_type": "code",
   "execution_count": null,
   "id": "2fbfe717-d5a7-4845-bd3c-3327f423cc96",
   "metadata": {},
   "outputs": [],
   "source": [
    "# Drop outliers:\n",
    "df = df.loc[df['mileage_ihs']>9,:] \n",
    "df = df.loc[df['mileage_ihs']<13,:]\n",
    "df = df.loc[df['price_ihs']>9,:] "
   ]
  },
  {
   "cell_type": "code",
   "execution_count": null,
   "id": "de6c80f2-b732-4b55-a828-c43f275dd819",
   "metadata": {},
   "outputs": [],
   "source": [
    "sns.scatterplot(data=df,x='price_ihs',y='mileage_ihs')"
   ]
  },
  {
   "cell_type": "code",
   "execution_count": null,
   "id": "be2c1847-1c1e-423e-b596-4dfad7b9577d",
   "metadata": {},
   "outputs": [],
   "source": [
    "x = df['mileage_ihs']\n",
    "y = df['price_ihs']\n",
    "\n",
    "coef = slr(x,y) # Single Linear Regression\n",
    "print('Intercept: ',coef['b0'], '\\n', ' Slope: ', coef['b1']) \n",
    "\n",
    "y_hat = coef['b0']+coef['b1']*x # Compute predictions\n",
    "\n",
    "# Scatter plot of fit:\n",
    "plt.scatter(x,y,label='Data')\n",
    "plt.plot(x,y_hat,label='Regression Line',color='black')\n",
    "plt.xlabel(\"Mileage, ihs\")\n",
    "plt.ylabel(\"Price, ihs\")\n",
    "plt.legend(loc='upper right')\n",
    "plt.title('Linear Regression')\n",
    "\n",
    "plt.show()"
   ]
  },
  {
   "cell_type": "code",
   "execution_count": null,
   "id": "c353ce94",
   "metadata": {},
   "outputs": [],
   "source": [
    "df.sort_values('mileage',inplace=True) # Sorts the data by age of car\n",
    "\n",
    "x = df['mileage']\n",
    "y = df['price']\n",
    "coef = slr( df['mileage_ihs'], df['price_ihs'])\n",
    "y_hat = np.sinh(coef['b0']+coef['b1']*df['mileage_ihs']) # sinh is the inverse of arcsinh\n",
    "\n",
    "plt.scatter(x,y,label='Data')\n",
    "plt.plot(x,y_hat,label='Regression Line',color='black',linewidth=2)\n",
    "plt.xlabel(\"Mileage\")\n",
    "plt.ylabel(\"Price\")\n",
    "plt.legend(loc='upper right')\n",
    "plt.title('Linear Regression: Original Units')\n",
    "\n",
    "plt.show()"
   ]
  },
  {
   "cell_type": "code",
   "execution_count": null,
   "id": "692fa87b-45a6-475b-b050-f4ca0314c4f9",
   "metadata": {},
   "outputs": [],
   "source": [
    "# Without cleaning/feature engineering:\n",
    "x = df0['mileage']\n",
    "y = df0['price']\n",
    "\n",
    "coef = slr(x,y)\n",
    "\n",
    "y_hat = coef['b0']+coef['b1']*x\n",
    "\n",
    "plt.scatter(x,y,label='Data')\n",
    "plt.plot(x,y_hat,label='Regression Line',color='black')\n",
    "plt.xlabel(\"Mileage\")\n",
    "plt.ylabel(\"Price\")\n",
    "plt.legend(loc='upper right')\n",
    "plt.title('Linear Regression')\n",
    "plt.show()"
   ]
  },
  {
   "cell_type": "markdown",
   "id": "2841f367-6cfa-4b24-8a59-1278ff8dd200",
   "metadata": {},
   "source": [
    "## Multiple Linear Regression\n",
    "- The previous discussion is great: we have some geometic intuition about how linear regression works, its mathematical foundation, and its key properties\n",
    "- Problem: It's only worked out for one regressor/feature/explanatory variable\n",
    "- How do we extend this to multiple variables? i.e., the model\n",
    "$$ y = \\underbrace{b_0}_{\\text{Intercept}} \\times 1 + b_1 \\times  x_1 + b_2 \\times x_2 + ... + b_K \\times x_K $$\n",
    "- We adjust the `SSE` to include all the variables of interest:\n",
    "$$ SSE = \\sum_{i=1}^N (y_i - b_0 - b_1 x_{i1} - b_2 x_{i2} - ... - b_K x_{iK} )^2 = \\sum_{i=1}^N (y_i - X_i \\cdot b)^2$$\n",
    "and maximize over $(b_0, b_1, ..., b_K)$.\n",
    "- We won't go over the details analytically, but minimizing $(y-Xb)'(y-Xb)$ can be done computationally (gradient descent) or using linear algebra (the solution is $b^* = (X'X)^{-1}(X'y)$)"
   ]
  },
  {
   "cell_type": "markdown",
   "id": "83df0295-459f-497b-9833-5dff8a243b7e",
   "metadata": {},
   "source": [
    "## Multiple Linear Regression Example\n",
    "- Before we looked at `age` and `mileage` separately as predictors of price\n",
    "- Now that we have MLR, we can combine then into a single model\n",
    "$$ \\text{price} = b_0 + b_{1} \\times \\text{age} + b_{2}\\times\\text{mileage}  $$"
   ]
  },
  {
   "cell_type": "code",
   "execution_count": null,
   "id": "1759c896-9023-4db1-9baf-34ce09a5aaab",
   "metadata": {},
   "outputs": [],
   "source": [
    "# One-step multilinear regression:\n",
    "def mlr(X,y): # Multiple linear regression, matrix algebra approach\n",
    "    XpX = X.T@X # Compute X'X\n",
    "    Xpy = X.T@y # Compute X'y\n",
    "    b = np.linalg.solve(XpX, Xpy) # Solve normal equations\n",
    "    y_hat = X@b # Compute predictions\n",
    "    residuals = y-y_hat # Compute residuals\n",
    "    SSE =  np.inner(residuals,residuals) # Compute SSE\n",
    "    rsq = 1 - SSE/np.inner( y-np.mean(y),y-np.mean(y)) # Compute Rsq\n",
    "    return({'b':b,'y_hat':y_hat,'residuals':residuals,'rsq':rsq,'SSE':SSE})\n",
    "\n",
    "df['(Intercept)'] = 1\n",
    "X = df.loc[:,['(Intercept)','age_ihs','mileage_ihs'] ]\n",
    "y = df['price_ihs']\n",
    "reg = mlr(X,y)\n",
    "print('MLR coefficients: ', reg['b']) # Same values!"
   ]
  },
  {
   "cell_type": "markdown",
   "id": "00fcc0c3-7d22-4b9a-966d-c909ba08cb95",
   "metadata": {},
   "source": [
    "## How does MLR work?\n",
    "- This is the deep idea in regression\n",
    "- Consider the $x_k$ whose coefficient you want to compute:\n",
    "    1. Regress $y$ and $x_k$ on all of the other coefficients, yielding residuals $r_y$ and $r_{x_k}$\n",
    "    2. Now regress $r_y$ on $r_{x_k}$ and a constant\n",
    "- The slope coefficient for the procedure described above is the same as for MLR\n",
    "- What does this mean? Linear regression \"partials out\" all of the variation in $y$ that can be explained by the other features, and the optimal weight $b_k$ reflects only the remaining variation in $y$ that can be explained by $x_k$ alone:\n",
    "$$ \n",
    "b_k = \\dfrac{ \\text{cov}(r_y, r_{x_k})}{\\sigma^2_{r_{x_k}}}\n",
    "$$  \n",
    "- We will return to this idea a lot to explain phenomena related to linear models"
   ]
  },
  {
   "cell_type": "code",
   "execution_count": null,
   "id": "c972f8f4-19bb-433c-ba9f-3d01a40511c1",
   "metadata": {},
   "outputs": [],
   "source": [
    "# Let's do all the steps laboriously:\n",
    "\n",
    "# Pick variables for analysis:\n",
    "y = df['price_ihs']\n",
    "x1 = df['mileage_ihs']\n",
    "x2 = df['age_ihs']\n",
    "\n",
    "reg1_y = slr(x1,y) # Regress y on x1\n",
    "reg1_2 = slr(x1,x2) # Regress x2 on x1\n",
    "y_temp = reg1_y['residuals'] # Extract the residual for y\n",
    "x2_temp = reg1_2['residuals'] # Extract the residual for x2\n",
    "reg_y_x2 = slr(x2_temp,y_temp) # Regress residuals on each other\n",
    "print('Age coefficient: ', reg_y_x2['b1'])\n",
    "\n",
    "reg2_y = slr(x2,y) # Regress y on x2\n",
    "reg2_1 = slr(x2,x1) # Regress x1 on x2\n",
    "y_resid = reg2_y['residuals'] # Extract the residual for y\n",
    "x1_resid = reg2_1['residuals'] # Extract the residual for x1\n",
    "reg_y_x1 = slr(x1_resid,y_resid) # Regress residuals on each other\n",
    "print('Mileage coefficient: ', reg_y_x1['b1'])\n",
    "\n",
    "# Compute intercept:\n",
    "b0 = np.mean(y) - reg_y_x1['b1'] * np.mean(x1) - reg_y_x2['b1']*np.mean(x2)\n",
    "print('Intercept: ', b0, '\\n')"
   ]
  },
  {
   "cell_type": "markdown",
   "id": "054f48b7-5b46-40ea-9a2a-c3c2ce0854a0",
   "metadata": {},
   "source": [
    "## Multiple Linear Regression \n",
    "- Once you have multiple linear regression, you can build much more complex models of phenomena\n",
    "- We probably want to include $\\text{age}^2$ and $\\text{mileage}^2$ to control for non-linear aging effects:\n",
    "$$ \\text{price} = b_0 + b_{1} \\times \\text{age} + b_{2} \\times\\text{age}^2 + b_{3}\\times\\text{mileage} + b_{4}\\times\\text{mileage}^2 $$\n",
    "- This gives a highly flexible and extensible way of modeling how features predict a target variable; you can only unlock the power of linear regression if you are willing to give it a large feature space to work with\n",
    "- Eventually, we want to discipline this process by using data, not just making up models that run the risk of overfitting our data"
   ]
  },
  {
   "cell_type": "code",
   "execution_count": null,
   "id": "f6170483-e56c-4e44-b3ca-a7757f69a3ec",
   "metadata": {},
   "outputs": [],
   "source": [
    "df.head()"
   ]
  },
  {
   "cell_type": "code",
   "execution_count": null,
   "id": "598b1d65-c6e4-4409-b2e2-ec6fa6a0fdd7",
   "metadata": {},
   "outputs": [],
   "source": [
    "y = df['price_ihs']\n",
    "df['mileage_ihs_sq'] = df['mileage_ihs']**2\n",
    "df['age_ihs_sq'] = df['age_ihs']**2\n",
    "df['(Intercept)'] = 1\n",
    "vars = ['(Intercept)','mileage_ihs','mileage_ihs_sq','age_ihs','age_ihs_sq']\n",
    "X = df.loc[:,vars]\n",
    "X.head()"
   ]
  },
  {
   "cell_type": "code",
   "execution_count": null,
   "id": "4f791305-8d64-4385-88be-b60233bfc42d",
   "metadata": {},
   "outputs": [],
   "source": [
    "reg = mlr(X,y) # Run multiple linear regression\n",
    "print(reg['b']) # Print coefficients \n",
    "reg['residuals'].plot.kde() # Plot residuals\n",
    "print(reg['rsq']) # R-squared measure of model fit"
   ]
  },
  {
   "cell_type": "markdown",
   "id": "e2e25a47-f01f-4a2c-b29d-b3f6a2aaecf9",
   "metadata": {},
   "source": [
    "## The `sklearn.linear_model` Module\n",
    "- Scikit-Learn has a linear regression object that can be used out-of-the box:\n",
    "    - `from sklearn.linear_model import LinearRegression` to load the linear regression module\n",
    "    - `myRegression = LinearRegression().fit(X, y)` fits \n",
    "- You'll see below that the results very similar to the `mlr` function above: They're using the same NumPy code \"under the hood\" to solve for the OLS coefficients, but with some additional feature engineering/normalization"
   ]
  },
  {
   "cell_type": "code",
   "execution_count": null,
   "id": "f2109e9a-f770-40b9-b4b5-ec1f4daedc6a",
   "metadata": {},
   "outputs": [],
   "source": [
    "from sklearn.linear_model import LinearRegression # Import linear regression model\n",
    "\n",
    "vars = ['mileage_ihs','mileage_ihs_sq','age_ihs','age_ihs_sq'] # This is a list of variables to use\n",
    "\n",
    "X = df.loc[:,vars] # Construct data matrix\n",
    "X.head() # Peek at data"
   ]
  },
  {
   "cell_type": "code",
   "execution_count": null,
   "id": "1912b417-981a-4274-8965-a29cddc4a67c",
   "metadata": {},
   "outputs": [],
   "source": [
    "reg = LinearRegression().fit(X, y) # Fit the linear model\n",
    "print(reg.intercept_) # Intercept value\n",
    "print(reg.coef_) # Regression coefficients\n",
    "print(reg.score(X, y)) # R squared measure"
   ]
  },
  {
   "cell_type": "markdown",
   "id": "4b6bbadd-fdf0-4c28-b6fb-7573b35b2cec",
   "metadata": {},
   "source": [
    "## Examples\n",
    "- `./data/USA_cars_datasets.csv`\n",
    "- `./data/airbnb_hw.csv`\n",
    "- `./data/heart_failure/heart_failure_clinical_records_dataset.csv`\n",
    "- `./data/pierce_county_house_sales.csv`"
   ]
  },
  {
   "cell_type": "markdown",
   "id": "60debe9f-de82-4e99-b625-d8418ac8ea12",
   "metadata": {},
   "source": [
    "## Coefficient of Determination, $R^2$\n",
    "- A natural question then is, how much noise is left to explain? How well does the model fit the data?\n",
    "- There is a common statistic used to summarize how predictive $X$ is of $y$, using the OLS coefficients, called the *coefficient of determination* or $R^2$:\n",
    "$$\n",
    "R^2 = 1 - \\dfrac{\\sum_{i=1}^N (y_i - x_i \\cdot \\hat{b})^2}{\\sum_{i=1}^N(y_i-\\bar{y})^2}\n",
    "$$\n",
    "- That numerator is the sum-of-squared-error, evaluated at $\\hat{b}$: How much error remains after trying to explain it using OLS?\n",
    "- That denominator is the error of predicting $y_i$ with just the mean as the predictor, $\\bar{y}$\n",
    "- So the ratio is the reduction in the `SSE` by using the explanatory variables rather than just the sample mean\n",
    "- This is a nice way to evaluate the model, but should not become an end in itself: Adding more variables always raises the $R^2$, but does not necessarily improve out-of-sample prediction\n",
    "- $R^2$ isn't an end in itself"
   ]
  },
  {
   "cell_type": "markdown",
   "id": "feec7a38-eafa-4b80-a5be-7b14b95f7d5b",
   "metadata": {},
   "source": [
    "## What, exactly, makes a model linear?\n",
    "- A model is linear because the coefficients, $b$, enter the prediction as\n",
    "$$\n",
    "\\hat{y} = b \\cdot \\hat{x} = b_1 \\hat{x}_1 + b_2 \\hat{x}_2 + ... b_J \\hat{x}_J\n",
    "$$\n",
    "so that the relationship between $\\hat{y}$ and each $\\hat{x}_j$ is a linear one through $b_j$\n",
    "- Taking non-linear transformations of the $x_j$'s simply gives new variables, like $\\log(x_j)$ or $x_j^2$ -- *Transformations of the regressors don't make the model nonlinear*\n",
    "- Likewise, if there was a coefficient written in a funky nonlinear way, like $\\sqrt{ \\text{asinh}(b_j)}$, you can simply relabel that coefficient as $b_j \\leftarrow \\sqrt{ \\text{asinh}(b_j)}$ and make the model linear again.\n",
    "- There *are* many interesting non-linear models, but they are often derived from a domain-specific theory and require additional work to understand"
   ]
  },
  {
   "cell_type": "markdown",
   "id": "6febc859-e48d-46b6-b946-f3ad6405663c",
   "metadata": {},
   "source": [
    "## Beyond Fitting the Model\n",
    "- Up to here, the discussion has been a standard analysis of linear models\n",
    "- From the perspective of data science, we have **model specification** questions: What variables should go in the model?\n",
    "- The power of linear models is that you can interact variables and expand the feature space, allowing you to better control how relationships between variables are modelled\n",
    "- The risk is that your model turns to mush (multicolinearity)"
   ]
  },
  {
   "cell_type": "markdown",
   "id": "d6bb1b63-eca0-4858-9e63-899eed0f7eda",
   "metadata": {},
   "source": [
    "## Expanding the Feature Space\n",
    "- To fully leverage the power of regression, you have many options to expand the range of variables that the model can use to explain the variation in the data:\n",
    "    - An **interaction term** is when you take two explanatory variables, say $x_1$ and $x_2$, and multiply them together to get a new explanatory variable, $z = x_1 x_2$, like $\\text{mileage} \\times \\text{age}$\n",
    "    - A **polynomial family** is when you take an explanatory variable, say $x$, and compute its powers $x^2$, $x^3$, ... , $x^K$. (There are many kinds of families besides polynomial.)\n",
    "    - A **logarithmic transformation** or **inverse hyperbolic sine transformation**\n",
    "    - A **maxmin normalization** or **z-score normalization**\n",
    "    - More advanced tools like **principal components analysis** decomposition of the data or **splines** that create highly transformations of variables\n",
    "    - Any combination of the above\n",
    "- This is where we run into a significant danger of overfitting: The more complex the feature space, the more opportunities we give the model to pick non-representative cases around which to build non-representative/externally invalid models\n",
    "- You can do a lot of these by hand, using `df['new_var'] = transformation(df['old_var'])`, but many common and tedious transformations are already programmed in sklearn"
   ]
  },
  {
   "cell_type": "markdown",
   "id": "34d24cd1-2d61-4ed6-97f5-c8d4246f5714",
   "metadata": {},
   "source": [
    "## Quick Polynomial and Interaction Features/Variables\n",
    "- It it tedious to compute interaction terms like $x_1 \\times x_2$ or $x^2, x^3, ..., x^m$ on your own, and it's a very common task, so `sklearn` has a convenient tool for accomplishing this\n",
    "- The `PolynomialFeatures` is the object in `sklearn.preprocessing` that can quickly create matrices of exponenetiated variables for you without doing it yourself\n",
    "- The basic steps are:\n",
    "    1. Import the object: `from sklearn.preprocessing import PolynomialFeatures`\n",
    "    2. Decide the degree of the expansion and create an expander: `expander = PolynomialFeatures(degree=2,include_bias=False)`\n",
    "    3. Execute the transformations: `Z = expander.fit_transform(X)` and get labels for the columns `names = expander.get_feature_names_out()`\n",
    "    4. Create a new dataframe: `zdf = pd.DataFrame(data=Z, columns = names)`\n",
    "    5. Possibly concatenate this new dataframe with other data\n",
    "- Use this power wisely "
   ]
  },
  {
   "cell_type": "code",
   "execution_count": null,
   "id": "b66991f0-4a98-4275-aed5-0361bfbdebb8",
   "metadata": {},
   "outputs": [],
   "source": [
    "from sklearn.preprocessing import PolynomialFeatures\n",
    "# Example dataframe:\n",
    "df = pd.DataFrame({'apples':np.array([1,3,5]),'joules':np.array([3,-2,1]), 'stocks':np.array([-2,1,4])})\n",
    "X = df\n",
    "X.head()"
   ]
  },
  {
   "cell_type": "code",
   "execution_count": null,
   "id": "0fedb3e4-f3bf-472c-81c9-a17572d682bf",
   "metadata": {},
   "outputs": [],
   "source": [
    "expander = PolynomialFeatures(degree=2,include_bias=False) # Create the expander\n",
    "Z = expander.fit_transform(X) # Pass the df into the expander to get powers/interactions of x and y\n",
    "names = expander.get_feature_names_out() # Get the names of these variables\n",
    "zdf = pd.DataFrame(data=Z, columns = names) # Create a new, expanded dataframe\n",
    "zdf.head()"
   ]
  },
  {
   "cell_type": "code",
   "execution_count": null,
   "id": "3ac9d97d-08df-4708-ab33-f5a579f08932",
   "metadata": {},
   "outputs": [],
   "source": [
    "## Compute all polynomials up to degree 3:\n",
    "expander = PolynomialFeatures(degree=3,include_bias=False) # Create the expander\n",
    "Z = expander.fit_transform(X) # Pass the df into the expander to get powers/interactions of x and y\n",
    "names = expander.get_feature_names_out() # Get the names of these variables\n",
    "zdf = pd.DataFrame(data=Z, columns = names) # Create a new, expanded dataframe\n",
    "zdf.head()"
   ]
  },
  {
   "cell_type": "code",
   "execution_count": null,
   "id": "f0288392-a7bf-40cb-9e5e-0fd73e42be22",
   "metadata": {},
   "outputs": [],
   "source": [
    "## Only compute the interactions up to degree 3:\n",
    "expander = PolynomialFeatures(degree=3,interaction_only=True,include_bias=False) # Create the expander\n",
    "Z = expander.fit_transform(X) # Pass the df into the expander to get powers/interactions of x and y\n",
    "names = expander.get_feature_names_out() # Get the names of these variables\n",
    "zdf = pd.DataFrame(data=Z, columns = names) # Create a new, expanded dataframe\n",
    "zdf.head()"
   ]
  },
  {
   "cell_type": "markdown",
   "id": "a579f7b7-f0e2-47c5-af01-f4529f260553",
   "metadata": {},
   "source": [
    "## Quick One Hot Encoding\n",
    "- We often have categorical data that need to be converted to numerical values for `sklearn` to work\n",
    "- You can use Pandas to create dummy variables out of the categorical variable using `pd.get_dummies(varName)`\n",
    "- You can use sklearn's `LabelBinarizer` from `.preprocessing` to create a matrix of one-hot encoded variables (the `OneHotEncoder` can be more complex to use)\n",
    "- **We rarely interact put one-hot variables into the polynomial feature expander, unless it's a thing we've explicitly decided to do**"
   ]
  },
  {
   "cell_type": "code",
   "execution_count": null,
   "id": "25a4cb4a-b167-40c4-9948-54570f40abdb",
   "metadata": {},
   "outputs": [],
   "source": [
    "df = pd.DataFrame({'apples':np.array([1,3,5,7]),\n",
    "                   'joules':np.array([3,-2,1,2]), \n",
    "                   'stocks':np.array([-2,1,4,6]),\n",
    "                   'bird':['Cardinal','Oriole','Robin','Oriole']})\n",
    "X = df\n",
    "X.head()"
   ]
  },
  {
   "cell_type": "code",
   "execution_count": null,
   "id": "075c9c84-1e05-45fa-b88a-87347caa5d14",
   "metadata": {},
   "outputs": [],
   "source": [
    "# With Pandas:\n",
    "ddf = pd.get_dummies(X['bird'])\n",
    "ddf.head()"
   ]
  },
  {
   "cell_type": "code",
   "execution_count": null,
   "id": "6b6b762d-2dd2-4d6b-aad4-b5645135758d",
   "metadata": {},
   "outputs": [],
   "source": [
    "# With Pandas, if you don't like booleans:\n",
    "ddf = pd.get_dummies(X['bird'],dtype='int')\n",
    "ddf.head()"
   ]
  },
  {
   "cell_type": "code",
   "execution_count": null,
   "id": "646c27f7-9248-44ac-a8e7-73057b27f13b",
   "metadata": {},
   "outputs": [],
   "source": [
    "# With sklearn:\n",
    "from sklearn.preprocessing import LabelBinarizer\n",
    "\n",
    "one_hot_encoder = LabelBinarizer()\n",
    "oh = one_hot_encoder.fit_transform(X['bird']) # One-hot encode the 'bird' variable\n",
    "print(oh)\n",
    "names = one_hot_encoder.classes_ # Get names of the classes\n",
    "print(names)\n",
    "\n",
    "zdf = pd.DataFrame( data = oh, columns = names) # Create a new df for the encoded variables\n",
    "zdf.head()"
   ]
  },
  {
   "cell_type": "markdown",
   "id": "06482793-c9f1-42ce-ae09-20e9e5ab56f0",
   "metadata": {},
   "source": [
    "## The Dummy Variable Trap\n",
    "- When running linear regression with dummy variables, you have two choices:\n",
    "    - For each dummy variable, use the `pd.get_dummies(..., drop_constant=True)`, and keep the intercept in the regression\n",
    "    - Drop the intercept of the regression with the option `LinearRegression(fit_intercept=False).fit(X, y)`, but keep all the dummies\n",
    "- The reason this occurs is that if you have an intercept and all of the dummies, you can replicate one of your regressors from a combination of other ones. This is called **perfect multicolinearity**, and some of your coefficents won't be defined\n",
    "- Most stats packages hide this in the background of the regression, but you have to handle it with pandas/sklearn more explicitly"
   ]
  },
  {
   "cell_type": "markdown",
   "id": "e295d17d-7155-405c-8b2e-3ecd955754f0",
   "metadata": {},
   "source": [
    "## Quickly Concatenating Dataframes\n",
    "- OK, you made these nice shiny features, how do you get them back into a single dataframe?\n",
    "- The `df = pd.concat([df1,df2,...,dfk],axis=1)` makes a new dataframe out of the columns of the original dataframes `df1`, `df2`, ..., `dfk`\n",
    "- So you can build all the transformed data frames you want, then collapse them all back into one dataframe for processing\n",
    "- Since you are going to do this, you might want to think carefully about how you're building the dataframe chunks, and use `.iloc` or `.loc` to be selective about what going into each one"
   ]
  },
  {
   "cell_type": "code",
   "execution_count": null,
   "id": "4d25a9a3-bd13-49ad-8afd-b258ab6077d1",
   "metadata": {},
   "outputs": [],
   "source": [
    "## Polynomial features:\n",
    "expander = PolynomialFeatures(degree=2,include_bias=False) # Create the expander\n",
    "Z = expander.fit_transform(df.iloc[:,1:3]) # Pass the df into the expander to get powers/interactions of x and y\n",
    "names = expander.get_feature_names_out() # Get the names of these variables\n",
    "X1 = pd.DataFrame(data=Z, columns = names) # Create a new, expanded dataframe\n",
    "\n",
    "## Dummy variables:\n",
    "X2 = pd.get_dummies(df['bird'], dtype=float) # Create dummies\n",
    "\n",
    "## Concatenate:\n",
    "X = pd.concat([X1,X2],axis=1) # Concatenate engineered features\n",
    "X.head()"
   ]
  },
  {
   "cell_type": "markdown",
   "id": "55261edc-4eee-4f89-a682-f72eb995046b",
   "metadata": {},
   "source": [
    "## Quickly Handling Outliers\n",
    "- We have the sense that outliers are bad, particularly for global smoothers like linear regression\n",
    "- We want to (1) detect outliers, (2) create an outlier dummy, and (3) **windsorize** them: Replace values outside the whiskers with the min/max values of the whiskers (when you remove outliers altogether, it is called **trimming**)\n",
    "- This is, again, a quick way of processing outliers without losing data"
   ]
  },
  {
   "cell_type": "code",
   "execution_count": null,
   "id": "9e4f3f40-8071-4b10-a261-2fbdd2934814",
   "metadata": {},
   "outputs": [],
   "source": [
    "## Generate random data with outliers\n",
    "np.random.seed(1000)\n",
    "N = 200\n",
    "switch = np.random.uniform(0,1,N)\n",
    "x = (switch<.05)*np.random.normal(20,10,N)+(switch >= .05)*(switch<.95)*np.random.normal(50,10,N)+(switch>=.95)*np.random.normal(100,5,N)\n",
    "sns.boxplot(x)"
   ]
  },
  {
   "cell_type": "code",
   "execution_count": null,
   "id": "65028cd7-7ceb-455a-994c-d3e1eaf32fa9",
   "metadata": {},
   "outputs": [],
   "source": [
    "## Function to Windsorize a variable:\n",
    "def winsorize(x):\n",
    "    # Convert from pd to np, if necessary:\n",
    "    if type(x) == 'pandas.core.series.Series':\n",
    "        x = x.to_numpy()\n",
    "    # Compute IQR and 25, 75 quantiles:\n",
    "    pct25, pct75 = np.percentile(x,[25,75])\n",
    "    iqr = pct75 - pct25\n",
    "    # Compute whiskers:\n",
    "    lower_whisker = pct25 - iqr*1.5\n",
    "    upper_whisker = pct75 + iqr*1.5\n",
    "    # Windorize x:\n",
    "    x_winsor = np.copy(x)\n",
    "    x_winsor[ x < lower_whisker ] = lower_whisker\n",
    "    x_winsor[ x > upper_whisker ] = upper_whisker\n",
    "    return(x_winsor)\n",
    "\n",
    "sns.boxplot( winsorize(x))"
   ]
  },
  {
   "cell_type": "markdown",
   "id": "e1b31044-c798-41cb-9b33-9e066c9b2723",
   "metadata": {},
   "source": [
    "## Cars, Again\n",
    "- Let's build some simple models to predict car prices that aren't constrained by our earlier concerns"
   ]
  },
  {
   "cell_type": "code",
   "execution_count": null,
   "id": "00f3fd0d-b470-46b6-a1ba-073f5ebc6475",
   "metadata": {},
   "outputs": [],
   "source": [
    "df = df0 # Let's start over, again\n",
    "df.head() # Glance at the data"
   ]
  },
  {
   "cell_type": "code",
   "execution_count": null,
   "id": "d2bdd1c6-3468-44ec-9004-191160f8a662",
   "metadata": {},
   "outputs": [],
   "source": [
    "## Simple regression on brand dummies:\n",
    "\n",
    "# Target Variable\n",
    "y = df['price']\n",
    "\n",
    "# Brand Dummy:\n",
    "X_d = pd.get_dummies(df['brand'],dtype='int') # Create brand dummies\n",
    "\n",
    "# Regresion:\n",
    "from sklearn.linear_model import LinearRegression # Import linear regression model\n",
    "reg = LinearRegression(fit_intercept=False).fit(X_d, y) # Fit the linear model\n",
    "results = pd.DataFrame({'variable':reg.feature_names_in_, 'coefficient': reg.coef_}) # Regression coefficients\n",
    "print('R-squared: ', reg.score(X_d, y)) # R squared measure\n",
    "results"
   ]
  },
  {
   "cell_type": "code",
   "execution_count": null,
   "id": "3032803d-0f7b-4b4f-9190-d337b23376ca",
   "metadata": {},
   "outputs": [],
   "source": [
    "## More complex regression on brand and numeric values:\n",
    "\n",
    "# Target Variable\n",
    "y = df['price_ihs']\n",
    "\n",
    "# Initial boxplot:\n",
    "df.loc[:,['mileage_ihs','price_ihs','age']].plot.box()\n",
    "\n",
    "# Winsorize using .apply:\n",
    "df.loc[:, ['mileage_ihs','price_ihs','age'] ] = df.loc[:,['mileage_ihs','price_ihs','age'] ].apply(winsorize)\n",
    "\n",
    "# Final boxplot:\n",
    "df.loc[:,['mileage_ihs','price_ihs','age']].plot.box()\n",
    "\n",
    "# Expand numeric variables:\n",
    "expander = PolynomialFeatures(degree=1,include_bias=False) # Create the expander\n",
    "X_num = df.loc[:,['mileage_ihs']]\n",
    "Z = expander.fit_transform(X_num) # Pass the df into the expander to get powers/interactions of x and y\n",
    "names = expander.get_feature_names_out() # Get the names of these variables\n",
    "X_num = pd.DataFrame(data=Z, columns = names) # Create a new, expanded dataframe\n",
    "\n",
    "# Concatenate\n",
    "X = pd.concat( [X_num, X_d],axis=1)\n",
    "X.head()"
   ]
  },
  {
   "cell_type": "code",
   "execution_count": null,
   "id": "af2d9924-e815-49d8-a762-436795fbc553",
   "metadata": {},
   "outputs": [],
   "source": [
    "from sklearn.linear_model import LinearRegression # Import linear regression model\n",
    "reg = LinearRegression(fit_intercept=False).fit(X, y) # Fit the linear model\n",
    "results = pd.DataFrame({'variable':reg.feature_names_in_, 'coefficient': reg.coef_}) # Regression coefficients\n",
    "print('R-squared: ', reg.score(X, y)) # R squared measure\n",
    "results"
   ]
  },
  {
   "cell_type": "code",
   "execution_count": null,
   "id": "9e48793d-be27-4cdc-9e87-fe6389f9ea9a",
   "metadata": {},
   "outputs": [],
   "source": [
    "sns.kdeplot(df['price_ihs'] -reg.predict(X) ) # Residual plot"
   ]
  },
  {
   "cell_type": "markdown",
   "id": "2a9f462b-3081-4fcb-a7ea-bfd0acb5e5f1",
   "metadata": {},
   "source": [
    "## Model Selection\n",
    "- Datasets often have dozens or thousands of variables, and we can create many more through transforming and interacting variables. Which variables go into a linear regression?\n",
    "- In linear regression, our model is **underfit** if we use too few variables which cannot capture the complex relationships between the features and target variable, while our model is **overfit** if we are using too many variables which are exploiting too many unique features of the training data\n",
    "- In statistics, it is an assumption that the analyst roughly knows the \"true\" data generating process, and properties of an estimator are derived under that assumption - statistics has few useful answers for how to pick the form of the model itself (e.g. Akaike Information Criterion, Bayesian Information Criterion, Mallows' $C_p$)\n",
    "- In machine learning, we will learn some tools and techniques for model selection in a data-driven way later on in the course based on cross validation (e.g. LASSO)"
   ]
  },
  {
   "cell_type": "markdown",
   "id": "13e7b127-d5a7-43e7-a5a9-ff4b8649aacc",
   "metadata": {},
   "source": [
    "## The Classical Assumptions for OLS [stats]\n",
    "- I often see people write the following: \"The neccessary assumptions for linear regression are (i) linearity, (ii) homoskedasticity, (iii) conditional independence of errors, (iv) normality of errors\"\n",
    "- This generates confusion --- These are the assumptions for *OLS to be the best, linear, unbiased estimator (BLUE) of a hypothetical \"true\" $b_0$ in a finite sample, and the $z$-test to be correctly specified*\n",
    "- We are not trying to estimate $b_0$, we are trying to do something else: find the *best linear predictor* of $y$ using the variables $X$. The above conditions are not necessary for that.\n",
    "- You don't need permission to run OLS and make predictions, you need permission to run OLS and interpret the coefficients."
   ]
  },
  {
   "cell_type": "markdown",
   "id": "2eda309d-2053-4a2a-97a4-e78d08192fae",
   "metadata": {},
   "source": [
    "## General Linear Models\n",
    "- You can spend the rest of your life studying linear models and their generalizations\n",
    "- In many situations, there are additional restrictions on the environment that cannot always be satisfied by a linear model\n",
    "    - The outcome/target variable might be a binary 0/1 outcome, so we are predicting the probability of something occuring. OLS might predict values less than zero or greater than one. Popular solutions are **Logit regression** or **Probit regression**\n",
    "    - The outcome/target variable might be a non-negative integer, meaning that it is **count data**, like the number of earthquakes or cases of an illness. OLS won't predict counts. Popular solutions are **Poisson regression** or **negative binomial regression**.\n",
    "- In these cases, we can estimate alternative models that impose restrictions on the outcome of the linear model, typically through maximum likelihood estimation or generalized linear modeling\n",
    "- These aren't typically much more work to estimate, but we don't really have the time to cover all the nuances (and people typically estimate them only if the OLS model really breaks down in terms of predictive performance)"
   ]
  }
 ],
 "metadata": {
  "kernelspec": {
   "display_name": "Python 3",
   "language": "python",
   "name": "python3"
  },
  "language_info": {
   "codemirror_mode": {
    "name": "ipython",
    "version": 3
   },
   "file_extension": ".py",
   "mimetype": "text/x-python",
   "name": "python",
   "nbconvert_exporter": "python",
   "pygments_lexer": "ipython3",
   "version": "2.7.undefined"
  }
 },
 "nbformat": 4,
 "nbformat_minor": 5
}
