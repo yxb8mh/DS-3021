{
 "cells": [
  {
   "cell_type": "markdown",
   "id": "1b65f388",
   "metadata": {},
   "source": [
    "[![Open In Colab](https://colab.research.google.com/assets/colab-badge.svg)](https://colab.research.google.com/github/UVADS/DS-3001/blob/main/02_R_function_basics/Class_II_Python.ipynb)"
   ]
  },
  {
   "cell_type": "markdown",
   "id": "ae8b3f2e",
   "metadata": {},
   "source": [
    "# Pandas Lab Assignment"
   ]
  },
  {
   "cell_type": "markdown",
   "id": "b150e6c0",
   "metadata": {},
   "source": [
    "#### The excitement begins! \n",
    "\n",
    "As a reminder:\n",
    "\n",
    "pd == pandas and df == dataframe\n",
    "\n",
    "### pandas functions\n",
    "The five key pandas functions that allow you to solve \"the vast majority of your data-manipulation challenges\" are:\n",
    "1. df.query() -- select observations by their values\n",
    "2. df.sort_values() -- Reorder the rows\n",
    "3. df.loc[] -- Pick variables by their column names\n",
    "4. df.assign() -- Create new variables with functions of existing variables\n",
    "5. df.describe() -- Collapse many values down to a single summary\n",
    "\n",
    "Bonus: df.groupby() -- we can use this in combination with any of the five to change the scope of each function from operating on the entire dataset to operating on it group by group"
   ]
  },
  {
   "cell_type": "markdown",
   "id": "16f4edd2",
   "metadata": {},
   "source": [
    "*A note on df.groupby(): if you want to get multiple results for various groups (e.g. income categories), you could use `df.groupby(by='column')`. This all happens in the background and results in a grouped object; sometimes, this means you need to reorganize your functions.*\n",
    "\n",
    "For more information, check out the documentation: https://pandas.pydata.org/docs/reference/api/pandas.DataFrame.groupby.html"
   ]
  },
  {
   "cell_type": "code",
   "execution_count": null,
   "id": "317858ce",
   "metadata": {},
   "outputs": [
    {
     "data": {
      "text/plain": [
       "'c:\\\\Users\\\\Brian Wright\\\\Documents\\\\3001Python\\\\DS-3001\\\\02_function_basics'"
      ]
     },
     "execution_count": 1,
     "metadata": {},
     "output_type": "execute_result"
    }
   ],
   "source": [
    "# import libraries\n",
    "import pandas as pd\n",
    "import os\n",
    "os.getcwd()"
   ]
  },
  {
   "cell_type": "markdown",
   "id": "1b3e5a09",
   "metadata": {},
   "source": [
    "### Instructions\n",
    "\n",
    "For this assignment you can use any or all of the datasets I provided (described below) or choose two of your own!  \n",
    "\n",
    "For each of the two datasets you select, produce four parts: \n",
    "\n",
    "1. Question\n",
    "2. Psuedocode that answers the question\n",
    "3. Single line transactions using pandas functions\n",
    "4. Pipe the individual lines together and create a function\n",
    "\n",
    "You can work with your groups for coding tips/advise or work through similar programming issues, but everyone must have their own set of questions and results. \n",
    "\n",
    "\n",
    "### Data\n",
    "\n",
    "Any dataset in the class repo works or:\n",
    "\n",
    "nf2008_fg: http://users.stat.ufl.edu/~winner/data/nfl2008_fga.csv\n",
    "\n",
    "red_wine_quality: https://data.world/uci/wine-quality"
   ]
  },
  {
   "cell_type": "markdown",
   "id": "a7e8fdf7",
   "metadata": {},
   "source": [
    "### Example\n",
    "\n",
    "Lets walk through a example. Below is a dataset on students admitted to a graduate program in Data Science (I actually don't remember where this data came from). \n",
    "\n",
    "#### Question: Are there differences in the admitted number of students on average by GPA and school rank?\n",
    "An easy way to handle this is to identify function calls starting at the end of the question and working backwards. \n",
    "\n",
    "#### Pseudocode:\n",
    "  - Group by school rank\n",
    "  - Calculate GPA Average\n",
    "  - Count total admitted \n",
    "  - Calculate % Admitted\n",
    "  - Arrange in descending order by Mean GPA"
   ]
  },
  {
   "cell_type": "code",
   "execution_count": 15,
   "id": "2f210a0f",
   "metadata": {},
   "outputs": [
    {
     "name": "stdout",
     "output_type": "stream",
     "text": [
      "<class 'pandas.core.frame.DataFrame'>\n",
      "RangeIndex: 400 entries, 0 to 399\n",
      "Data columns (total 4 columns):\n",
      " #   Column  Non-Null Count  Dtype  \n",
      "---  ------  --------------  -----  \n",
      " 0   admit   400 non-null    int64  \n",
      " 1   gre     400 non-null    int64  \n",
      " 2   gpa     400 non-null    float64\n",
      " 3   rank    400 non-null    int64  \n",
      "dtypes: float64(1), int64(3)\n",
      "memory usage: 12.6 KB\n",
      "None\n"
     ]
    }
   ],
   "source": [
    "# Loading and preparing the data\n",
    "admit_2 = pd.read_csv(\"../data/LogReg.csv\")\n",
    "\n",
    "print(admit_2.info())   # .info() outputs the structure of the dataframe object. It includes the columns, the data types in each, etc."
   ]
  },
  {
   "cell_type": "markdown",
   "id": "9213a261",
   "metadata": {},
   "source": [
    "Next, we want to factorize `rank`. This will allow better data analysis because there are only a few options for it. In R, these are called \"levels\". In Python, these are \"categorical\" variables. Below, we'll run through how to convert specific columns to categoricals."
   ]
  },
  {
   "cell_type": "code",
   "execution_count": 3,
   "id": "66c004cb",
   "metadata": {},
   "outputs": [
    {
     "name": "stdout",
     "output_type": "stream",
     "text": [
      "<class 'pandas.core.frame.DataFrame'>\n",
      "RangeIndex: 400 entries, 0 to 399\n",
      "Data columns (total 4 columns):\n",
      " #   Column  Non-Null Count  Dtype   \n",
      "---  ------  --------------  -----   \n",
      " 0   admit   400 non-null    int64   \n",
      " 1   gre     400 non-null    int64   \n",
      " 2   gpa     400 non-null    float64 \n",
      " 3   rank    400 non-null    category\n",
      "dtypes: category(1), float64(1), int64(2)\n",
      "memory usage: 10.1 KB\n",
      "None\n"
     ]
    }
   ],
   "source": [
    " #change rank to a categorical variable\n",
    "admit_2['rank'] = admit_2['rank'].astype(\"category\")   # here, we assign the newly-assigned vars\n",
    "\n",
    "print(admit_2.info())"
   ]
  },
  {
   "cell_type": "markdown",
   "id": "f25c4b33",
   "metadata": {},
   "source": [
    "#### Now, for the next portion: single-line calculations using the pseudocode as a plan"
   ]
  },
  {
   "cell_type": "code",
   "execution_count": 6,
   "id": "38ee2b69",
   "metadata": {},
   "outputs": [
    {
     "data": {
      "text/html": [
       "<div>\n",
       "<style scoped>\n",
       "    .dataframe tbody tr th:only-of-type {\n",
       "        vertical-align: middle;\n",
       "    }\n",
       "\n",
       "    .dataframe tbody tr th {\n",
       "        vertical-align: top;\n",
       "    }\n",
       "\n",
       "    .dataframe thead th {\n",
       "        text-align: right;\n",
       "    }\n",
       "</style>\n",
       "<table border=\"1\" class=\"dataframe\">\n",
       "  <thead>\n",
       "    <tr style=\"text-align: right;\">\n",
       "      <th></th>\n",
       "      <th>admit</th>\n",
       "      <th>gre</th>\n",
       "      <th>gpa</th>\n",
       "      <th>rank</th>\n",
       "    </tr>\n",
       "  </thead>\n",
       "  <tbody>\n",
       "    <tr>\n",
       "      <th>0</th>\n",
       "      <td>0</td>\n",
       "      <td>380</td>\n",
       "      <td>3.61</td>\n",
       "      <td>3</td>\n",
       "    </tr>\n",
       "    <tr>\n",
       "      <th>1</th>\n",
       "      <td>1</td>\n",
       "      <td>660</td>\n",
       "      <td>3.67</td>\n",
       "      <td>3</td>\n",
       "    </tr>\n",
       "    <tr>\n",
       "      <th>2</th>\n",
       "      <td>1</td>\n",
       "      <td>800</td>\n",
       "      <td>4.00</td>\n",
       "      <td>1</td>\n",
       "    </tr>\n",
       "    <tr>\n",
       "      <th>3</th>\n",
       "      <td>1</td>\n",
       "      <td>640</td>\n",
       "      <td>3.19</td>\n",
       "      <td>4</td>\n",
       "    </tr>\n",
       "    <tr>\n",
       "      <th>4</th>\n",
       "      <td>0</td>\n",
       "      <td>520</td>\n",
       "      <td>2.93</td>\n",
       "      <td>4</td>\n",
       "    </tr>\n",
       "  </tbody>\n",
       "</table>\n",
       "</div>"
      ],
      "text/plain": [
       "   admit  gre   gpa  rank\n",
       "0      0  380  3.61     3\n",
       "1      1  660  3.67     3\n",
       "2      1  800  4.00     1\n",
       "3      1  640  3.19     4\n",
       "4      0  520  2.93     4"
      ]
     },
     "execution_count": 6,
     "metadata": {},
     "output_type": "execute_result"
    }
   ],
   "source": [
    "# look at the data:\n",
    "admit_2.head()    # this shows a small subset of the data; .head(x) shows x number of entries"
   ]
  },
  {
   "cell_type": "markdown",
   "id": "ae703eaf",
   "metadata": {},
   "source": [
    "Group by rank and assign the grouped values to a new dataframe"
   ]
  },
  {
   "cell_type": "code",
   "execution_count": 16,
   "id": "5797f25d",
   "metadata": {},
   "outputs": [],
   "source": [
    "x1 = admit_2.groupby(['rank'])   # this is done in the background"
   ]
  },
  {
   "cell_type": "markdown",
   "id": "2b6efc31",
   "metadata": {},
   "source": [
    "Next, calculate our additional variables (sum of admitted students, sum of students, and the mean GPA of the rankings in each category of `rank`. For this, we will be constructing a new dataframe.\n",
    "\n",
    "There is *one* issue: you can't use .assign() on a grouped dataframe. There are two possible solutions for this:\n",
    "1. Make a call to an earlier iteration of the dataframe\n",
    "2. Initialize an empty dataframe and assign the new variables there.\n",
    "\n",
    "First, I'll show you what happens in the first instance. You'll want to use this IF you want to keep all the previous columns."
   ]
  },
  {
   "cell_type": "code",
   "execution_count": 17,
   "id": "17972d9d",
   "metadata": {},
   "outputs": [
    {
     "name": "stdout",
     "output_type": "stream",
     "text": [
      "     admit  gre   gpa  rank  admitted  tot_students   meanGPA\n",
      "0        0  380  3.61     3       NaN           NaN       NaN\n",
      "1        1  660  3.67     3      33.0          61.0  3.453115\n",
      "2        1  800  4.00     1      54.0         151.0  3.361656\n",
      "3        1  640  3.19     4      28.0         121.0  3.432893\n",
      "4        0  520  2.93     4      12.0          67.0  3.318358\n",
      "..     ...  ...   ...   ...       ...           ...       ...\n",
      "395      0  620  4.00     2       NaN           NaN       NaN\n",
      "396      0  560  3.04     3       NaN           NaN       NaN\n",
      "397      0  460  2.63     2       NaN           NaN       NaN\n",
      "398      0  700  3.65     2       NaN           NaN       NaN\n",
      "399      0  600  3.89     3       NaN           NaN       NaN\n",
      "\n",
      "[400 rows x 7 columns]\n"
     ]
    }
   ],
   "source": [
    "x2 = admit_2.assign(admitted= x1.admit.sum(), \n",
    "                    tot_students=x1.admit.count(),\n",
    "                    meanGPA=x1.gpa.mean())\n",
    "\n",
    "print(x2)"
   ]
  },
  {
   "cell_type": "markdown",
   "id": "615cc06d",
   "metadata": {},
   "source": [
    "Let's try the other way."
   ]
  },
  {
   "cell_type": "code",
   "execution_count": 11,
   "id": "926a45b5",
   "metadata": {},
   "outputs": [
    {
     "data": {
      "text/html": [
       "<div>\n",
       "<style scoped>\n",
       "    .dataframe tbody tr th:only-of-type {\n",
       "        vertical-align: middle;\n",
       "    }\n",
       "\n",
       "    .dataframe tbody tr th {\n",
       "        vertical-align: top;\n",
       "    }\n",
       "\n",
       "    .dataframe thead th {\n",
       "        text-align: right;\n",
       "    }\n",
       "</style>\n",
       "<table border=\"1\" class=\"dataframe\">\n",
       "  <thead>\n",
       "    <tr style=\"text-align: right;\">\n",
       "      <th></th>\n",
       "      <th>admitted</th>\n",
       "      <th>tot_students</th>\n",
       "      <th>meanGPA</th>\n",
       "    </tr>\n",
       "    <tr>\n",
       "      <th>rank</th>\n",
       "      <th></th>\n",
       "      <th></th>\n",
       "      <th></th>\n",
       "    </tr>\n",
       "  </thead>\n",
       "  <tbody>\n",
       "    <tr>\n",
       "      <th>1</th>\n",
       "      <td>33</td>\n",
       "      <td>61</td>\n",
       "      <td>3.453115</td>\n",
       "    </tr>\n",
       "    <tr>\n",
       "      <th>2</th>\n",
       "      <td>54</td>\n",
       "      <td>151</td>\n",
       "      <td>3.361656</td>\n",
       "    </tr>\n",
       "    <tr>\n",
       "      <th>3</th>\n",
       "      <td>28</td>\n",
       "      <td>121</td>\n",
       "      <td>3.432893</td>\n",
       "    </tr>\n",
       "    <tr>\n",
       "      <th>4</th>\n",
       "      <td>12</td>\n",
       "      <td>67</td>\n",
       "      <td>3.318358</td>\n",
       "    </tr>\n",
       "  </tbody>\n",
       "</table>\n",
       "</div>"
      ],
      "text/plain": [
       "      admitted  tot_students   meanGPA\n",
       "rank                                  \n",
       "1           33            61  3.453115\n",
       "2           54           151  3.361656\n",
       "3           28           121  3.432893\n",
       "4           12            67  3.318358"
      ]
     },
     "execution_count": 11,
     "metadata": {},
     "output_type": "execute_result"
    }
   ],
   "source": [
    "temp_df = pd.DataFrame()\n",
    "temp_df = temp_df.assign(admitted= x1.admit.sum(), \n",
    "                    tot_students=x1['rank'].count(), \n",
    "                    meanGPA=x1.gpa.mean())\n",
    "temp_df.head()"
   ]
  },
  {
   "cell_type": "markdown",
   "id": "6de087a5",
   "metadata": {},
   "source": [
    "The second method worked *much* better. But let's say we used the first one -- how could we fix the issue?\n",
    "\n",
    "This was messier than we would've preferred. As we can see, we've assigned new variables to x2, but it also uses all the other variables from x1. Now, we'll want to select only the values we want.\n",
    "\n",
    "There are a few ways we could do this:\n",
    "1. Use slicing to select your columns and rows\n",
    "2. Use slicing to select your columns and then remove all the NaNs"
   ]
  },
  {
   "cell_type": "code",
   "execution_count": 19,
   "id": "1a89ac33",
   "metadata": {},
   "outputs": [
    {
     "data": {
      "text/html": [
       "<div>\n",
       "<style scoped>\n",
       "    .dataframe tbody tr th:only-of-type {\n",
       "        vertical-align: middle;\n",
       "    }\n",
       "\n",
       "    .dataframe tbody tr th {\n",
       "        vertical-align: top;\n",
       "    }\n",
       "\n",
       "    .dataframe thead th {\n",
       "        text-align: right;\n",
       "    }\n",
       "</style>\n",
       "<table border=\"1\" class=\"dataframe\">\n",
       "  <thead>\n",
       "    <tr style=\"text-align: right;\">\n",
       "      <th></th>\n",
       "      <th>admitted</th>\n",
       "      <th>tot_students</th>\n",
       "      <th>meanGPA</th>\n",
       "    </tr>\n",
       "  </thead>\n",
       "  <tbody>\n",
       "    <tr>\n",
       "      <th>0</th>\n",
       "      <td>NaN</td>\n",
       "      <td>NaN</td>\n",
       "      <td>NaN</td>\n",
       "    </tr>\n",
       "    <tr>\n",
       "      <th>1</th>\n",
       "      <td>33.0</td>\n",
       "      <td>61.0</td>\n",
       "      <td>3.453115</td>\n",
       "    </tr>\n",
       "    <tr>\n",
       "      <th>2</th>\n",
       "      <td>54.0</td>\n",
       "      <td>151.0</td>\n",
       "      <td>3.361656</td>\n",
       "    </tr>\n",
       "    <tr>\n",
       "      <th>3</th>\n",
       "      <td>28.0</td>\n",
       "      <td>121.0</td>\n",
       "      <td>3.432893</td>\n",
       "    </tr>\n",
       "    <tr>\n",
       "      <th>4</th>\n",
       "      <td>12.0</td>\n",
       "      <td>67.0</td>\n",
       "      <td>3.318358</td>\n",
       "    </tr>\n",
       "    <tr>\n",
       "      <th>5</th>\n",
       "      <td>NaN</td>\n",
       "      <td>NaN</td>\n",
       "      <td>NaN</td>\n",
       "    </tr>\n",
       "    <tr>\n",
       "      <th>6</th>\n",
       "      <td>NaN</td>\n",
       "      <td>NaN</td>\n",
       "      <td>NaN</td>\n",
       "    </tr>\n",
       "    <tr>\n",
       "      <th>7</th>\n",
       "      <td>NaN</td>\n",
       "      <td>NaN</td>\n",
       "      <td>NaN</td>\n",
       "    </tr>\n",
       "    <tr>\n",
       "      <th>8</th>\n",
       "      <td>NaN</td>\n",
       "      <td>NaN</td>\n",
       "      <td>NaN</td>\n",
       "    </tr>\n",
       "    <tr>\n",
       "      <th>9</th>\n",
       "      <td>NaN</td>\n",
       "      <td>NaN</td>\n",
       "      <td>NaN</td>\n",
       "    </tr>\n",
       "  </tbody>\n",
       "</table>\n",
       "</div>"
      ],
      "text/plain": [
       "   admitted  tot_students   meanGPA\n",
       "0       NaN           NaN       NaN\n",
       "1      33.0          61.0  3.453115\n",
       "2      54.0         151.0  3.361656\n",
       "3      28.0         121.0  3.432893\n",
       "4      12.0          67.0  3.318358\n",
       "5       NaN           NaN       NaN\n",
       "6       NaN           NaN       NaN\n",
       "7       NaN           NaN       NaN\n",
       "8       NaN           NaN       NaN\n",
       "9       NaN           NaN       NaN"
      ]
     },
     "execution_count": 19,
     "metadata": {},
     "output_type": "execute_result"
    }
   ],
   "source": [
    "x2 = x2[['admitted', 'tot_students', 'meanGPA']]   # selecting columns\n",
    "x2.head(10)"
   ]
  },
  {
   "cell_type": "markdown",
   "id": "4f79d050",
   "metadata": {},
   "source": [
    "Now, we see the values, but we only want rows 1-4, which correspond to the rank factors we found earlier. To do this, we can either filter out NaNs or select those specific rows. First, let's try slicing."
   ]
  },
  {
   "cell_type": "code",
   "execution_count": 20,
   "id": "7a5385a7",
   "metadata": {},
   "outputs": [
    {
     "data": {
      "text/html": [
       "<div>\n",
       "<style scoped>\n",
       "    .dataframe tbody tr th:only-of-type {\n",
       "        vertical-align: middle;\n",
       "    }\n",
       "\n",
       "    .dataframe tbody tr th {\n",
       "        vertical-align: top;\n",
       "    }\n",
       "\n",
       "    .dataframe thead th {\n",
       "        text-align: right;\n",
       "    }\n",
       "</style>\n",
       "<table border=\"1\" class=\"dataframe\">\n",
       "  <thead>\n",
       "    <tr style=\"text-align: right;\">\n",
       "      <th></th>\n",
       "      <th>admitted</th>\n",
       "      <th>tot_students</th>\n",
       "      <th>meanGPA</th>\n",
       "    </tr>\n",
       "  </thead>\n",
       "  <tbody>\n",
       "    <tr>\n",
       "      <th>1</th>\n",
       "      <td>33.0</td>\n",
       "      <td>61.0</td>\n",
       "      <td>3.453115</td>\n",
       "    </tr>\n",
       "    <tr>\n",
       "      <th>2</th>\n",
       "      <td>54.0</td>\n",
       "      <td>151.0</td>\n",
       "      <td>3.361656</td>\n",
       "    </tr>\n",
       "    <tr>\n",
       "      <th>3</th>\n",
       "      <td>28.0</td>\n",
       "      <td>121.0</td>\n",
       "      <td>3.432893</td>\n",
       "    </tr>\n",
       "    <tr>\n",
       "      <th>4</th>\n",
       "      <td>12.0</td>\n",
       "      <td>67.0</td>\n",
       "      <td>3.318358</td>\n",
       "    </tr>\n",
       "  </tbody>\n",
       "</table>\n",
       "</div>"
      ],
      "text/plain": [
       "   admitted  tot_students   meanGPA\n",
       "1      33.0          61.0  3.453115\n",
       "2      54.0         151.0  3.361656\n",
       "3      28.0         121.0  3.432893\n",
       "4      12.0          67.0  3.318358"
      ]
     },
     "execution_count": 20,
     "metadata": {},
     "output_type": "execute_result"
    }
   ],
   "source": [
    "x3 = x2[1:5]\n",
    "x3.head(10)"
   ]
  },
  {
   "cell_type": "markdown",
   "id": "7148c3b2",
   "metadata": {},
   "source": [
    "Now, let's try removing the NaNs instead:"
   ]
  },
  {
   "cell_type": "code",
   "execution_count": 21,
   "id": "b94e18f5",
   "metadata": {},
   "outputs": [
    {
     "data": {
      "text/html": [
       "<div>\n",
       "<style scoped>\n",
       "    .dataframe tbody tr th:only-of-type {\n",
       "        vertical-align: middle;\n",
       "    }\n",
       "\n",
       "    .dataframe tbody tr th {\n",
       "        vertical-align: top;\n",
       "    }\n",
       "\n",
       "    .dataframe thead th {\n",
       "        text-align: right;\n",
       "    }\n",
       "</style>\n",
       "<table border=\"1\" class=\"dataframe\">\n",
       "  <thead>\n",
       "    <tr style=\"text-align: right;\">\n",
       "      <th></th>\n",
       "      <th>admitted</th>\n",
       "      <th>tot_students</th>\n",
       "      <th>meanGPA</th>\n",
       "    </tr>\n",
       "  </thead>\n",
       "  <tbody>\n",
       "    <tr>\n",
       "      <th>1</th>\n",
       "      <td>33.0</td>\n",
       "      <td>61.0</td>\n",
       "      <td>3.453115</td>\n",
       "    </tr>\n",
       "    <tr>\n",
       "      <th>2</th>\n",
       "      <td>54.0</td>\n",
       "      <td>151.0</td>\n",
       "      <td>3.361656</td>\n",
       "    </tr>\n",
       "    <tr>\n",
       "      <th>3</th>\n",
       "      <td>28.0</td>\n",
       "      <td>121.0</td>\n",
       "      <td>3.432893</td>\n",
       "    </tr>\n",
       "    <tr>\n",
       "      <th>4</th>\n",
       "      <td>12.0</td>\n",
       "      <td>67.0</td>\n",
       "      <td>3.318358</td>\n",
       "    </tr>\n",
       "  </tbody>\n",
       "</table>\n",
       "</div>"
      ],
      "text/plain": [
       "   admitted  tot_students   meanGPA\n",
       "1      33.0          61.0  3.453115\n",
       "2      54.0         151.0  3.361656\n",
       "3      28.0         121.0  3.432893\n",
       "4      12.0          67.0  3.318358"
      ]
     },
     "execution_count": 21,
     "metadata": {},
     "output_type": "execute_result"
    }
   ],
   "source": [
    "x4 = x2.dropna()   # dropna() is a simplified function of .drop(df.isna())\n",
    "x4.head()"
   ]
  },
  {
   "cell_type": "markdown",
   "id": "ec63026b",
   "metadata": {},
   "source": [
    "Both work!!\n",
    "\n",
    "Now, we want to calculate the % of students from various ranks that were admitted. We'll create a new variable to store the information."
   ]
  },
  {
   "cell_type": "code",
   "execution_count": 22,
   "id": "28731839",
   "metadata": {},
   "outputs": [
    {
     "data": {
      "text/html": [
       "<div>\n",
       "<style scoped>\n",
       "    .dataframe tbody tr th:only-of-type {\n",
       "        vertical-align: middle;\n",
       "    }\n",
       "\n",
       "    .dataframe tbody tr th {\n",
       "        vertical-align: top;\n",
       "    }\n",
       "\n",
       "    .dataframe thead th {\n",
       "        text-align: right;\n",
       "    }\n",
       "</style>\n",
       "<table border=\"1\" class=\"dataframe\">\n",
       "  <thead>\n",
       "    <tr style=\"text-align: right;\">\n",
       "      <th></th>\n",
       "      <th>admitted</th>\n",
       "      <th>tot_students</th>\n",
       "      <th>meanGPA</th>\n",
       "      <th>ave_admit</th>\n",
       "    </tr>\n",
       "  </thead>\n",
       "  <tbody>\n",
       "    <tr>\n",
       "      <th>1</th>\n",
       "      <td>33.0</td>\n",
       "      <td>61.0</td>\n",
       "      <td>3.453115</td>\n",
       "      <td>0.540984</td>\n",
       "    </tr>\n",
       "    <tr>\n",
       "      <th>2</th>\n",
       "      <td>54.0</td>\n",
       "      <td>151.0</td>\n",
       "      <td>3.361656</td>\n",
       "      <td>0.357616</td>\n",
       "    </tr>\n",
       "    <tr>\n",
       "      <th>3</th>\n",
       "      <td>28.0</td>\n",
       "      <td>121.0</td>\n",
       "      <td>3.432893</td>\n",
       "      <td>0.231405</td>\n",
       "    </tr>\n",
       "    <tr>\n",
       "      <th>4</th>\n",
       "      <td>12.0</td>\n",
       "      <td>67.0</td>\n",
       "      <td>3.318358</td>\n",
       "      <td>0.179104</td>\n",
       "    </tr>\n",
       "  </tbody>\n",
       "</table>\n",
       "</div>"
      ],
      "text/plain": [
       "   admitted  tot_students   meanGPA  ave_admit\n",
       "1      33.0          61.0  3.453115   0.540984\n",
       "2      54.0         151.0  3.361656   0.357616\n",
       "3      28.0         121.0  3.432893   0.231405\n",
       "4      12.0          67.0  3.318358   0.179104"
      ]
     },
     "execution_count": 22,
     "metadata": {},
     "output_type": "execute_result"
    }
   ],
   "source": [
    "x3 = x3.assign(ave_admit = lambda x: (x['admitted'] / x['tot_students'])) #because its already grouped, a replacement of for loop, runs more efficiently, in python language, much more lightweight \n",
    "x3.head()"
   ]
  },
  {
   "cell_type": "markdown",
   "id": "e22f9ef0",
   "metadata": {},
   "source": [
    "Now, let's arrange the rows by descending GPA."
   ]
  },
  {
   "cell_type": "code",
   "execution_count": 23,
   "id": "a69cb7a2",
   "metadata": {},
   "outputs": [
    {
     "data": {
      "text/html": [
       "<div>\n",
       "<style scoped>\n",
       "    .dataframe tbody tr th:only-of-type {\n",
       "        vertical-align: middle;\n",
       "    }\n",
       "\n",
       "    .dataframe tbody tr th {\n",
       "        vertical-align: top;\n",
       "    }\n",
       "\n",
       "    .dataframe thead th {\n",
       "        text-align: right;\n",
       "    }\n",
       "</style>\n",
       "<table border=\"1\" class=\"dataframe\">\n",
       "  <thead>\n",
       "    <tr style=\"text-align: right;\">\n",
       "      <th></th>\n",
       "      <th>admitted</th>\n",
       "      <th>tot_students</th>\n",
       "      <th>meanGPA</th>\n",
       "      <th>ave_admit</th>\n",
       "    </tr>\n",
       "  </thead>\n",
       "  <tbody>\n",
       "    <tr>\n",
       "      <th>1</th>\n",
       "      <td>33.0</td>\n",
       "      <td>61.0</td>\n",
       "      <td>3.453115</td>\n",
       "      <td>0.540984</td>\n",
       "    </tr>\n",
       "    <tr>\n",
       "      <th>3</th>\n",
       "      <td>28.0</td>\n",
       "      <td>121.0</td>\n",
       "      <td>3.432893</td>\n",
       "      <td>0.231405</td>\n",
       "    </tr>\n",
       "    <tr>\n",
       "      <th>2</th>\n",
       "      <td>54.0</td>\n",
       "      <td>151.0</td>\n",
       "      <td>3.361656</td>\n",
       "      <td>0.357616</td>\n",
       "    </tr>\n",
       "    <tr>\n",
       "      <th>4</th>\n",
       "      <td>12.0</td>\n",
       "      <td>67.0</td>\n",
       "      <td>3.318358</td>\n",
       "      <td>0.179104</td>\n",
       "    </tr>\n",
       "  </tbody>\n",
       "</table>\n",
       "</div>"
      ],
      "text/plain": [
       "   admitted  tot_students   meanGPA  ave_admit\n",
       "1      33.0          61.0  3.453115   0.540984\n",
       "3      28.0         121.0  3.432893   0.231405\n",
       "2      54.0         151.0  3.361656   0.357616\n",
       "4      12.0          67.0  3.318358   0.179104"
      ]
     },
     "execution_count": 23,
     "metadata": {},
     "output_type": "execute_result"
    }
   ],
   "source": [
    "x3 = x3.sort_values(by='meanGPA', ascending=False)\n",
    "x3.head()"
   ]
  },
  {
   "cell_type": "markdown",
   "id": "abc5ad32",
   "metadata": {},
   "source": [
    "Now, we pipe everything together and make a function\n",
    "#### Function construction"
   ]
  },
  {
   "cell_type": "code",
   "execution_count": 13,
   "id": "7dd1feef",
   "metadata": {},
   "outputs": [],
   "source": [
    "def avg_admission(x):\n",
    "    x1 = x.groupby(['rank'])\n",
    "    avg = pd.DataFrame()\n",
    "    avg = avg.assign(admitted= x1['admit'].sum(), \n",
    "                    tot_students=x1['rank'].count(),\n",
    "                    meanGPA=x1['gpa'].mean()).assign(ave_admit = lambda temp: (temp['admitted'] / temp['tot_students'])).sort_values(by='meanGPA', ascending=False)\n",
    "    return avg\n",
    "# move right to see the .sort_values()"
   ]
  },
  {
   "cell_type": "markdown",
   "id": "e80b8e55",
   "metadata": {},
   "source": [
    "As you saw above, some functions were added to each other (specifically, the .assign().assign().sort_values) all happened sequentially. This is called chaining. You could separate for clarity, but this is also a pretty efficient use of space in a program."
   ]
  },
  {
   "cell_type": "code",
   "execution_count": 24,
   "id": "25f5f436",
   "metadata": {},
   "outputs": [
    {
     "name": "stdout",
     "output_type": "stream",
     "text": [
      "      admitted  tot_students   meanGPA  ave_admit\n",
      "rank                                             \n",
      "1           33            61  3.453115   0.540984\n",
      "3           28           121  3.432893   0.231405\n",
      "2           54           151  3.361656   0.357616\n",
      "4           12            67  3.318358   0.179104\n"
     ]
    }
   ],
   "source": [
    "print(avg_admission(admit_2))"
   ]
  },
  {
   "cell_type": "markdown",
   "id": "4219e5b8",
   "metadata": {},
   "source": [
    "Note: above, I used .dropna() as a simplified version of the work I did earlier. Since all other values are NaNs, using .dropna() removes all other values. Likewise, .loc[:, [columns]] selected only the columns that I was working with and *all* rows that those columns cover.\n",
    "\n",
    "For further clarification, don't forget to leave comments on your code, but you also don't need to go in as much depth exploring different methods like I did! This was just to give you further examples for your personal reference."
   ]
  }
 ],
 "metadata": {
  "kernelspec": {
   "display_name": "base",
   "language": "python",
   "name": "python3"
  },
  "language_info": {
   "codemirror_mode": {
    "name": "ipython",
    "version": 3
   },
   "file_extension": ".py",
   "mimetype": "text/x-python",
   "name": "python",
   "nbconvert_exporter": "python",
   "pygments_lexer": "ipython3",
   "version": "3.10.12"
  },
  "vscode": {
   "interpreter": {
    "hash": "a624a4c978aa714b5c4c05dad66de733834d73954be74b77517c9f53d1f57ded"
   }
  }
 },
 "nbformat": 4,
 "nbformat_minor": 5
}
