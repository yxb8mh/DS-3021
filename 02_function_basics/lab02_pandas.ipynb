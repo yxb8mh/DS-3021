{
 "cells": [
  {
   "cell_type": "markdown",
   "metadata": {},
   "source": [
    "# Assignment No.2"
   ]
  },
  {
   "cell_type": "markdown",
   "metadata": {},
   "source": [
    "## Question number 1"
   ]
  },
  {
   "cell_type": "markdown",
   "metadata": {},
   "source": [
    "### Question: Is there a relationship between anaemia and sex"
   ]
  },
  {
   "cell_type": "markdown",
   "metadata": {},
   "source": [
    "### Psuedocode\n",
    "- pull in anaemia and sex columns \n",
    "- count total anaemia for male\n",
    "- count total anaemia for female\n",
    "- calculate percentage for each gender"
   ]
  },
  {
   "cell_type": "markdown",
   "metadata": {},
   "source": [
    "### Single Line"
   ]
  },
  {
   "cell_type": "code",
   "execution_count": 20,
   "metadata": {},
   "outputs": [
    {
     "name": "stdout",
     "output_type": "stream",
     "text": [
      "<class 'pandas.core.frame.DataFrame'>\n",
      "RangeIndex: 299 entries, 0 to 298\n",
      "Data columns (total 13 columns):\n",
      " #   Column                    Non-Null Count  Dtype  \n",
      "---  ------                    --------------  -----  \n",
      " 0   age                       299 non-null    float64\n",
      " 1   anaemia                   299 non-null    int64  \n",
      " 2   creatinine_phosphokinase  299 non-null    int64  \n",
      " 3   diabetes                  299 non-null    int64  \n",
      " 4   ejection_fraction         299 non-null    int64  \n",
      " 5   high_blood_pressure       299 non-null    int64  \n",
      " 6   platelets                 299 non-null    float64\n",
      " 7   serum_creatinine          299 non-null    float64\n",
      " 8   serum_sodium              299 non-null    int64  \n",
      " 9   sex                       299 non-null    int64  \n",
      " 10  smoking                   299 non-null    int64  \n",
      " 11  time                      299 non-null    int64  \n",
      " 12  DEATH_EVENT               299 non-null    int64  \n",
      "dtypes: float64(3), int64(10)\n",
      "memory usage: 30.5 KB\n",
      "None\n"
     ]
    }
   ],
   "source": [
    "import pandas as pd\n",
    "heartfailure_ds = pd.read_csv(\"/workspaces/DS-3021/data/heart_failure.csv\")\n",
    "\n",
    "print(heartfailure_ds.info())"
   ]
  },
  {
   "cell_type": "code",
   "execution_count": 21,
   "metadata": {},
   "outputs": [
    {
     "data": {
      "text/html": [
       "<div>\n",
       "<style scoped>\n",
       "    .dataframe tbody tr th:only-of-type {\n",
       "        vertical-align: middle;\n",
       "    }\n",
       "\n",
       "    .dataframe tbody tr th {\n",
       "        vertical-align: top;\n",
       "    }\n",
       "\n",
       "    .dataframe thead th {\n",
       "        text-align: right;\n",
       "    }\n",
       "</style>\n",
       "<table border=\"1\" class=\"dataframe\">\n",
       "  <thead>\n",
       "    <tr style=\"text-align: right;\">\n",
       "      <th></th>\n",
       "      <th>age</th>\n",
       "      <th>anaemia</th>\n",
       "      <th>creatinine_phosphokinase</th>\n",
       "      <th>diabetes</th>\n",
       "      <th>ejection_fraction</th>\n",
       "      <th>high_blood_pressure</th>\n",
       "      <th>platelets</th>\n",
       "      <th>serum_creatinine</th>\n",
       "      <th>serum_sodium</th>\n",
       "      <th>sex</th>\n",
       "      <th>smoking</th>\n",
       "      <th>time</th>\n",
       "      <th>DEATH_EVENT</th>\n",
       "    </tr>\n",
       "  </thead>\n",
       "  <tbody>\n",
       "    <tr>\n",
       "      <th>0</th>\n",
       "      <td>75.0</td>\n",
       "      <td>0</td>\n",
       "      <td>582</td>\n",
       "      <td>0</td>\n",
       "      <td>20</td>\n",
       "      <td>1</td>\n",
       "      <td>265000.00</td>\n",
       "      <td>1.9</td>\n",
       "      <td>130</td>\n",
       "      <td>1</td>\n",
       "      <td>0</td>\n",
       "      <td>4</td>\n",
       "      <td>1</td>\n",
       "    </tr>\n",
       "    <tr>\n",
       "      <th>1</th>\n",
       "      <td>55.0</td>\n",
       "      <td>0</td>\n",
       "      <td>7861</td>\n",
       "      <td>0</td>\n",
       "      <td>38</td>\n",
       "      <td>0</td>\n",
       "      <td>263358.03</td>\n",
       "      <td>1.1</td>\n",
       "      <td>136</td>\n",
       "      <td>1</td>\n",
       "      <td>0</td>\n",
       "      <td>6</td>\n",
       "      <td>1</td>\n",
       "    </tr>\n",
       "    <tr>\n",
       "      <th>2</th>\n",
       "      <td>65.0</td>\n",
       "      <td>0</td>\n",
       "      <td>146</td>\n",
       "      <td>0</td>\n",
       "      <td>20</td>\n",
       "      <td>0</td>\n",
       "      <td>162000.00</td>\n",
       "      <td>1.3</td>\n",
       "      <td>129</td>\n",
       "      <td>1</td>\n",
       "      <td>1</td>\n",
       "      <td>7</td>\n",
       "      <td>1</td>\n",
       "    </tr>\n",
       "    <tr>\n",
       "      <th>3</th>\n",
       "      <td>50.0</td>\n",
       "      <td>1</td>\n",
       "      <td>111</td>\n",
       "      <td>0</td>\n",
       "      <td>20</td>\n",
       "      <td>0</td>\n",
       "      <td>210000.00</td>\n",
       "      <td>1.9</td>\n",
       "      <td>137</td>\n",
       "      <td>1</td>\n",
       "      <td>0</td>\n",
       "      <td>7</td>\n",
       "      <td>1</td>\n",
       "    </tr>\n",
       "    <tr>\n",
       "      <th>4</th>\n",
       "      <td>65.0</td>\n",
       "      <td>1</td>\n",
       "      <td>160</td>\n",
       "      <td>1</td>\n",
       "      <td>20</td>\n",
       "      <td>0</td>\n",
       "      <td>327000.00</td>\n",
       "      <td>2.7</td>\n",
       "      <td>116</td>\n",
       "      <td>0</td>\n",
       "      <td>0</td>\n",
       "      <td>8</td>\n",
       "      <td>1</td>\n",
       "    </tr>\n",
       "  </tbody>\n",
       "</table>\n",
       "</div>"
      ],
      "text/plain": [
       "    age  anaemia  creatinine_phosphokinase  diabetes  ejection_fraction  \\\n",
       "0  75.0        0                       582         0                 20   \n",
       "1  55.0        0                      7861         0                 38   \n",
       "2  65.0        0                       146         0                 20   \n",
       "3  50.0        1                       111         0                 20   \n",
       "4  65.0        1                       160         1                 20   \n",
       "\n",
       "   high_blood_pressure  platelets  serum_creatinine  serum_sodium  sex  \\\n",
       "0                    1  265000.00               1.9           130    1   \n",
       "1                    0  263358.03               1.1           136    1   \n",
       "2                    0  162000.00               1.3           129    1   \n",
       "3                    0  210000.00               1.9           137    1   \n",
       "4                    0  327000.00               2.7           116    0   \n",
       "\n",
       "   smoking  time  DEATH_EVENT  \n",
       "0        0     4            1  \n",
       "1        0     6            1  \n",
       "2        1     7            1  \n",
       "3        0     7            1  \n",
       "4        0     8            1  "
      ]
     },
     "execution_count": 21,
     "metadata": {},
     "output_type": "execute_result"
    }
   ],
   "source": [
    "heartfailure_ds.head()"
   ]
  },
  {
   "cell_type": "code",
   "execution_count": null,
   "metadata": {},
   "outputs": [],
   "source": [
    "#find where indiicates anaemia\n",
    "find_anaemiabysex = df.query(\"anaemia == 1 or anaemia == 0\")"
   ]
  },
  {
   "cell_type": "code",
   "execution_count": null,
   "metadata": {},
   "outputs": [],
   "source": [
    "#only need sex and anaemia\n",
    "sort_sexanaemia = find_anaemiabysex.sort_values(by=['sex', 'anaemia'])"
   ]
  },
  {
   "cell_type": "code",
   "execution_count": null,
   "metadata": {},
   "outputs": [],
   "source": [
    "#pick sex and anemia as variables\n",
    "pick_sexanaemia = sort_sexanaemia.loc[:, ['sex', 'anaemia']]"
   ]
  },
  {
   "cell_type": "code",
   "execution_count": null,
   "metadata": {},
   "outputs": [],
   "source": [
    "assign_sexanaemia = pick_sexanaemia.assign(anaemia_status=lambda x: x['anaemia'].map({0: 'No', 1: 'Yes'}))"
   ]
  },
  {
   "cell_type": "code",
   "execution_count": null,
   "metadata": {},
   "outputs": [],
   "source": [
    "#count number for each group and calculate the perentage \n",
    "grouped = assign_sexanaemia.groupby(['sex', 'anaemia']).size().unstack(fill_value=0)\n",
    "percentages = grouped.div(grouped.sum(axis=1), axis=0) * 100"
   ]
  },
  {
   "cell_type": "markdown",
   "metadata": {},
   "source": [
    "### Function"
   ]
  },
  {
   "cell_type": "code",
   "execution_count": 30,
   "metadata": {},
   "outputs": [
    {
     "name": "stdout",
     "output_type": "stream",
     "text": [
      "anaemia          0          1\n",
      "sex                          \n",
      "0        50.476190  49.523810\n",
      "1        60.309278  39.690722\n"
     ]
    }
   ],
   "source": [
    "import pandas as pd\n",
    "\n",
    "def anaemia_sex_analysis(df):\n",
    "    return (\n",
    "        df.query(\"anaemia == 1 or anaemia == 0\") \n",
    "          .sort_values(by=['sex', 'anaemia'])  \n",
    "          .loc[:, ['sex', 'anaemia']] \n",
    "          .assign(anaemia_status=lambda x: x['anaemia'].map({0: 'No', 1: 'Yes'}))  \n",
    "          .pipe(lambda assign_sexanaemia: assign_sexanaemia.groupby(['sex', 'anaemia']).size().unstack(fill_value=0))  \n",
    "          .pipe(lambda grouped: grouped.div(grouped.sum(axis=1), axis=0) * 100) \n",
    "    )\n",
    "\n",
    "percentages = anaemia_sex_analysis(heartfailure_ds)\n",
    "print(percentages)"
   ]
  },
  {
   "cell_type": "markdown",
   "metadata": {},
   "source": [
    "## Question number 2"
   ]
  },
  {
   "cell_type": "markdown",
   "metadata": {},
   "source": [
    "### Question: do people who have a habit of smoking have a higher chance of getting diabetes?"
   ]
  },
  {
   "cell_type": "markdown",
   "metadata": {},
   "source": [
    "### 2.2 Psuedocode\n",
    "- extract the two variables\n",
    "- calculate percentage of smokers with diabetes\n",
    "- calculate percentage of non-smokers with diabetes\n",
    "- compare and print in a table"
   ]
  },
  {
   "cell_type": "markdown",
   "metadata": {},
   "source": [
    "### Single Line"
   ]
  },
  {
   "cell_type": "code",
   "execution_count": null,
   "metadata": {},
   "outputs": [],
   "source": [
    "find_sd = df.query(\"smoking == 1 or smoking == 0\")"
   ]
  },
  {
   "cell_type": "code",
   "execution_count": null,
   "metadata": {},
   "outputs": [],
   "source": [
    "sort_sd = find_sd.sort_values(by=['smoking', 'diabetes'])"
   ]
  },
  {
   "cell_type": "code",
   "execution_count": null,
   "metadata": {},
   "outputs": [],
   "source": [
    "pick_sd = sort_sd.loc[:, ['smoking', 'diabetes']]"
   ]
  },
  {
   "cell_type": "code",
   "execution_count": null,
   "metadata": {},
   "outputs": [],
   "source": [
    "assign_sd = pick_sd.assign(smoking_status=lambda x: x['smoking'].map({0: 'No', 1: 'Yes'}))"
   ]
  },
  {
   "cell_type": "code",
   "execution_count": null,
   "metadata": {},
   "outputs": [],
   "source": [
    "grouped = assign_sd.groupby(['smoking', 'diabetes']).size().unstack(fill_value=0)\n",
    "percentages = grouped.div(grouped.sum(axis=1), axis=0) * 100"
   ]
  },
  {
   "cell_type": "markdown",
   "metadata": {},
   "source": [
    "### Function"
   ]
  },
  {
   "cell_type": "code",
   "execution_count": 31,
   "metadata": {},
   "outputs": [
    {
     "name": "stdout",
     "output_type": "stream",
     "text": [
      "diabetes         0         1\n",
      "smoking                     \n",
      "0         53.20197  46.79803\n",
      "1         68.75000  31.25000\n"
     ]
    }
   ],
   "source": [
    "import pandas as pd\n",
    "\n",
    "def smoking_diabetes_analysis(df):\n",
    "    return (\n",
    "        df.query(\"smoking == 1 or smoking == 0\")  \n",
    "          .sort_values(by=['smoking', 'diabetes'])  \n",
    "          .loc[:, ['smoking', 'diabetes']]  \n",
    "          .assign(smoking_status=lambda x: x['smoking'].map({0: 'No', 1: 'Yes'}))  \n",
    "          .pipe(lambda assign_sd: assign_sd.groupby(['smoking', 'diabetes']).size().unstack(fill_value=0)) \n",
    "          .pipe(lambda grouped: grouped.div(grouped.sum(axis=1), axis=0) * 100)  \n",
    "    )\n",
    "\n",
    "percentages = smoking_diabetes_analysis(heartfailure_ds)\n",
    "print(percentages)"
   ]
  },
  {
   "cell_type": "markdown",
   "metadata": {},
   "source": [
    "## Question number 3"
   ]
  },
  {
   "cell_type": "markdown",
   "metadata": {},
   "source": [
    "### Question: do students with stay at home mothers have longer study time?"
   ]
  },
  {
   "cell_type": "markdown",
   "metadata": {},
   "source": [
    "### psuedocode"
   ]
  },
  {
   "cell_type": "markdown",
   "metadata": {},
   "source": [
    "### Single Line"
   ]
  },
  {
   "cell_type": "code",
   "execution_count": 33,
   "metadata": {},
   "outputs": [],
   "source": [
    "import pandas as pd\n",
    "students_ds = pd.read_csv('/workspaces/DS-3021/data/student-mat-1.csv')"
   ]
  },
  {
   "cell_type": "code",
   "execution_count": null,
   "metadata": {},
   "outputs": [],
   "source": [
    "find_student = df.query(\"Mjob == 'at_home' or Mjob != 'at_home'\")"
   ]
  },
  {
   "cell_type": "code",
   "execution_count": null,
   "metadata": {},
   "outputs": [],
   "source": [
    "sort_student = find_student.sort_values(by=['Mjob', 'studytime'])"
   ]
  },
  {
   "cell_type": "code",
   "execution_count": null,
   "metadata": {},
   "outputs": [],
   "source": [
    "pick_student = sort_student.loc[:, ['Mjob', 'studytime']]"
   ]
  },
  {
   "cell_type": "code",
   "execution_count": null,
   "metadata": {},
   "outputs": [],
   "source": [
    "assign_student = pick_student.assign(mother_job_status=lambda x: x['Mjob'].map({'at_home': 'Stay-at-home', 'other': 'Other'}))"
   ]
  },
  {
   "cell_type": "code",
   "execution_count": null,
   "metadata": {},
   "outputs": [],
   "source": [
    "grouped = assign_student.groupby('Mjob')['studytime'].mean()"
   ]
  },
  {
   "cell_type": "markdown",
   "metadata": {},
   "source": [
    "### Function"
   ]
  },
  {
   "cell_type": "code",
   "execution_count": 35,
   "metadata": {},
   "outputs": [
    {
     "name": "stdout",
     "output_type": "stream",
     "text": [
      "Mjob\n",
      "at_home     2.101695\n",
      "health      2.000000\n",
      "other       2.028369\n",
      "services    2.029126\n",
      "teacher     2.017241\n",
      "Name: studytime, dtype: float64\n"
     ]
    }
   ],
   "source": [
    "import pandas as pd\n",
    "\n",
    "def studytime_mother_job_analysis(df):\n",
    "    return (\n",
    "        df.query(\"Mjob == 'at_home' or Mjob != 'at_home'\")  \n",
    "          .sort_values(by=['Mjob', 'studytime'])  \n",
    "          .loc[:, ['Mjob', 'studytime']]  \n",
    "          .assign(mother_job_status=lambda x: x['Mjob'].map({'at_home': 'Stay-at-home', 'other': 'Other'}))  \n",
    "          .groupby('Mjob')['studytime'].mean()  )\n",
    "\n",
    "average_studytime = studytime_mother_job_analysis(students_ds)\n",
    "print(average_studytime)"
   ]
  },
  {
   "cell_type": "markdown",
   "metadata": {},
   "source": [
    "## Question number 4"
   ]
  },
  {
   "cell_type": "markdown",
   "metadata": {},
   "source": [
    "### Question: do parents' education levels affect their children's (students') academic perforamnce?"
   ]
  },
  {
   "cell_type": "markdown",
   "metadata": {},
   "source": [
    "### Sudo code:\n",
    "- pull data from medu and fedu and compare to students' grades (g1,g2,g3)\n",
    "- find the avergae grade of students corresponding to their parents' education level"
   ]
  },
  {
   "cell_type": "markdown",
   "metadata": {},
   "source": [
    "### Single Line:"
   ]
  },
  {
   "cell_type": "code",
   "execution_count": null,
   "metadata": {},
   "outputs": [],
   "source": [
    "find_parents = df.query(\"Medu >= 0 and Fedu >= 0\")"
   ]
  },
  {
   "cell_type": "code",
   "execution_count": null,
   "metadata": {},
   "outputs": [],
   "source": [
    "sort_parents = find_parents.sort_values(by=['Medu', 'Fedu'])"
   ]
  },
  {
   "cell_type": "code",
   "execution_count": null,
   "metadata": {},
   "outputs": [],
   "source": [
    "pick_parents = sort_parents.loc[:, ['Medu', 'Fedu', 'G1', 'G2', 'G3']]"
   ]
  },
  {
   "cell_type": "code",
   "execution_count": null,
   "metadata": {},
   "outputs": [],
   "source": [
    "assign_parents = pick_parents.assign(avg_grade=lambda x: (x['G1'] + x['G2'] + x['G3']) / 3)"
   ]
  },
  {
   "cell_type": "code",
   "execution_count": null,
   "metadata": {},
   "outputs": [],
   "source": [
    "grouped = assign_parents.groupby(['Medu', 'Fedu'])['avg_grade'].mean()"
   ]
  },
  {
   "cell_type": "markdown",
   "metadata": {},
   "source": [
    "### Function:"
   ]
  },
  {
   "cell_type": "code",
   "execution_count": 43,
   "metadata": {},
   "outputs": [
    {
     "name": "stdout",
     "output_type": "stream",
     "text": [
      "Medu\n",
      "0    12.555556\n",
      "1     9.197740\n",
      "2    10.216828\n",
      "3    10.451178\n",
      "4    11.839695\n",
      "Name: avg_grade, dtype: float64\n",
      "Fedu\n",
      "0    12.666667\n",
      "1     9.426829\n",
      "2    10.721739\n",
      "3    10.716667\n",
      "4    11.618056\n",
      "Name: avg_grade, dtype: float64\n"
     ]
    }
   ],
   "source": [
    "import pandas as pd\n",
    "\n",
    "def parents_edu(df):\n",
    "    return (\n",
    "        df.query(\"Medu >= 0 and Fedu >= 0\")  \n",
    "          .sort_values(by=['Medu', 'Fedu'])  \n",
    "          .loc[:, ['Medu', 'Fedu', 'G1', 'G2', 'G3']]  \n",
    "          .assign(avg_grade=lambda x: (x['G1'] + x['G2'] + x['G3']) / 3)  \n",
    "          .pipe(lambda assign_parents: (\n",
    "              assign_parents.groupby('Medu')['avg_grade'].mean(),  \n",
    "              assign_parents.groupby('Fedu')['avg_grade'].mean()   \n",
    "          ))\n",
    "    )\n",
    "\n",
    "mother_edu, father_edu = parents_edu(students_dataset)\n",
    "print(mother_edu) \n",
    "print(father_edu)"
   ]
  }
 ],
 "metadata": {
  "kernelspec": {
   "display_name": "Python 3",
   "language": "python",
   "name": "python3"
  },
  "language_info": {
   "codemirror_mode": {
    "name": "ipython",
    "version": 3
   },
   "file_extension": ".py",
   "mimetype": "text/x-python",
   "name": "python",
   "nbconvert_exporter": "python",
   "pygments_lexer": "ipython3",
   "version": "2.7.undefined"
  }
 },
 "nbformat": 4,
 "nbformat_minor": 2
}
